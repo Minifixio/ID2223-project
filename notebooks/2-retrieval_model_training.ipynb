{
 "cells": [
  {
   "cell_type": "code",
   "execution_count": 38,
   "metadata": {},
   "outputs": [],
   "source": [
    "from sklearn.preprocessing import normalize\n",
    "import tensorflow as tf\n",
    "from tensorflow.keras import layers, Model\n",
    "from sklearn.metrics.pairwise import cosine_similarity\n",
    "import numpy as np\n",
    "import hopsworks\n",
    "import os"
   ]
  },
  {
   "cell_type": "code",
   "execution_count": 39,
   "metadata": {},
   "outputs": [],
   "source": [
    "if os.getenv('HOPSWORKS_API_KEY') is not None:\n",
    "    HOPSWORKS_API_KEY = os.getenv('HOPSWORKS_API_KEY')\n",
    "else:\n",
    "    with open('../secrets/hopsworks_api_key.txt', 'r') as file:\n",
    "        HOPSWORKS_API_KEY = file.readline().strip()"
   ]
  },
  {
   "cell_type": "code",
   "execution_count": 40,
   "metadata": {},
   "outputs": [
    {
     "name": "stdout",
     "output_type": "stream",
     "text": [
      "2025-01-09 18:14:51,945 INFO: Closing external client and cleaning up certificates.\n",
      "Connection closed.\n",
      "2025-01-09 18:14:52,068 INFO: Initializing external client\n",
      "2025-01-09 18:14:52,069 INFO: Base URL: https://c.app.hopsworks.ai:443\n",
      "2025-01-09 18:14:53,453 INFO: Python Engine initialized.\n",
      "\n",
      "Logged in to project, explore it here https://c.app.hopsworks.ai:443/p/1208515\n"
     ]
    }
   ],
   "source": [
    "project = hopsworks.login(api_key_value=HOPSWORKS_API_KEY)\n",
    "fs = project.get_feature_store() "
   ]
  },
  {
   "cell_type": "code",
   "execution_count": 41,
   "metadata": {},
   "outputs": [
    {
     "name": "stdout",
     "output_type": "stream",
     "text": [
      "Finished: Reading data from Hopsworks, using Hopsworks Feature Query Service (1.83s) \n",
      "A total of 192 user embeddings are available.\n"
     ]
    },
    {
     "data": {
      "text/html": [
       "<div>\n",
       "<style scoped>\n",
       "    .dataframe tbody tr th:only-of-type {\n",
       "        vertical-align: middle;\n",
       "    }\n",
       "\n",
       "    .dataframe tbody tr th {\n",
       "        vertical-align: top;\n",
       "    }\n",
       "\n",
       "    .dataframe thead th {\n",
       "        text-align: right;\n",
       "    }\n",
       "</style>\n",
       "<table border=\"1\" class=\"dataframe\">\n",
       "  <thead>\n",
       "    <tr style=\"text-align: right;\">\n",
       "      <th></th>\n",
       "      <th>user_id</th>\n",
       "      <th>genre_embedding</th>\n",
       "      <th>artist_embedding</th>\n",
       "      <th>playlist_embedding</th>\n",
       "      <th>release_year_embedding</th>\n",
       "    </tr>\n",
       "  </thead>\n",
       "  <tbody>\n",
       "    <tr>\n",
       "      <th>0</th>\n",
       "      <td>31imc4msmvetbl26gly5n55jbkka</td>\n",
       "      <td>[0.1219930648803711, 0.1214483454823494, -0.27...</td>\n",
       "      <td>[0.28332215547561646, -0.15212738513946533, -0...</td>\n",
       "      <td>[0.1219930648803711, 0.1214483454823494, -0.27...</td>\n",
       "      <td>[2018.0]</td>\n",
       "    </tr>\n",
       "    <tr>\n",
       "      <th>1</th>\n",
       "      <td>31tgsl3dejcqihle3pv7o6eeng2a</td>\n",
       "      <td>[-0.3863714933395386, -0.5621631145477295, 0.1...</td>\n",
       "      <td>[0.3942939341068268, -0.33002883195877075, 0.3...</td>\n",
       "      <td>[-0.7064403295516968, -0.9494979381561279, 0.1...</td>\n",
       "      <td>[2019.9066666666668]</td>\n",
       "    </tr>\n",
       "    <tr>\n",
       "      <th>2</th>\n",
       "      <td>31fg5ma4zjh37mcqzto3xt2sxc3a</td>\n",
       "      <td>[-0.31446775794029236, -0.2531762421131134, 0....</td>\n",
       "      <td>[-0.29996415972709656, 0.5447441339492798, 0.0...</td>\n",
       "      <td>[-0.31446775794029236, -0.2531762421131134, 0....</td>\n",
       "      <td>[2019.0]</td>\n",
       "    </tr>\n",
       "    <tr>\n",
       "      <th>3</th>\n",
       "      <td>31h7ml3xiavflj5n7d4av5u5xaie</td>\n",
       "      <td>[-0.3711507022380829, -0.19814574718475342, -0...</td>\n",
       "      <td>[-0.09817744046449661, 0.1808864027261734, -0....</td>\n",
       "      <td>[-0.5167202949523926, -0.22468358278274536, -0...</td>\n",
       "      <td>[2019.8850574712644]</td>\n",
       "    </tr>\n",
       "    <tr>\n",
       "      <th>4</th>\n",
       "      <td>31frxab22c2ez34gnfggtqqsnope</td>\n",
       "      <td>[0.14112409949302673, 0.12898339331150055, -0....</td>\n",
       "      <td>[-0.010701656341552734, 0.32390376925468445, -...</td>\n",
       "      <td>[0.26713827252388, 0.21868111193180084, -0.577...</td>\n",
       "      <td>[2017.2272727272727]</td>\n",
       "    </tr>\n",
       "  </tbody>\n",
       "</table>\n",
       "</div>"
      ],
      "text/plain": [
       "                        user_id  \\\n",
       "0  31imc4msmvetbl26gly5n55jbkka   \n",
       "1  31tgsl3dejcqihle3pv7o6eeng2a   \n",
       "2  31fg5ma4zjh37mcqzto3xt2sxc3a   \n",
       "3  31h7ml3xiavflj5n7d4av5u5xaie   \n",
       "4  31frxab22c2ez34gnfggtqqsnope   \n",
       "\n",
       "                                     genre_embedding  \\\n",
       "0  [0.1219930648803711, 0.1214483454823494, -0.27...   \n",
       "1  [-0.3863714933395386, -0.5621631145477295, 0.1...   \n",
       "2  [-0.31446775794029236, -0.2531762421131134, 0....   \n",
       "3  [-0.3711507022380829, -0.19814574718475342, -0...   \n",
       "4  [0.14112409949302673, 0.12898339331150055, -0....   \n",
       "\n",
       "                                    artist_embedding  \\\n",
       "0  [0.28332215547561646, -0.15212738513946533, -0...   \n",
       "1  [0.3942939341068268, -0.33002883195877075, 0.3...   \n",
       "2  [-0.29996415972709656, 0.5447441339492798, 0.0...   \n",
       "3  [-0.09817744046449661, 0.1808864027261734, -0....   \n",
       "4  [-0.010701656341552734, 0.32390376925468445, -...   \n",
       "\n",
       "                                  playlist_embedding release_year_embedding  \n",
       "0  [0.1219930648803711, 0.1214483454823494, -0.27...               [2018.0]  \n",
       "1  [-0.7064403295516968, -0.9494979381561279, 0.1...   [2019.9066666666668]  \n",
       "2  [-0.31446775794029236, -0.2531762421131134, 0....               [2019.0]  \n",
       "3  [-0.5167202949523926, -0.22468358278274536, -0...   [2019.8850574712644]  \n",
       "4  [0.26713827252388, 0.21868111193180084, -0.577...   [2017.2272727272727]  "
      ]
     },
     "execution_count": 41,
     "metadata": {},
     "output_type": "execute_result"
    }
   ],
   "source": [
    "user_embeddings_fg = fs.get_feature_group(\n",
    "    name='spotify_user_embeddings',\n",
    "    version=2,\n",
    ")\n",
    "\n",
    "user_embeddings_df = user_embeddings_fg.read()\n",
    "print(f\"A total of {len(user_embeddings_df)} user embeddings are available.\")\n",
    "user_embeddings_df.head()"
   ]
  },
  {
   "cell_type": "code",
   "execution_count": 42,
   "metadata": {},
   "outputs": [],
   "source": [
    "import pandas as pd\n",
    "import torch\n",
    "from torch.utils.data import Dataset, DataLoader\n",
    "import json\n",
    "import torch.nn as nn"
   ]
  },
  {
   "cell_type": "code",
   "execution_count": 43,
   "metadata": {},
   "outputs": [
    {
     "name": "stdout",
     "output_type": "stream",
     "text": [
      "2025-01-09 18:15:05,246 WARNING: UserWarning: Creating a tensor from a list of numpy.ndarrays is extremely slow. Please consider converting the list to a single numpy.ndarray with numpy.array() before converting to a tensor. (Triggered internally at /Users/runner/work/pytorch/pytorch/pytorch/torch/csrc/utils/tensor_new.cpp:278.)\n",
      "\n"
     ]
    }
   ],
   "source": [
    "user_embeddings_df['genre_embedding'] = user_embeddings_df['genre_embedding'].apply(\n",
    "    lambda x: torch.tensor(x, dtype=torch.float)\n",
    ")\n",
    "user_embeddings_df['artist_embedding'] = user_embeddings_df['artist_embedding'].apply(\n",
    "    lambda x: torch.tensor(x, dtype=torch.float)\n",
    ")\n",
    "user_embeddings_df['playlist_embedding'] = user_embeddings_df['playlist_embedding'].apply(\n",
    "    lambda x: torch.tensor(x, dtype=torch.float)\n",
    ")\n",
    "user_embeddings_df['release_year_embedding'] = user_embeddings_df['release_year_embedding'].apply(lambda x: torch.tensor([x], dtype=torch.float))"
   ]
  },
  {
   "cell_type": "code",
   "execution_count": 44,
   "metadata": {},
   "outputs": [],
   "source": [
    "class EmbeddingDataset(Dataset):\n",
    "    def __init__(self, dataframe):\n",
    "        self.data = dataframe\n",
    "\n",
    "    def __len__(self):\n",
    "        return len(self.data)\n",
    "\n",
    "    def __getitem__(self, idx):\n",
    "        user_id = self.data.iloc[idx]['user_id']\n",
    "        genre_embedding = self.data.iloc[idx]['genre_embedding']\n",
    "        artist_embedding = self.data.iloc[idx]['artist_embedding']\n",
    "        playlist_embedding = self.data.iloc[idx]['playlist_embedding']\n",
    "        return user_id, genre_embedding, artist_embedding, playlist_embedding\n",
    "\n",
    "\n",
    "class Tower(nn.Module):\n",
    "    def __init__(self, input_dim, output_dim):\n",
    "        super(Tower, self).__init__()\n",
    "        self.fc = nn.Sequential(\n",
    "            nn.Linear(input_dim, 128),\n",
    "            nn.ReLU(),\n",
    "            nn.Linear(128, output_dim)\n",
    "        )\n",
    "\n",
    "    def forward(self, x):\n",
    "        return self.fc(x)\n",
    "\n",
    "class TwoTowerModel(nn.Module):\n",
    "    def __init__(self, embedding_dim, output_dim):\n",
    "        super(TwoTowerModel, self).__init__()\n",
    "        # Separate processing for each embedding type\n",
    "        self.genre_fc = Tower(input_dim=embedding_dim, output_dim=output_dim)\n",
    "        self.artist_fc = Tower(input_dim=embedding_dim, output_dim=output_dim)\n",
    "        self.playlist_fc = Tower(input_dim=embedding_dim, output_dim=output_dim)\n",
    "        \n",
    "        # Joint Tower for final embedding\n",
    "        self.fc_merge = nn.Sequential(\n",
    "            nn.Linear(output_dim * 3, 128),\n",
    "            nn.ReLU(),\n",
    "            nn.Linear(128, output_dim)\n",
    "        )\n",
    "        \n",
    "    def forward(self, genre, artist, playlist):\n",
    "        genre_embed = self.genre_fc(genre)\n",
    "        artist_embed = self.artist_fc(artist)\n",
    "        playlist_embed = self.playlist_fc(playlist)\n",
    "        \n",
    "        # Concatenate embeddings and pass through final layers\n",
    "        combined = torch.cat([genre_embed, artist_embed, playlist_embed], dim=-1)\n",
    "        final_embed = self.fc_merge(combined)\n",
    "        return final_embed\n",
    "\n",
    "    def compute_similarity(self, query_embedding, database_embedding):\n",
    "        # Cosine similarity for comparison\n",
    "        return torch.nn.functional.cosine_similarity(query_embedding, database_embedding)\n",
    "\n"
   ]
  },
  {
   "cell_type": "code",
   "execution_count": 45,
   "metadata": {},
   "outputs": [
    {
     "name": "stdout",
     "output_type": "stream",
     "text": [
      "torch.Size([384])\n",
      "Epoch 1, Loss: 0.14455203711986542\n",
      "Epoch 2, Loss: 0.13911998830735683\n",
      "Epoch 3, Loss: 0.146803455427289\n",
      "Epoch 4, Loss: 0.13988189585506916\n",
      "Epoch 5, Loss: 0.14928926154971123\n",
      "Epoch 6, Loss: 0.14081386663019657\n",
      "Epoch 7, Loss: 0.14487585425376892\n",
      "Epoch 8, Loss: 0.1427348032593727\n",
      "Epoch 9, Loss: 0.14560957998037338\n",
      "Epoch 10, Loss: 0.147005470469594\n",
      "Epoch 11, Loss: 0.1354917697608471\n",
      "Epoch 12, Loss: 0.13710320927202702\n",
      "Epoch 13, Loss: 0.1370595544576645\n",
      "Epoch 14, Loss: 0.14349603280425072\n",
      "Epoch 15, Loss: 0.13999547064304352\n",
      "Epoch 16, Loss: 0.1417810656130314\n",
      "Epoch 17, Loss: 0.14545726589858532\n",
      "Epoch 18, Loss: 0.14155980199575424\n",
      "Epoch 19, Loss: 0.14047716185450554\n",
      "Epoch 20, Loss: 0.13836096972227097\n",
      "Epoch 21, Loss: 0.1461825668811798\n",
      "Epoch 22, Loss: 0.1480455193668604\n",
      "Epoch 23, Loss: 0.1432174388319254\n",
      "Epoch 24, Loss: 0.14932548627257347\n",
      "Epoch 25, Loss: 0.1438207607716322\n",
      "Epoch 26, Loss: 0.14593925885856152\n",
      "Epoch 27, Loss: 0.14979504235088825\n",
      "Epoch 28, Loss: 0.14274504780769348\n",
      "Epoch 29, Loss: 0.14263984933495522\n",
      "Epoch 30, Loss: 0.1403715666383505\n",
      "Epoch 31, Loss: 0.1347888745367527\n",
      "Epoch 32, Loss: 0.14176210574805737\n",
      "Epoch 33, Loss: 0.14359189569950104\n",
      "Epoch 34, Loss: 0.1424668002873659\n",
      "Epoch 35, Loss: 0.13803826458752155\n",
      "Epoch 36, Loss: 0.14622838981449604\n",
      "Epoch 37, Loss: 0.14195937849581242\n",
      "Epoch 38, Loss: 0.14098535664379597\n",
      "Epoch 39, Loss: 0.1420054603368044\n",
      "Epoch 40, Loss: 0.14414793998003006\n",
      "Epoch 41, Loss: 0.1388998758047819\n",
      "Epoch 42, Loss: 0.14523342810571194\n",
      "Epoch 43, Loss: 0.13513263501226902\n",
      "Epoch 44, Loss: 0.13801426999270916\n",
      "Epoch 45, Loss: 0.14542661607265472\n",
      "Epoch 46, Loss: 0.14560651406645775\n",
      "Epoch 47, Loss: 0.1326840054243803\n",
      "Epoch 48, Loss: 0.13503936119377613\n",
      "Epoch 49, Loss: 0.13977807015180588\n",
      "Epoch 50, Loss: 0.1423535943031311\n",
      "Epoch 51, Loss: 0.13486811518669128\n",
      "Epoch 52, Loss: 0.1421558279544115\n",
      "Epoch 53, Loss: 0.1351490579545498\n",
      "Epoch 54, Loss: 0.14635778777301311\n",
      "Epoch 55, Loss: 0.14638997241854668\n",
      "Epoch 56, Loss: 0.14029206335544586\n",
      "Epoch 57, Loss: 0.14412048645317554\n",
      "Epoch 58, Loss: 0.14071189984679222\n",
      "Epoch 59, Loss: 0.14349936321377754\n",
      "Epoch 60, Loss: 0.1391748394817114\n",
      "Epoch 61, Loss: 0.14615116268396378\n",
      "Epoch 62, Loss: 0.1429968923330307\n",
      "Epoch 63, Loss: 0.14186341129243374\n",
      "Epoch 64, Loss: 0.14169367775321007\n",
      "Epoch 65, Loss: 0.141275467351079\n",
      "Epoch 66, Loss: 0.14245124347507954\n",
      "Epoch 67, Loss: 0.15183598548173904\n",
      "Epoch 68, Loss: 0.14613431692123413\n",
      "Epoch 69, Loss: 0.13931873627007008\n",
      "Epoch 70, Loss: 0.1333707869052887\n",
      "Epoch 71, Loss: 0.14631796441972256\n",
      "Epoch 72, Loss: 0.13899949379265308\n",
      "Epoch 73, Loss: 0.14014031738042831\n",
      "Epoch 74, Loss: 0.14596327766776085\n",
      "Epoch 75, Loss: 0.14648352190852165\n",
      "Epoch 76, Loss: 0.14355970546603203\n",
      "Epoch 77, Loss: 0.14327466674149036\n",
      "Epoch 78, Loss: 0.15230065025389194\n",
      "Epoch 79, Loss: 0.1412212084978819\n",
      "Epoch 80, Loss: 0.14369163662195206\n",
      "Epoch 81, Loss: 0.14446414075791836\n",
      "Epoch 82, Loss: 0.14136797562241554\n",
      "Epoch 83, Loss: 0.14804324880242348\n",
      "Epoch 84, Loss: 0.14597415179014206\n",
      "Epoch 85, Loss: 0.14001566730439663\n",
      "Epoch 86, Loss: 0.13378449901938438\n",
      "Epoch 87, Loss: 0.13989897817373276\n",
      "Epoch 88, Loss: 0.13439601100981236\n",
      "Epoch 89, Loss: 0.13930912129580975\n",
      "Epoch 90, Loss: 0.1418971698731184\n",
      "Epoch 91, Loss: 0.14105895906686783\n",
      "Epoch 92, Loss: 0.13717418909072876\n",
      "Epoch 93, Loss: 0.1422259844839573\n",
      "Epoch 94, Loss: 0.13924082554876804\n",
      "Epoch 95, Loss: 0.14197914488613605\n",
      "Epoch 96, Loss: 0.14069587364792824\n",
      "Epoch 97, Loss: 0.14625430665910244\n",
      "Epoch 98, Loss: 0.13623292185366154\n",
      "Epoch 99, Loss: 0.14570219442248344\n",
      "Epoch 100, Loss: 0.1483208741992712\n"
     ]
    }
   ],
   "source": [
    "# Initialize model\n",
    "df = user_embeddings_df\n",
    "print(df['genre_embedding'][0].shape)\n",
    "embedding_dim = len(df['genre_embedding'][0])  # Assuming all embeddings have the same dimension\n",
    "output_dim = 64\n",
    "margin = 0.5\n",
    "\n",
    "model = TwoTowerModel(embedding_dim=embedding_dim, output_dim=output_dim)\n",
    "criterion = nn.CosineEmbeddingLoss()\n",
    "optimizer = torch.optim.Adam(model.parameters(), lr=1/10e9, weight_decay=1e-5)\n",
    "\n",
    "# Prepare dataset and dataloader\n",
    "train_dataset = EmbeddingDataset(df)\n",
    "train_loader = DataLoader(train_dataset, batch_size=32, shuffle=True)\n",
    "\n",
    "# Dummy negative sampling (replace with actual negatives)\n",
    "def negative_sample(batch_size, df):\n",
    "    # Randomly sample other embeddings as negatives\n",
    "    sampled = df.sample(batch_size)  # Ensure the sample size matches the batch size\n",
    "    return torch.stack(sampled['genre_embedding'].tolist()), \\\n",
    "           torch.stack(sampled['artist_embedding'].tolist()), \\\n",
    "           torch.stack(sampled['playlist_embedding'].tolist())\n",
    "\n",
    "\n",
    "# Training loop\n",
    "for epoch in range(100):\n",
    "    total_loss = 0\n",
    "    for user_ids, genres, artists, playlists in train_loader:\n",
    "        # Ensure embeddings are converted to tensors\n",
    "        genres = torch.tensor(genres.tolist(), dtype=torch.float32)\n",
    "        artists = torch.tensor(artists.tolist(), dtype=torch.float32)\n",
    "        playlists = torch.tensor(playlists.tolist(), dtype=torch.float32)\n",
    "        \n",
    "        # Generate negative samples\n",
    "        neg_genres, neg_artists, neg_playlists = negative_sample(len(genres), df)\n",
    "        \n",
    "        # Forward pass for positives and negatives\n",
    "        positive_embed = model(genres, artists, playlists)\n",
    "        negative_embed = model(neg_genres, neg_artists, neg_playlists)\n",
    "        \n",
    "        # Create labels for the current batch size\n",
    "        labels = torch.ones(positive_embed.size(0))\n",
    "        \n",
    "        # Calculate loss - note we're using just one pair of embeddings and their labels\n",
    "        loss = criterion(positive_embed, negative_embed, labels)\n",
    "        \n",
    "        # Backward pass\n",
    "        optimizer.zero_grad()\n",
    "        loss.backward()\n",
    "        optimizer.step()\n",
    "        \n",
    "        total_loss += loss.item()\n",
    "    \n",
    "    print(f\"Epoch {epoch + 1}, Loss: {total_loss}\")\n"
   ]
  },
  {
   "cell_type": "code",
   "execution_count": 50,
   "metadata": {},
   "outputs": [
    {
     "name": "stdout",
     "output_type": "stream",
     "text": [
      "Top K Similar Embeddings: tensor([ 19, 173,   8, 121])\n",
      "Similarity Scores: tensor([0.9877, 0.9866, 0.9846, 0.9837])\n"
     ]
    }
   ],
   "source": [
    "def find_similar_embedding(query_genre, query_artist, query_playlist, database, model, top_k=5):\n",
    "    model.eval()\n",
    "    with torch.no_grad():\n",
    "        query_embedding = model(query_genre.unsqueeze(0), query_artist.unsqueeze(0), query_playlist.unsqueeze(0))\n",
    "        \n",
    "        # Compute embeddings for all database entries\n",
    "        db_genres = torch.stack(database['genre_embedding'].tolist())\n",
    "        db_artists = torch.stack(database['artist_embedding'].tolist())\n",
    "        db_playlists = torch.stack(database['playlist_embedding'].tolist())\n",
    "        db_embeddings = model(db_genres, db_artists, db_playlists)\n",
    "        \n",
    "        # Compute similarities\n",
    "        similarities = torch.nn.functional.cosine_similarity(query_embedding, db_embeddings)\n",
    "        top_k_indices = torch.topk(similarities, k=top_k).indices\n",
    "        return top_k_indices, similarities[top_k_indices]\n",
    "\n",
    "# Example usage\n",
    "index_to_query = 5\n",
    "query_genre = df['genre_embedding'][index_to_query]\n",
    "query_artist = df['artist_embedding'][index_to_query]\n",
    "query_playlist = df['playlist_embedding'][index_to_query]\n",
    "\n",
    "top_k_indices, scores = find_similar_embedding(query_genre, query_artist, query_playlist, df, model)\n",
    "# Remove index_to_query from the top_k_indices and also remove its score\n",
    "index_to_query_index = np.where(top_k_indices == index_to_query)[0][0]\n",
    "top_k_indices = np.delete(top_k_indices, index_to_query_index)\n",
    "scores = np.delete(scores, index_to_query_index)\n",
    "\n",
    "print(\"Top K Similar Embeddings:\", top_k_indices)\n",
    "print(\"Similarity Scores:\", scores)"
   ]
  },
  {
   "cell_type": "code",
   "execution_count": 47,
   "metadata": {},
   "outputs": [],
   "source": [
    "model_dir = \"torch_model\"\n",
    "os.makedirs(model_dir, exist_ok=True)\n",
    "\n",
    "# Save the model and metadata\n",
    "torch.save({\n",
    "    'model_state_dict': model.state_dict(),\n",
    "    'embedding_dim': embedding_dim,\n",
    "    'output_dim': output_dim,\n",
    "}, os.path.join(model_dir, 'two_tower_model_torch.pth'))"
   ]
  },
  {
   "cell_type": "code",
   "execution_count": 48,
   "metadata": {},
   "outputs": [
    {
     "data": {
      "application/vnd.jupyter.widget-view+json": {
       "model_id": "89768837ad6046d9917e709a66141748",
       "version_major": 2,
       "version_minor": 0
      },
      "text/plain": [
       "  0%|          | 0/6 [00:00<?, ?it/s]"
      ]
     },
     "metadata": {},
     "output_type": "display_data"
    },
    {
     "data": {
      "application/vnd.jupyter.widget-view+json": {
       "model_id": "bf8ad95279144984b0d7e811dcc8eecf",
       "version_major": 2,
       "version_minor": 0
      },
      "text/plain": [
       "Uploading: 0.000%|          | 0/828414 elapsed<00:00 remaining<?"
      ]
     },
     "metadata": {},
     "output_type": "display_data"
    },
    {
     "data": {
      "application/vnd.jupyter.widget-view+json": {
       "model_id": "f7fef09935e4483594d50a299f47430b",
       "version_major": 2,
       "version_minor": 0
      },
      "text/plain": [
       "Uploading: 0.000%|          | 0/828294 elapsed<00:00 remaining<?"
      ]
     },
     "metadata": {},
     "output_type": "display_data"
    },
    {
     "data": {
      "application/vnd.jupyter.widget-view+json": {
       "model_id": "9c6c02cc83a74fc78db91b8a1bc504f6",
       "version_major": 2,
       "version_minor": 0
      },
      "text/plain": [
       "Uploading: 0.000%|          | 0/24563 elapsed<00:00 remaining<?"
      ]
     },
     "metadata": {},
     "output_type": "display_data"
    },
    {
     "name": "stdout",
     "output_type": "stream",
     "text": [
      "Model created, explore it at https://c.app.hopsworks.ai:443/p/1208515/models/two_tower_model_torch/1\n"
     ]
    },
    {
     "data": {
      "text/plain": [
       "Model(name: 'two_tower_model_torch', version: 1)"
      ]
     },
     "execution_count": 48,
     "metadata": {},
     "output_type": "execute_result"
    }
   ],
   "source": [
    "# Get the model registry handle\n",
    "mr = project.get_model_registry()\n",
    "model_registry = mr.get_model(\"two_tower_model_torch\", version=1) \n",
    "model_registry.delete()\n",
    "\n",
    "# Create the model metadata object\n",
    "torch_model = mr.torch.create_model(\n",
    "    name=\"two_tower_model_torch\",\n",
    "    metrics={'final_loss': total_loss},  # You can add your training metrics here\n",
    "    description=\"Two-tower model for music recommendations\",\n",
    "    version=1,\n",
    "    input_example={\n",
    "        'genre_embedding': genres[0].numpy().tolist(),\n",
    "        'artist_embedding': artists[0].numpy().tolist(),\n",
    "        'playlist_embedding': playlists[0].numpy().tolist()\n",
    "    }\n",
    ")\n",
    "\n",
    "# Save the model to the registry\n",
    "torch_model.save(model_dir)"
   ]
  }
 ],
 "metadata": {
  "kernelspec": {
   "display_name": "Python 3",
   "language": "python",
   "name": "python3"
  },
  "language_info": {
   "codemirror_mode": {
    "name": "ipython",
    "version": 3
   },
   "file_extension": ".py",
   "mimetype": "text/x-python",
   "name": "python",
   "nbconvert_exporter": "python",
   "pygments_lexer": "ipython3",
   "version": "3.10.13"
  }
 },
 "nbformat": 4,
 "nbformat_minor": 4
}
