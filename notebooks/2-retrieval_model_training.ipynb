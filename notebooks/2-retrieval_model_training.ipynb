{
 "cells": [
  {
   "cell_type": "code",
   "execution_count": null,
   "metadata": {},
   "outputs": [],
   "source": [
    "from sklearn.preprocessing import normalize\n",
    "import tensorflow as tf\n",
    "from tensorflow.keras import layers, Model\n",
    "from sklearn.metrics.pairwise import cosine_similarity\n",
    "import numpy as np\n",
    "import hopsworks\n",
    "import os"
   ]
  },
  {
   "cell_type": "code",
   "execution_count": 81,
   "metadata": {},
   "outputs": [],
   "source": [
    "if os.getenv('HOPSWORKS_API_KEY') is not None:\n",
    "    HOPSWORKS_API_KEY = os.getenv('HOPSWORKS_API_KEY')\n",
    "else:\n",
    "    with open('../secrets/hopsworks_api_key.txt', 'r') as file:\n",
    "        HOPSWORKS_API_KEY = file.readline().strip()"
   ]
  },
  {
   "cell_type": "code",
   "execution_count": 63,
   "metadata": {},
   "outputs": [
    {
     "name": "stdout",
     "output_type": "stream",
     "text": [
      "2025-01-04 08:00:18,349 INFO: Closing external client and cleaning up certificates.\n",
      "Connection closed.\n",
      "2025-01-04 08:00:18,410 INFO: Initializing external client\n",
      "2025-01-04 08:00:18,410 INFO: Base URL: https://c.app.hopsworks.ai:443\n",
      "2025-01-04 08:00:19,578 INFO: Python Engine initialized.\n",
      "\n",
      "Logged in to project, explore it here https://c.app.hopsworks.ai:443/p/1208515\n"
     ]
    }
   ],
   "source": [
    "project = hopsworks.login(api_key_value=HOPSWORKS_API_KEY)\n",
    "fs = project.get_feature_store() "
   ]
  },
  {
   "cell_type": "code",
   "execution_count": 67,
   "metadata": {},
   "outputs": [
    {
     "name": "stdout",
     "output_type": "stream",
     "text": [
      "Finished: Reading data from Hopsworks, using Hopsworks Feature Query Service (1.16s) \n",
      "A total of 102 user embeddings are available.\n"
     ]
    },
    {
     "data": {
      "text/html": [
       "<div>\n",
       "<style scoped>\n",
       "    .dataframe tbody tr th:only-of-type {\n",
       "        vertical-align: middle;\n",
       "    }\n",
       "\n",
       "    .dataframe tbody tr th {\n",
       "        vertical-align: top;\n",
       "    }\n",
       "\n",
       "    .dataframe thead th {\n",
       "        text-align: right;\n",
       "    }\n",
       "</style>\n",
       "<table border=\"1\" class=\"dataframe\">\n",
       "  <thead>\n",
       "    <tr style=\"text-align: right;\">\n",
       "      <th></th>\n",
       "      <th>user_id</th>\n",
       "      <th>genre_embedding</th>\n",
       "      <th>artist_embedding</th>\n",
       "      <th>playlist_embedding</th>\n",
       "      <th>release_year_embedding</th>\n",
       "    </tr>\n",
       "  </thead>\n",
       "  <tbody>\n",
       "    <tr>\n",
       "      <th>0</th>\n",
       "      <td>31imc4msmvetbl26gly5n55jbkka</td>\n",
       "      <td>[0.1219930648803711, 0.1214483454823494, -0.27...</td>\n",
       "      <td>[0.28332215547561646, -0.15212738513946533, -0...</td>\n",
       "      <td>[0.1219930648803711, 0.1214483454823494, -0.27...</td>\n",
       "      <td>[2018.0]</td>\n",
       "    </tr>\n",
       "    <tr>\n",
       "      <th>1</th>\n",
       "      <td>31tgsl3dejcqihle3pv7o6eeng2a</td>\n",
       "      <td>[-0.3863714933395386, -0.5621631145477295, 0.1...</td>\n",
       "      <td>[0.3942939341068268, -0.33002883195877075, 0.3...</td>\n",
       "      <td>[-0.7064403295516968, -0.9494979381561279, 0.1...</td>\n",
       "      <td>[2019.9066666666668]</td>\n",
       "    </tr>\n",
       "    <tr>\n",
       "      <th>2</th>\n",
       "      <td>31fg5ma4zjh37mcqzto3xt2sxc3a</td>\n",
       "      <td>[-0.31446775794029236, -0.2531762421131134, 0....</td>\n",
       "      <td>[-0.29996415972709656, 0.5447441339492798, 0.0...</td>\n",
       "      <td>[-0.31446775794029236, -0.2531762421131134, 0....</td>\n",
       "      <td>[2019.0]</td>\n",
       "    </tr>\n",
       "    <tr>\n",
       "      <th>3</th>\n",
       "      <td>31h7ml3xiavflj5n7d4av5u5xaie</td>\n",
       "      <td>[-0.3711507022380829, -0.19814574718475342, -0...</td>\n",
       "      <td>[-0.09817744046449661, 0.1808864027261734, -0....</td>\n",
       "      <td>[-0.5167202949523926, -0.22468358278274536, -0...</td>\n",
       "      <td>[2019.8850574712644]</td>\n",
       "    </tr>\n",
       "    <tr>\n",
       "      <th>4</th>\n",
       "      <td>31frxab22c2ez34gnfggtqqsnope</td>\n",
       "      <td>[0.14112409949302673, 0.12898339331150055, -0....</td>\n",
       "      <td>[-0.010701656341552734, 0.32390376925468445, -...</td>\n",
       "      <td>[0.26713827252388, 0.21868111193180084, -0.577...</td>\n",
       "      <td>[2017.2272727272727]</td>\n",
       "    </tr>\n",
       "  </tbody>\n",
       "</table>\n",
       "</div>"
      ],
      "text/plain": [
       "                        user_id  \\\n",
       "0  31imc4msmvetbl26gly5n55jbkka   \n",
       "1  31tgsl3dejcqihle3pv7o6eeng2a   \n",
       "2  31fg5ma4zjh37mcqzto3xt2sxc3a   \n",
       "3  31h7ml3xiavflj5n7d4av5u5xaie   \n",
       "4  31frxab22c2ez34gnfggtqqsnope   \n",
       "\n",
       "                                     genre_embedding  \\\n",
       "0  [0.1219930648803711, 0.1214483454823494, -0.27...   \n",
       "1  [-0.3863714933395386, -0.5621631145477295, 0.1...   \n",
       "2  [-0.31446775794029236, -0.2531762421131134, 0....   \n",
       "3  [-0.3711507022380829, -0.19814574718475342, -0...   \n",
       "4  [0.14112409949302673, 0.12898339331150055, -0....   \n",
       "\n",
       "                                    artist_embedding  \\\n",
       "0  [0.28332215547561646, -0.15212738513946533, -0...   \n",
       "1  [0.3942939341068268, -0.33002883195877075, 0.3...   \n",
       "2  [-0.29996415972709656, 0.5447441339492798, 0.0...   \n",
       "3  [-0.09817744046449661, 0.1808864027261734, -0....   \n",
       "4  [-0.010701656341552734, 0.32390376925468445, -...   \n",
       "\n",
       "                                  playlist_embedding release_year_embedding  \n",
       "0  [0.1219930648803711, 0.1214483454823494, -0.27...               [2018.0]  \n",
       "1  [-0.7064403295516968, -0.9494979381561279, 0.1...   [2019.9066666666668]  \n",
       "2  [-0.31446775794029236, -0.2531762421131134, 0....               [2019.0]  \n",
       "3  [-0.5167202949523926, -0.22468358278274536, -0...   [2019.8850574712644]  \n",
       "4  [0.26713827252388, 0.21868111193180084, -0.577...   [2017.2272727272727]  "
      ]
     },
     "execution_count": 67,
     "metadata": {},
     "output_type": "execute_result"
    }
   ],
   "source": [
    "user_embeddings_fg = fs.get_feature_group(\n",
    "    name='spotify_user_embeddings',\n",
    "    version=2,\n",
    ")\n",
    "\n",
    "user_embeddings_df = user_embeddings_fg.read()\n",
    "print(f\"A total of {len(user_embeddings_df)} user embeddings are available.\")\n",
    "user_embeddings_df.head()"
   ]
  },
  {
   "cell_type": "code",
   "execution_count": 68,
   "metadata": {},
   "outputs": [
    {
     "data": {
      "text/html": [
       "<div>\n",
       "<style scoped>\n",
       "    .dataframe tbody tr th:only-of-type {\n",
       "        vertical-align: middle;\n",
       "    }\n",
       "\n",
       "    .dataframe tbody tr th {\n",
       "        vertical-align: top;\n",
       "    }\n",
       "\n",
       "    .dataframe thead th {\n",
       "        text-align: right;\n",
       "    }\n",
       "</style>\n",
       "<table border=\"1\" class=\"dataframe\">\n",
       "  <thead>\n",
       "    <tr style=\"text-align: right;\">\n",
       "      <th></th>\n",
       "      <th>user_id</th>\n",
       "      <th>genre_embedding</th>\n",
       "      <th>artist_embedding</th>\n",
       "      <th>playlist_embedding</th>\n",
       "      <th>release_year_embedding</th>\n",
       "      <th>full_embedding</th>\n",
       "      <th>normalized_embedding</th>\n",
       "    </tr>\n",
       "  </thead>\n",
       "  <tbody>\n",
       "    <tr>\n",
       "      <th>0</th>\n",
       "      <td>31imc4msmvetbl26gly5n55jbkka</td>\n",
       "      <td>[0.1219930648803711, 0.1214483454823494, -0.27...</td>\n",
       "      <td>[0.28332215547561646, -0.15212738513946533, -0...</td>\n",
       "      <td>[0.1219930648803711, 0.1214483454823494, -0.27...</td>\n",
       "      <td>[2018.0]</td>\n",
       "      <td>[0.1219930648803711, 0.1214483454823494, -0.27...</td>\n",
       "      <td>[6.0451476847805844e-05, 6.018155091299676e-05...</td>\n",
       "    </tr>\n",
       "    <tr>\n",
       "      <th>1</th>\n",
       "      <td>31tgsl3dejcqihle3pv7o6eeng2a</td>\n",
       "      <td>[-0.3863714933395386, -0.5621631145477295, 0.1...</td>\n",
       "      <td>[0.3942939341068268, -0.33002883195877075, 0.3...</td>\n",
       "      <td>[-0.7064403295516968, -0.9494979381561279, 0.1...</td>\n",
       "      <td>[2019.9066666666668]</td>\n",
       "      <td>[-0.3863714933395386, -0.5621631145477295, 0.1...</td>\n",
       "      <td>[-0.00019127666431846473, -0.00027830387905733...</td>\n",
       "    </tr>\n",
       "    <tr>\n",
       "      <th>2</th>\n",
       "      <td>31fg5ma4zjh37mcqzto3xt2sxc3a</td>\n",
       "      <td>[-0.31446775794029236, -0.2531762421131134, 0....</td>\n",
       "      <td>[-0.29996415972709656, 0.5447441339492798, 0.0...</td>\n",
       "      <td>[-0.31446775794029236, -0.2531762421131134, 0....</td>\n",
       "      <td>[2019.0]</td>\n",
       "      <td>[-0.31446775794029236, -0.2531762421131134, 0....</td>\n",
       "      <td>[-0.0001557508143566418, -0.000125394113988495...</td>\n",
       "    </tr>\n",
       "    <tr>\n",
       "      <th>3</th>\n",
       "      <td>31h7ml3xiavflj5n7d4av5u5xaie</td>\n",
       "      <td>[-0.3711507022380829, -0.19814574718475342, -0...</td>\n",
       "      <td>[-0.09817744046449661, 0.1808864027261734, -0....</td>\n",
       "      <td>[-0.5167202949523926, -0.22468358278274536, -0...</td>\n",
       "      <td>[2019.8850574712644]</td>\n",
       "      <td>[-0.3711507022380829, -0.19814574718475342, -0...</td>\n",
       "      <td>[-0.00018374682362942734, -9.809667997751179e-...</td>\n",
       "    </tr>\n",
       "    <tr>\n",
       "      <th>4</th>\n",
       "      <td>31frxab22c2ez34gnfggtqqsnope</td>\n",
       "      <td>[0.14112409949302673, 0.12898339331150055, -0....</td>\n",
       "      <td>[-0.010701656341552734, 0.32390376925468445, -...</td>\n",
       "      <td>[0.26713827252388, 0.21868111193180084, -0.577...</td>\n",
       "      <td>[2017.2272727272727]</td>\n",
       "      <td>[0.14112409949302673, 0.12898339331150055, -0....</td>\n",
       "      <td>[6.995799678794909e-05, 6.393960951673316e-05,...</td>\n",
       "    </tr>\n",
       "  </tbody>\n",
       "</table>\n",
       "</div>"
      ],
      "text/plain": [
       "                        user_id  \\\n",
       "0  31imc4msmvetbl26gly5n55jbkka   \n",
       "1  31tgsl3dejcqihle3pv7o6eeng2a   \n",
       "2  31fg5ma4zjh37mcqzto3xt2sxc3a   \n",
       "3  31h7ml3xiavflj5n7d4av5u5xaie   \n",
       "4  31frxab22c2ez34gnfggtqqsnope   \n",
       "\n",
       "                                     genre_embedding  \\\n",
       "0  [0.1219930648803711, 0.1214483454823494, -0.27...   \n",
       "1  [-0.3863714933395386, -0.5621631145477295, 0.1...   \n",
       "2  [-0.31446775794029236, -0.2531762421131134, 0....   \n",
       "3  [-0.3711507022380829, -0.19814574718475342, -0...   \n",
       "4  [0.14112409949302673, 0.12898339331150055, -0....   \n",
       "\n",
       "                                    artist_embedding  \\\n",
       "0  [0.28332215547561646, -0.15212738513946533, -0...   \n",
       "1  [0.3942939341068268, -0.33002883195877075, 0.3...   \n",
       "2  [-0.29996415972709656, 0.5447441339492798, 0.0...   \n",
       "3  [-0.09817744046449661, 0.1808864027261734, -0....   \n",
       "4  [-0.010701656341552734, 0.32390376925468445, -...   \n",
       "\n",
       "                                  playlist_embedding release_year_embedding  \\\n",
       "0  [0.1219930648803711, 0.1214483454823494, -0.27...               [2018.0]   \n",
       "1  [-0.7064403295516968, -0.9494979381561279, 0.1...   [2019.9066666666668]   \n",
       "2  [-0.31446775794029236, -0.2531762421131134, 0....               [2019.0]   \n",
       "3  [-0.5167202949523926, -0.22468358278274536, -0...   [2019.8850574712644]   \n",
       "4  [0.26713827252388, 0.21868111193180084, -0.577...   [2017.2272727272727]   \n",
       "\n",
       "                                      full_embedding  \\\n",
       "0  [0.1219930648803711, 0.1214483454823494, -0.27...   \n",
       "1  [-0.3863714933395386, -0.5621631145477295, 0.1...   \n",
       "2  [-0.31446775794029236, -0.2531762421131134, 0....   \n",
       "3  [-0.3711507022380829, -0.19814574718475342, -0...   \n",
       "4  [0.14112409949302673, 0.12898339331150055, -0....   \n",
       "\n",
       "                                normalized_embedding  \n",
       "0  [6.0451476847805844e-05, 6.018155091299676e-05...  \n",
       "1  [-0.00019127666431846473, -0.00027830387905733...  \n",
       "2  [-0.0001557508143566418, -0.000125394113988495...  \n",
       "3  [-0.00018374682362942734, -9.809667997751179e-...  \n",
       "4  [6.995799678794909e-05, 6.393960951673316e-05,...  "
      ]
     },
     "execution_count": 68,
     "metadata": {},
     "output_type": "execute_result"
    }
   ],
   "source": [
    "user_embeddings_df['full_embedding'] = user_embeddings_df.apply(\n",
    "    lambda row: np.concatenate(\n",
    "        [row['genre_embedding'], row['artist_embedding'], row['playlist_embedding'], row['release_year_embedding']]\n",
    "    ),\n",
    "    axis=1\n",
    ")\n",
    "normalized_embeddings = normalize(np.array(user_embeddings_df['full_embedding'].tolist()))\n",
    "user_embeddings_df['normalized_embedding'] = normalized_embeddings.tolist()\n",
    "user_embeddings_df.head()"
   ]
  },
  {
   "cell_type": "code",
   "execution_count": 69,
   "metadata": {},
   "outputs": [],
   "source": [
    "def build_user_tower(input_dim, embedding_dim=128):\n",
    "    inputs = layers.Input(shape=(input_dim,))\n",
    "    x = layers.Dense(256, activation='relu')(inputs)\n",
    "    x = layers.Dropout(0.2)(x)\n",
    "    x = layers.Dense(128, activation='relu')(x)\n",
    "    user_embedding = layers.Dense(embedding_dim, activation=None)(x)  # Final user embedding\n",
    "    return Model(inputs, user_embedding, name=\"UserTower\")\n",
    "\n",
    "def build_candidate_tower(input_dim, embedding_dim=128):\n",
    "    inputs = layers.Input(shape=(input_dim,))\n",
    "    x = layers.Dense(256, activation='relu')(inputs)\n",
    "    x = layers.Dropout(0.2)(x)\n",
    "    x = layers.Dense(128, activation='relu')(x)\n",
    "    candidate_embedding = layers.Dense(embedding_dim, activation=None)(x)  # Final candidate embedding\n",
    "    return Model(inputs, candidate_embedding, name=\"CandidateTower\")"
   ]
  },
  {
   "cell_type": "code",
   "execution_count": 70,
   "metadata": {},
   "outputs": [],
   "source": [
    "# Instantiate towers\n",
    "input_dim = len(normalized_embeddings[0])  # Dimensionality of the concatenated embedding\n",
    "embedding_dim = 128\n",
    "\n",
    "user_tower = build_user_tower(input_dim, embedding_dim)\n",
    "candidate_tower = build_candidate_tower(input_dim, embedding_dim)\n",
    "\n",
    "# Compute cosine similarity\n",
    "user_embedding = user_tower.output\n",
    "candidate_embedding = candidate_tower.output\n",
    "cosine_similarity_model = tf.keras.layers.Dot(axes=1, normalize=True)([user_embedding, candidate_embedding])\n",
    "\n",
    "# Final model\n",
    "model = tf.keras.Model(inputs=[user_tower.input, candidate_tower.input], outputs=cosine_similarity_model)\n",
    "\n",
    "model.compile(\n",
    "    optimizer=tf.keras.optimizers.Adam(learning_rate=0.001),\n",
    "    loss=tf.keras.losses.BinaryCrossentropy(from_logits=False),\n",
    "    metrics=['accuracy']\n",
    ")"
   ]
  },
  {
   "cell_type": "code",
   "execution_count": 71,
   "metadata": {},
   "outputs": [],
   "source": [
    "def generate_pairs(embeddings, similarity_threshold=0.8, negative_ratio=1):\n",
    "    pairs = []\n",
    "    labels = []\n",
    "\n",
    "    # Compute cosine similarity for all pairs\n",
    "    similarity_matrix = cosine_similarity(embeddings)  # This is a valid pairwise similarity matrix\n",
    "\n",
    "    for i in range(len(embeddings)):\n",
    "        for j in range(i + 1, len(embeddings)):\n",
    "            if similarity_matrix[i, j] > similarity_threshold:\n",
    "                # Positive pair\n",
    "                pairs.append((embeddings[i], embeddings[j]))\n",
    "                labels.append(1)\n",
    "\n",
    "                # Generate negative pairs\n",
    "                for _ in range(negative_ratio):\n",
    "                    negative_index = np.random.choice(len(embeddings))\n",
    "                    while negative_index == i or negative_index == j:\n",
    "                        negative_index = np.random.choice(len(embeddings))\n",
    "                    pairs.append((embeddings[i], embeddings[negative_index]))\n",
    "                    labels.append(0)\n",
    "    \n",
    "    return np.array(pairs), np.array(labels)"
   ]
  },
  {
   "cell_type": "code",
   "execution_count": 72,
   "metadata": {},
   "outputs": [
    {
     "name": "stdout",
     "output_type": "stream",
     "text": [
      "Epoch 1/10\n",
      "\u001b[1m253/253\u001b[0m \u001b[32m━━━━━━━━━━━━━━━━━━━━\u001b[0m\u001b[37m\u001b[0m \u001b[1m3s\u001b[0m 8ms/step - accuracy: 0.4928 - loss: 0.9487 - val_accuracy: 0.5059 - val_loss: 0.6915\n",
      "Epoch 2/10\n",
      "\u001b[1m253/253\u001b[0m \u001b[32m━━━━━━━━━━━━━━━━━━━━\u001b[0m\u001b[37m\u001b[0m \u001b[1m2s\u001b[0m 6ms/step - accuracy: 0.4997 - loss: 0.6918 - val_accuracy: 0.5059 - val_loss: 0.6894\n",
      "Epoch 3/10\n",
      "\u001b[1m253/253\u001b[0m \u001b[32m━━━━━━━━━━━━━━━━━━━━\u001b[0m\u001b[37m\u001b[0m \u001b[1m1s\u001b[0m 6ms/step - accuracy: 0.5010 - loss: 0.6917 - val_accuracy: 0.5059 - val_loss: 0.6893\n",
      "Epoch 4/10\n",
      "\u001b[1m253/253\u001b[0m \u001b[32m━━━━━━━━━━━━━━━━━━━━\u001b[0m\u001b[37m\u001b[0m \u001b[1m2s\u001b[0m 7ms/step - accuracy: 0.5085 - loss: 0.6934 - val_accuracy: 0.5158 - val_loss: 0.6862\n",
      "Epoch 5/10\n",
      "\u001b[1m253/253\u001b[0m \u001b[32m━━━━━━━━━━━━━━━━━━━━\u001b[0m\u001b[37m\u001b[0m \u001b[1m1s\u001b[0m 6ms/step - accuracy: 0.5208 - loss: 0.6907 - val_accuracy: 0.5772 - val_loss: 0.6787\n",
      "Epoch 6/10\n",
      "\u001b[1m253/253\u001b[0m \u001b[32m━━━━━━━━━━━━━━━━━━━━\u001b[0m\u001b[37m\u001b[0m \u001b[1m1s\u001b[0m 6ms/step - accuracy: 0.5253 - loss: 0.6888 - val_accuracy: 0.5792 - val_loss: 0.6678\n",
      "Epoch 7/10\n",
      "\u001b[1m253/253\u001b[0m \u001b[32m━━━━━━━━━━━━━━━━━━━━\u001b[0m\u001b[37m\u001b[0m \u001b[1m2s\u001b[0m 6ms/step - accuracy: 0.5485 - loss: 0.6822 - val_accuracy: 0.5950 - val_loss: 0.6660\n",
      "Epoch 8/10\n",
      "\u001b[1m253/253\u001b[0m \u001b[32m━━━━━━━━━━━━━━━━━━━━\u001b[0m\u001b[37m\u001b[0m \u001b[1m1s\u001b[0m 6ms/step - accuracy: 0.5303 - loss: 0.6834 - val_accuracy: 0.5738 - val_loss: 0.6687\n",
      "Epoch 9/10\n",
      "\u001b[1m253/253\u001b[0m \u001b[32m━━━━━━━━━━━━━━━━━━━━\u001b[0m\u001b[37m\u001b[0m \u001b[1m1s\u001b[0m 5ms/step - accuracy: 0.5372 - loss: 0.6828 - val_accuracy: 0.5980 - val_loss: 0.6620\n",
      "Epoch 10/10\n",
      "\u001b[1m253/253\u001b[0m \u001b[32m━━━━━━━━━━━━━━━━━━━━\u001b[0m\u001b[37m\u001b[0m \u001b[1m1s\u001b[0m 6ms/step - accuracy: 0.5523 - loss: 0.6807 - val_accuracy: 0.6109 - val_loss: 0.6490\n"
     ]
    }
   ],
   "source": [
    "# Generate training data\n",
    "pairs, labels = generate_pairs(normalized_embeddings)\n",
    "user_1 = np.array([pair[0] for pair in pairs])\n",
    "user_2 = np.array([pair[1] for pair in pairs])\n",
    "\n",
    "history = model.fit(\n",
    "    [user_1, user_2],  # Input: pairs of user embeddings\n",
    "    labels,            # Output: similarity labels\n",
    "    batch_size=32,\n",
    "    epochs=10,\n",
    "    validation_split=0.2\n",
    ")\n"
   ]
  },
  {
   "cell_type": "code",
   "execution_count": 77,
   "metadata": {},
   "outputs": [
    {
     "name": "stdout",
     "output_type": "stream",
     "text": [
      "2025-01-04 08:35:21,124 WARNING: The `save_format` argument is deprecated in Keras 3. We recommend removing this argument as it can be inferred from the file path. Received: save_format=tf\n"
     ]
    },
    {
     "data": {
      "application/vnd.jupyter.widget-view+json": {
       "model_id": "7f7fc996fd5b4d7791cdd69f9f0bee62",
       "version_major": 2,
       "version_minor": 0
      },
      "text/plain": [
       "  0%|          | 0/6 [00:00<?, ?it/s]"
      ]
     },
     "metadata": {},
     "output_type": "display_data"
    },
    {
     "data": {
      "application/vnd.jupyter.widget-view+json": {
       "model_id": "b7893df45acc459b9c7d3642c573ceab",
       "version_major": 2,
       "version_minor": 0
      },
      "text/plain": [
       "Uploading: 0.000%|          | 0/8328784 elapsed<00:00 remaining<?"
      ]
     },
     "metadata": {},
     "output_type": "display_data"
    },
    {
     "name": "stdout",
     "output_type": "stream",
     "text": [
      "Model created, explore it at https://c.app.hopsworks.ai:443/p/1208515/models/two_tower_recommender/6\n",
      "Model 'two_tower_recommender' uploaded to Hopsworks!\n"
     ]
    }
   ],
   "source": [
    "mr = project.get_model_registry()\n",
    "model.save(\"two_tower_model.keras\", save_format=\"tf\")\n",
    "\n",
    "# Create a new model version\n",
    "model_dir = \"two_tower_model.keras\"\n",
    "model_name = \"two_tower_recommender\"\n",
    "\n",
    "model_registry = mr.python.create_model(\n",
    "    name=model_name,\n",
    "    metrics={\"accuracy\": history.history[\"accuracy\"][-1]},  # Log the final accuracy\n",
    "    description=\"Two-Tower Recommender Model for User Similarity\",\n",
    ")\n",
    "\n",
    "model_registry.save(model_dir)\n",
    "print(f\"Model '{model_name}' uploaded to Hopsworks!\")"
   ]
  }
 ],
 "metadata": {
  "kernelspec": {
   "display_name": "Python 3",
   "language": "python",
   "name": "python3"
  },
  "language_info": {
   "codemirror_mode": {
    "name": "ipython",
    "version": 3
   },
   "file_extension": ".py",
   "mimetype": "text/x-python",
   "name": "python",
   "nbconvert_exporter": "python",
   "pygments_lexer": "ipython3",
   "version": "3.10.13"
  }
 },
 "nbformat": 4,
 "nbformat_minor": 2
}
