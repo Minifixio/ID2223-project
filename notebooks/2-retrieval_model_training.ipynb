{
 "cells": [
  {
   "cell_type": "code",
   "execution_count": 51,
   "metadata": {},
   "outputs": [],
   "source": [
    "from sklearn.preprocessing import normalize\n",
    "import tensorflow as tf\n",
    "from tensorflow.keras import layers, Model\n",
    "from sklearn.metrics.pairwise import cosine_similarity\n",
    "import numpy as np\n",
    "import hopsworks\n",
    "import os"
   ]
  },
  {
   "cell_type": "code",
   "execution_count": 52,
   "metadata": {},
   "outputs": [],
   "source": [
    "if os.getenv('HOPSWORKS_API_KEY') is not None:\n",
    "    HOPSWORKS_API_KEY = os.getenv('HOPSWORKS_API_KEY')\n",
    "else:\n",
    "    with open('../secrets/hopsworks_api_key.txt', 'r') as file:\n",
    "        HOPSWORKS_API_KEY = file.readline().strip()"
   ]
  },
  {
   "cell_type": "code",
   "execution_count": 53,
   "metadata": {},
   "outputs": [
    {
     "name": "stdout",
     "output_type": "stream",
     "text": [
      "2025-01-09 22:46:58,080 INFO: Closing external client and cleaning up certificates.\n",
      "Connection closed.\n",
      "2025-01-09 22:46:58,159 INFO: Initializing external client\n",
      "2025-01-09 22:46:58,159 INFO: Base URL: https://c.app.hopsworks.ai:443\n",
      "2025-01-09 22:46:59,689 INFO: Python Engine initialized.\n",
      "\n",
      "Logged in to project, explore it here https://c.app.hopsworks.ai:443/p/1208515\n"
     ]
    }
   ],
   "source": [
    "project = hopsworks.login(api_key_value=HOPSWORKS_API_KEY)\n",
    "fs = project.get_feature_store() "
   ]
  },
  {
   "cell_type": "code",
   "execution_count": 54,
   "metadata": {},
   "outputs": [
    {
     "name": "stdout",
     "output_type": "stream",
     "text": [
      "Finished: Reading data from Hopsworks, using Hopsworks Feature Query Service (2.13s) \n",
      "A total of 192 user embeddings are available.\n"
     ]
    },
    {
     "data": {
      "text/html": [
       "<div>\n",
       "<style scoped>\n",
       "    .dataframe tbody tr th:only-of-type {\n",
       "        vertical-align: middle;\n",
       "    }\n",
       "\n",
       "    .dataframe tbody tr th {\n",
       "        vertical-align: top;\n",
       "    }\n",
       "\n",
       "    .dataframe thead th {\n",
       "        text-align: right;\n",
       "    }\n",
       "</style>\n",
       "<table border=\"1\" class=\"dataframe\">\n",
       "  <thead>\n",
       "    <tr style=\"text-align: right;\">\n",
       "      <th></th>\n",
       "      <th>user_id</th>\n",
       "      <th>genre_embedding</th>\n",
       "      <th>artist_embedding</th>\n",
       "      <th>playlist_embedding</th>\n",
       "      <th>release_year_embedding</th>\n",
       "    </tr>\n",
       "  </thead>\n",
       "  <tbody>\n",
       "    <tr>\n",
       "      <th>0</th>\n",
       "      <td>31imc4msmvetbl26gly5n55jbkka</td>\n",
       "      <td>[0.1219930648803711, 0.1214483454823494, -0.27...</td>\n",
       "      <td>[0.28332215547561646, -0.15212738513946533, -0...</td>\n",
       "      <td>[0.1219930648803711, 0.1214483454823494, -0.27...</td>\n",
       "      <td>[2018.0]</td>\n",
       "    </tr>\n",
       "    <tr>\n",
       "      <th>1</th>\n",
       "      <td>31tgsl3dejcqihle3pv7o6eeng2a</td>\n",
       "      <td>[-0.3863714933395386, -0.5621631145477295, 0.1...</td>\n",
       "      <td>[0.3942939341068268, -0.33002883195877075, 0.3...</td>\n",
       "      <td>[-0.7064403295516968, -0.9494979381561279, 0.1...</td>\n",
       "      <td>[2019.9066666666668]</td>\n",
       "    </tr>\n",
       "    <tr>\n",
       "      <th>2</th>\n",
       "      <td>31fg5ma4zjh37mcqzto3xt2sxc3a</td>\n",
       "      <td>[-0.31446775794029236, -0.2531762421131134, 0....</td>\n",
       "      <td>[-0.29996415972709656, 0.5447441339492798, 0.0...</td>\n",
       "      <td>[-0.31446775794029236, -0.2531762421131134, 0....</td>\n",
       "      <td>[2019.0]</td>\n",
       "    </tr>\n",
       "    <tr>\n",
       "      <th>3</th>\n",
       "      <td>31h7ml3xiavflj5n7d4av5u5xaie</td>\n",
       "      <td>[-0.3711507022380829, -0.19814574718475342, -0...</td>\n",
       "      <td>[-0.09817744046449661, 0.1808864027261734, -0....</td>\n",
       "      <td>[-0.5167202949523926, -0.22468358278274536, -0...</td>\n",
       "      <td>[2019.8850574712644]</td>\n",
       "    </tr>\n",
       "    <tr>\n",
       "      <th>4</th>\n",
       "      <td>31frxab22c2ez34gnfggtqqsnope</td>\n",
       "      <td>[0.14112409949302673, 0.12898339331150055, -0....</td>\n",
       "      <td>[-0.010701656341552734, 0.32390376925468445, -...</td>\n",
       "      <td>[0.26713827252388, 0.21868111193180084, -0.577...</td>\n",
       "      <td>[2017.2272727272727]</td>\n",
       "    </tr>\n",
       "  </tbody>\n",
       "</table>\n",
       "</div>"
      ],
      "text/plain": [
       "                        user_id  \\\n",
       "0  31imc4msmvetbl26gly5n55jbkka   \n",
       "1  31tgsl3dejcqihle3pv7o6eeng2a   \n",
       "2  31fg5ma4zjh37mcqzto3xt2sxc3a   \n",
       "3  31h7ml3xiavflj5n7d4av5u5xaie   \n",
       "4  31frxab22c2ez34gnfggtqqsnope   \n",
       "\n",
       "                                     genre_embedding  \\\n",
       "0  [0.1219930648803711, 0.1214483454823494, -0.27...   \n",
       "1  [-0.3863714933395386, -0.5621631145477295, 0.1...   \n",
       "2  [-0.31446775794029236, -0.2531762421131134, 0....   \n",
       "3  [-0.3711507022380829, -0.19814574718475342, -0...   \n",
       "4  [0.14112409949302673, 0.12898339331150055, -0....   \n",
       "\n",
       "                                    artist_embedding  \\\n",
       "0  [0.28332215547561646, -0.15212738513946533, -0...   \n",
       "1  [0.3942939341068268, -0.33002883195877075, 0.3...   \n",
       "2  [-0.29996415972709656, 0.5447441339492798, 0.0...   \n",
       "3  [-0.09817744046449661, 0.1808864027261734, -0....   \n",
       "4  [-0.010701656341552734, 0.32390376925468445, -...   \n",
       "\n",
       "                                  playlist_embedding release_year_embedding  \n",
       "0  [0.1219930648803711, 0.1214483454823494, -0.27...               [2018.0]  \n",
       "1  [-0.7064403295516968, -0.9494979381561279, 0.1...   [2019.9066666666668]  \n",
       "2  [-0.31446775794029236, -0.2531762421131134, 0....               [2019.0]  \n",
       "3  [-0.5167202949523926, -0.22468358278274536, -0...   [2019.8850574712644]  \n",
       "4  [0.26713827252388, 0.21868111193180084, -0.577...   [2017.2272727272727]  "
      ]
     },
     "execution_count": 54,
     "metadata": {},
     "output_type": "execute_result"
    }
   ],
   "source": [
    "user_embeddings_fg = fs.get_feature_group(\n",
    "    name='spotify_user_embeddings',\n",
    "    version=2,\n",
    ")\n",
    "\n",
    "user_embeddings_df = user_embeddings_fg.read()\n",
    "print(f\"A total of {len(user_embeddings_df)} user embeddings are available.\")\n",
    "user_embeddings_df.head()"
   ]
  },
  {
   "cell_type": "code",
   "execution_count": 55,
   "metadata": {},
   "outputs": [],
   "source": [
    "import pandas as pd\n",
    "import torch\n",
    "from torch.utils.data import Dataset, DataLoader\n",
    "import json\n",
    "import torch.nn as nn"
   ]
  },
  {
   "cell_type": "code",
   "execution_count": 56,
   "metadata": {},
   "outputs": [],
   "source": [
    "user_embeddings_df['genre_embedding'] = user_embeddings_df['genre_embedding'].apply(\n",
    "    lambda x: torch.tensor(x, dtype=torch.float)\n",
    ")\n",
    "user_embeddings_df['artist_embedding'] = user_embeddings_df['artist_embedding'].apply(\n",
    "    lambda x: torch.tensor(x, dtype=torch.float)\n",
    ")\n",
    "user_embeddings_df['playlist_embedding'] = user_embeddings_df['playlist_embedding'].apply(\n",
    "    lambda x: torch.tensor(x, dtype=torch.float)\n",
    ")\n",
    "user_embeddings_df['release_year_embedding'] = user_embeddings_df['release_year_embedding'].apply(lambda x: torch.tensor([x], dtype=torch.float))"
   ]
  },
  {
   "cell_type": "code",
   "execution_count": 57,
   "metadata": {},
   "outputs": [],
   "source": [
    "class EmbeddingDataset(Dataset):\n",
    "    def __init__(self, dataframe):\n",
    "        self.data = dataframe\n",
    "\n",
    "    def __len__(self):\n",
    "        return len(self.data)\n",
    "\n",
    "    def __getitem__(self, idx):\n",
    "        user_id = self.data.iloc[idx]['user_id']\n",
    "        genre_embedding = self.data.iloc[idx]['genre_embedding']\n",
    "        artist_embedding = self.data.iloc[idx]['artist_embedding']\n",
    "        playlist_embedding = self.data.iloc[idx]['playlist_embedding']\n",
    "        return user_id, genre_embedding, artist_embedding, playlist_embedding\n",
    "\n",
    "\n",
    "class Tower(nn.Module):\n",
    "    def __init__(self, input_dim, output_dim):\n",
    "        super(Tower, self).__init__()\n",
    "        self.fc = nn.Sequential(\n",
    "            nn.Linear(input_dim, 128),\n",
    "            nn.ReLU(),\n",
    "            nn.Linear(128, output_dim)\n",
    "        )\n",
    "\n",
    "    def forward(self, x):\n",
    "        return self.fc(x)\n",
    "\n",
    "class TwoTowerModel(nn.Module):\n",
    "    def __init__(self, embedding_dim, output_dim):\n",
    "        super(TwoTowerModel, self).__init__()\n",
    "        # Separate processing for each embedding type\n",
    "        self.genre_fc = Tower(input_dim=embedding_dim, output_dim=output_dim)\n",
    "        self.artist_fc = Tower(input_dim=embedding_dim, output_dim=output_dim)\n",
    "        self.playlist_fc = Tower(input_dim=embedding_dim, output_dim=output_dim)\n",
    "        \n",
    "        # Joint Tower for final embedding\n",
    "        self.fc_merge = nn.Sequential(\n",
    "            nn.Linear(output_dim * 3, 128),\n",
    "            nn.ReLU(),\n",
    "            nn.Linear(128, output_dim)\n",
    "        )\n",
    "        \n",
    "    def forward(self, genre, artist, playlist):\n",
    "        genre_embed = self.genre_fc(genre)\n",
    "        artist_embed = self.artist_fc(artist)\n",
    "        playlist_embed = self.playlist_fc(playlist)\n",
    "        \n",
    "        # Concatenate embeddings and pass through final layers\n",
    "        combined = torch.cat([genre_embed, artist_embed, playlist_embed], dim=-1)\n",
    "        final_embed = self.fc_merge(combined)\n",
    "        return final_embed\n",
    "\n",
    "    def compute_similarity(self, query_embedding, database_embedding):\n",
    "        # Cosine similarity for comparison\n",
    "        return torch.nn.functional.cosine_similarity(query_embedding, database_embedding)\n",
    "\n"
   ]
  },
  {
   "cell_type": "code",
   "execution_count": null,
   "metadata": {},
   "outputs": [
    {
     "name": "stdout",
     "output_type": "stream",
     "text": [
      "torch.Size([384])\n",
      "Epoch 1, Loss: 0.07470086961984634\n",
      "Epoch 2, Loss: 0.07397928275167942\n",
      "Epoch 3, Loss: 0.07007264532148838\n",
      "Epoch 4, Loss: 0.07519129663705826\n",
      "Epoch 5, Loss: 0.07600852847099304\n",
      "Epoch 6, Loss: 0.07462686859071255\n",
      "Epoch 7, Loss: 0.072949243709445\n",
      "Epoch 8, Loss: 0.073055574670434\n",
      "Epoch 9, Loss: 0.07457756251096725\n",
      "Epoch 10, Loss: 0.07132644765079021\n",
      "Epoch 11, Loss: 0.07314112037420273\n",
      "Epoch 12, Loss: 0.0774154495447874\n",
      "Epoch 13, Loss: 0.07387569732964039\n",
      "Epoch 14, Loss: 0.07598479092121124\n",
      "Epoch 15, Loss: 0.07108474522829056\n",
      "Epoch 16, Loss: 0.07973862066864967\n",
      "Epoch 17, Loss: 0.07320447824895382\n",
      "Epoch 18, Loss: 0.07209519483149052\n",
      "Epoch 19, Loss: 0.07598883472383022\n",
      "Epoch 20, Loss: 0.07471281290054321\n",
      "Epoch 21, Loss: 0.07313056290149689\n",
      "Epoch 22, Loss: 0.07356812059879303\n",
      "Epoch 23, Loss: 0.0771817360073328\n",
      "Epoch 24, Loss: 0.07229406014084816\n",
      "Epoch 25, Loss: 0.07748273015022278\n",
      "Epoch 26, Loss: 0.0753343366086483\n",
      "Epoch 27, Loss: 0.07331030815839767\n",
      "Epoch 28, Loss: 0.07192291878163815\n",
      "Epoch 29, Loss: 0.07462437450885773\n",
      "Epoch 30, Loss: 0.07725354470312595\n",
      "Epoch 31, Loss: 0.07602293789386749\n",
      "Epoch 32, Loss: 0.07457656972110271\n",
      "Epoch 33, Loss: 0.07252212800085545\n",
      "Epoch 34, Loss: 0.07397152483463287\n",
      "Epoch 35, Loss: 0.07343502901494503\n",
      "Epoch 36, Loss: 0.07544711232185364\n",
      "Epoch 37, Loss: 0.07626301795244217\n",
      "Epoch 38, Loss: 0.0785751175135374\n",
      "Epoch 39, Loss: 0.07416904345154762\n",
      "Epoch 40, Loss: 0.07684330083429813\n",
      "Epoch 41, Loss: 0.07599097117781639\n",
      "Epoch 42, Loss: 0.078254459425807\n",
      "Epoch 43, Loss: 0.07099165953695774\n",
      "Epoch 44, Loss: 0.07576322741806507\n",
      "Epoch 45, Loss: 0.072021609172225\n",
      "Epoch 46, Loss: 0.07423693314194679\n",
      "Epoch 47, Loss: 0.07463480345904827\n",
      "Epoch 48, Loss: 0.0737114567309618\n",
      "Epoch 49, Loss: 0.07370110228657722\n",
      "Epoch 50, Loss: 0.07522914931178093\n",
      "Epoch 51, Loss: 0.07265087403357029\n",
      "Epoch 52, Loss: 0.07397676818072796\n",
      "Epoch 53, Loss: 0.07707476615905762\n",
      "Epoch 54, Loss: 0.07520922645926476\n",
      "Epoch 55, Loss: 0.07386263646185398\n",
      "Epoch 56, Loss: 0.07705210894346237\n",
      "Epoch 57, Loss: 0.07425198517739773\n",
      "Epoch 58, Loss: 0.0745538230985403\n",
      "Epoch 59, Loss: 0.0739105436950922\n",
      "Epoch 60, Loss: 0.07537616603076458\n",
      "Epoch 61, Loss: 0.07420427910983562\n",
      "Epoch 62, Loss: 0.0776287205517292\n",
      "Epoch 63, Loss: 0.07650848850607872\n",
      "Epoch 64, Loss: 0.07628966309130192\n",
      "Epoch 65, Loss: 0.07497711293399334\n",
      "Epoch 66, Loss: 0.07363060116767883\n",
      "Epoch 67, Loss: 0.07649072632193565\n",
      "Epoch 68, Loss: 0.07254724763333797\n",
      "Epoch 69, Loss: 0.07677678763866425\n",
      "Epoch 70, Loss: 0.07723179832100868\n",
      "Epoch 71, Loss: 0.07245524972677231\n",
      "Epoch 72, Loss: 0.07350640930235386\n",
      "Epoch 73, Loss: 0.07704010047018528\n",
      "Epoch 74, Loss: 0.07343125157058239\n",
      "Epoch 75, Loss: 0.07541521079838276\n",
      "Epoch 76, Loss: 0.07633590511977673\n",
      "Epoch 77, Loss: 0.0769263468682766\n",
      "Epoch 78, Loss: 0.07267105393111706\n",
      "Epoch 79, Loss: 0.0772827435284853\n",
      "Epoch 80, Loss: 0.07389859482645988\n",
      "Epoch 81, Loss: 0.07481382973492146\n",
      "Epoch 82, Loss: 0.07524730637669563\n",
      "Epoch 83, Loss: 0.07917804457247257\n",
      "Epoch 84, Loss: 0.07287156209349632\n",
      "Epoch 85, Loss: 0.07328416034579277\n",
      "Epoch 86, Loss: 0.07154668308794498\n",
      "Epoch 87, Loss: 0.07474306970834732\n",
      "Epoch 88, Loss: 0.07662793062627316\n",
      "Epoch 89, Loss: 0.07173287123441696\n",
      "Epoch 90, Loss: 0.07558936811983585\n",
      "Epoch 91, Loss: 0.07565118931233883\n",
      "Epoch 92, Loss: 0.07322445325553417\n",
      "Epoch 93, Loss: 0.07454904355108738\n",
      "Epoch 94, Loss: 0.07833656668663025\n",
      "Epoch 95, Loss: 0.07245053723454475\n",
      "Epoch 96, Loss: 0.0763345267623663\n",
      "Epoch 97, Loss: 0.07458479702472687\n",
      "Epoch 98, Loss: 0.07203840278089046\n",
      "Epoch 99, Loss: 0.07478969730436802\n",
      "Epoch 100, Loss: 0.07061286084353924\n"
     ]
    }
   ],
   "source": [
    "# Initialize model\n",
    "df = user_embeddings_df\n",
    "print(df['genre_embedding'][0].shape)\n",
    "embedding_dim = len(df['genre_embedding'][0])  # Assuming all embeddings have the same dimension\n",
    "output_dim = 64\n",
    "margin = 0.5\n",
    "\n",
    "model = TwoTowerModel(embedding_dim=embedding_dim, output_dim=output_dim)\n",
    "criterion = nn.CosineEmbeddingLoss()\n",
    "optimizer = torch.optim.Adam(model.parameters(), lr=10e-5, weight_decay=1e-5)\n",
    "\n",
    "# Prepare dataset and dataloader\n",
    "train_dataset = EmbeddingDataset(df)\n",
    "train_loader = DataLoader(train_dataset, batch_size=64, shuffle=True)\n",
    "\n",
    "# Dummy negative sampling (replace with actual negatives)\n",
    "def negative_sample(batch_size, df):\n",
    "    # Randomly sample other embeddings as negatives\n",
    "    sampled = df.sample(batch_size)  # Ensure the sample size matches the batch size\n",
    "    return torch.stack(sampled['genre_embedding'].tolist()), \\\n",
    "           torch.stack(sampled['artist_embedding'].tolist()), \\\n",
    "           torch.stack(sampled['playlist_embedding'].tolist())\n",
    "\n",
    "\n",
    "# Training loop\n",
    "for epoch in range(100):\n",
    "    total_loss = 0\n",
    "    for user_ids, genres, artists, playlists in train_loader:\n",
    "        # Ensure embeddings are converted to tensors\n",
    "        genres = torch.tensor(genres.tolist(), dtype=torch.float32)\n",
    "        artists = torch.tensor(artists.tolist(), dtype=torch.float32)\n",
    "        playlists = torch.tensor(playlists.tolist(), dtype=torch.float32)\n",
    "        \n",
    "        # Generate negative samples\n",
    "        neg_genres, neg_artists, neg_playlists = negative_sample(len(genres), df)\n",
    "        \n",
    "        # Forward pass for positives and negatives\n",
    "        positive_embed = model(genres, artists, playlists)\n",
    "        negative_embed = model(neg_genres, neg_artists, neg_playlists)\n",
    "        \n",
    "        # Create labels for the current batch size\n",
    "        labels = torch.ones(positive_embed.size(0))\n",
    "        \n",
    "        # Calculate loss - note we're using just one pair of embeddings and their labels\n",
    "        \n",
    "        loss = criterion(positive_embed, negative_embed, labels)\n",
    "        \n",
    "        # Backward pass\n",
    "        optimizer.zero_grad()\n",
    "        loss.backward()\n",
    "        optimizer.step()\n",
    "        \n",
    "        total_loss += loss.item()\n",
    "    \n",
    "    print(f\"Epoch {epoch + 1}, Loss: {total_loss}\")\n"
   ]
  },
  {
   "cell_type": "code",
   "execution_count": 75,
   "metadata": {},
   "outputs": [
    {
     "name": "stdout",
     "output_type": "stream",
     "text": [
      "Top K Similar Embeddings: tensor([  2,  25,   8, 188])\n",
      "Similarity Scores: tensor([0.9789, 0.9773, 0.9729, 0.9721])\n"
     ]
    }
   ],
   "source": [
    "def find_similar_embedding(query_genre, query_artist, query_playlist, database, model, top_k=5):\n",
    "    model.eval()\n",
    "    with torch.no_grad():\n",
    "        query_embedding = model(query_genre.unsqueeze(0), query_artist.unsqueeze(0), query_playlist.unsqueeze(0))\n",
    "        \n",
    "        # Compute embeddings for all database entries\n",
    "        db_genres = torch.stack(database['genre_embedding'].tolist())\n",
    "        db_artists = torch.stack(database['artist_embedding'].tolist())\n",
    "        db_playlists = torch.stack(database['playlist_embedding'].tolist())\n",
    "        db_embeddings = model(db_genres, db_artists, db_playlists)\n",
    "        \n",
    "        # Compute similarities\n",
    "        similarities = torch.nn.functional.cosine_similarity(query_embedding, db_embeddings)\n",
    "        top_k_indices = torch.topk(similarities, k=top_k).indices\n",
    "        return top_k_indices, similarities[top_k_indices]\n",
    "\n",
    "# Example usage\n",
    "index_to_query = 5\n",
    "query_genre = df['genre_embedding'][index_to_query]\n",
    "query_artist = df['artist_embedding'][index_to_query]\n",
    "query_playlist = df['playlist_embedding'][index_to_query]\n",
    "\n",
    "top_k_indices, scores = find_similar_embedding(query_genre, query_artist, query_playlist, df, model)\n",
    "# Remove index_to_query from the top_k_indices and also remove its score\n",
    "index_to_query_index = np.where(top_k_indices == index_to_query)[0][0]\n",
    "top_k_indices = np.delete(top_k_indices, index_to_query_index)\n",
    "scores = np.delete(scores, index_to_query_index)\n",
    "\n",
    "print(\"Top K Similar Embeddings:\", top_k_indices)\n",
    "print(\"Similarity Scores:\", scores)"
   ]
  },
  {
   "cell_type": "code",
   "execution_count": 47,
   "metadata": {},
   "outputs": [],
   "source": [
    "model_dir = \"torch_model\"\n",
    "os.makedirs(model_dir, exist_ok=True)\n",
    "\n",
    "# Save the model and metadata\n",
    "torch.save({\n",
    "    'model_state_dict': model.state_dict(),\n",
    "    'embedding_dim': embedding_dim,\n",
    "    'output_dim': output_dim,\n",
    "}, os.path.join(model_dir, 'two_tower_model_torch.pth'))"
   ]
  },
  {
   "cell_type": "code",
   "execution_count": 48,
   "metadata": {},
   "outputs": [
    {
     "data": {
      "application/vnd.jupyter.widget-view+json": {
       "model_id": "89768837ad6046d9917e709a66141748",
       "version_major": 2,
       "version_minor": 0
      },
      "text/plain": [
       "  0%|          | 0/6 [00:00<?, ?it/s]"
      ]
     },
     "metadata": {},
     "output_type": "display_data"
    },
    {
     "data": {
      "application/vnd.jupyter.widget-view+json": {
       "model_id": "bf8ad95279144984b0d7e811dcc8eecf",
       "version_major": 2,
       "version_minor": 0
      },
      "text/plain": [
       "Uploading: 0.000%|          | 0/828414 elapsed<00:00 remaining<?"
      ]
     },
     "metadata": {},
     "output_type": "display_data"
    },
    {
     "data": {
      "application/vnd.jupyter.widget-view+json": {
       "model_id": "f7fef09935e4483594d50a299f47430b",
       "version_major": 2,
       "version_minor": 0
      },
      "text/plain": [
       "Uploading: 0.000%|          | 0/828294 elapsed<00:00 remaining<?"
      ]
     },
     "metadata": {},
     "output_type": "display_data"
    },
    {
     "data": {
      "application/vnd.jupyter.widget-view+json": {
       "model_id": "9c6c02cc83a74fc78db91b8a1bc504f6",
       "version_major": 2,
       "version_minor": 0
      },
      "text/plain": [
       "Uploading: 0.000%|          | 0/24563 elapsed<00:00 remaining<?"
      ]
     },
     "metadata": {},
     "output_type": "display_data"
    },
    {
     "name": "stdout",
     "output_type": "stream",
     "text": [
      "Model created, explore it at https://c.app.hopsworks.ai:443/p/1208515/models/two_tower_model_torch/1\n"
     ]
    },
    {
     "data": {
      "text/plain": [
       "Model(name: 'two_tower_model_torch', version: 1)"
      ]
     },
     "execution_count": 48,
     "metadata": {},
     "output_type": "execute_result"
    }
   ],
   "source": [
    "# Get the model registry handle\n",
    "mr = project.get_model_registry()\n",
    "model_registry = mr.get_model(\"two_tower_model_torch\", version=1) \n",
    "model_registry.delete()\n",
    "\n",
    "# Create the model metadata object\n",
    "torch_model = mr.torch.create_model(\n",
    "    name=\"two_tower_model_torch\",\n",
    "    metrics={'final_loss': total_loss},  # You can add your training metrics here\n",
    "    description=\"Two-tower model for music recommendations\",\n",
    "    version=1,\n",
    "    input_example={\n",
    "        'genre_embedding': genres[0].numpy().tolist(),\n",
    "        'artist_embedding': artists[0].numpy().tolist(),\n",
    "        'playlist_embedding': playlists[0].numpy().tolist()\n",
    "    }\n",
    ")\n",
    "\n",
    "# Save the model to the registry\n",
    "torch_model.save(model_dir)"
   ]
  }
 ],
 "metadata": {
  "kernelspec": {
   "display_name": "Python 3",
   "language": "python",
   "name": "python3"
  },
  "language_info": {
   "codemirror_mode": {
    "name": "ipython",
    "version": 3
   },
   "file_extension": ".py",
   "mimetype": "text/x-python",
   "name": "python",
   "nbconvert_exporter": "python",
   "pygments_lexer": "ipython3",
   "version": "3.10.13"
  }
 },
 "nbformat": 4,
 "nbformat_minor": 4
}
