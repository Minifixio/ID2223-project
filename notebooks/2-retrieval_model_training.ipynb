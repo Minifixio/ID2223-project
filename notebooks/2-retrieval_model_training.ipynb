{
 "cells": [
  {
   "cell_type": "code",
   "execution_count": 78,
   "metadata": {},
   "outputs": [
    {
     "name": "stderr",
     "output_type": "stream",
     "text": [
      "2025-01-06 03:58:25.154284: I tensorflow/core/util/port.cc:153] oneDNN custom operations are on. You may see slightly different numerical results due to floating-point round-off errors from different computation orders. To turn them off, set the environment variable `TF_ENABLE_ONEDNN_OPTS=0`.\n",
      "2025-01-06 03:58:25.165855: E external/local_xla/xla/stream_executor/cuda/cuda_fft.cc:477] Unable to register cuFFT factory: Attempting to register factory for plugin cuFFT when one has already been registered\n",
      "WARNING: All log messages before absl::InitializeLog() is called are written to STDERR\n",
      "E0000 00:00:1736132305.177388   25481 cuda_dnn.cc:8310] Unable to register cuDNN factory: Attempting to register factory for plugin cuDNN when one has already been registered\n",
      "E0000 00:00:1736132305.181103   25481 cuda_blas.cc:1418] Unable to register cuBLAS factory: Attempting to register factory for plugin cuBLAS when one has already been registered\n",
      "2025-01-06 03:58:25.193339: I tensorflow/core/platform/cpu_feature_guard.cc:210] This TensorFlow binary is optimized to use available CPU instructions in performance-critical operations.\n",
      "To enable the following instructions: AVX2 AVX_VNNI FMA, in other operations, rebuild TensorFlow with the appropriate compiler flags.\n"
     ]
    }
   ],
   "source": [
    "from sklearn.preprocessing import normalize\n",
    "import tensorflow as tf\n",
    "from tensorflow.keras import layers, Model\n",
    "from sklearn.metrics.pairwise import cosine_similarity\n",
    "import numpy as np\n",
    "import hopsworks\n",
    "import os"
   ]
  },
  {
   "cell_type": "code",
   "execution_count": 2,
   "metadata": {},
   "outputs": [],
   "source": [
    "if os.getenv('HOPSWORKS_API_KEY') is not None:\n",
    "    HOPSWORKS_API_KEY = os.getenv('HOPSWORKS_API_KEY')\n",
    "else:\n",
    "    with open('../secrets/hopsworks_api_key.txt', 'r') as file:\n",
    "        HOPSWORKS_API_KEY = file.readline().strip()"
   ]
  },
  {
   "cell_type": "code",
   "execution_count": 3,
   "metadata": {},
   "outputs": [
    {
     "name": "stdout",
     "output_type": "stream",
     "text": [
      "2025-01-06 03:58:28,560 INFO: Initializing external client\n",
      "2025-01-06 03:58:28,561 INFO: Base URL: https://c.app.hopsworks.ai:443\n",
      "\n",
      "Multiple projects found. \n",
      "\n",
      "\t (1) id2223_final_project\n",
      "\t (2) id2223_lab1_group9\n",
      "\t (3) lab1_mohamed_Emile\n"
     ]
    },
    {
     "name": "stdin",
     "output_type": "stream",
     "text": [
      "\n",
      "Enter number corresponding to the project to use:  1\n"
     ]
    },
    {
     "name": "stdout",
     "output_type": "stream",
     "text": [
      "2025-01-06 03:58:33,827 INFO: Python Engine initialized.\n",
      "\n",
      "Logged in to project, explore it here https://c.app.hopsworks.ai:443/p/1208515\n"
     ]
    }
   ],
   "source": [
    "project = hopsworks.login(api_key_value=HOPSWORKS_API_KEY)\n",
    "fs = project.get_feature_store() "
   ]
  },
  {
   "cell_type": "code",
   "execution_count": 4,
   "metadata": {},
   "outputs": [
    {
     "name": "stdout",
     "output_type": "stream",
     "text": [
      "Finished: Reading data from Hopsworks, using Hopsworks Feature Query Service (1.51s) \n",
      "A total of 102 user embeddings are available.\n"
     ]
    },
    {
     "data": {
      "text/html": [
       "<div>\n",
       "<style scoped>\n",
       "    .dataframe tbody tr th:only-of-type {\n",
       "        vertical-align: middle;\n",
       "    }\n",
       "\n",
       "    .dataframe tbody tr th {\n",
       "        vertical-align: top;\n",
       "    }\n",
       "\n",
       "    .dataframe thead th {\n",
       "        text-align: right;\n",
       "    }\n",
       "</style>\n",
       "<table border=\"1\" class=\"dataframe\">\n",
       "  <thead>\n",
       "    <tr style=\"text-align: right;\">\n",
       "      <th></th>\n",
       "      <th>user_id</th>\n",
       "      <th>genre_embedding</th>\n",
       "      <th>artist_embedding</th>\n",
       "      <th>playlist_embedding</th>\n",
       "      <th>release_year_embedding</th>\n",
       "    </tr>\n",
       "  </thead>\n",
       "  <tbody>\n",
       "    <tr>\n",
       "      <th>0</th>\n",
       "      <td>31imc4msmvetbl26gly5n55jbkka</td>\n",
       "      <td>[0.1219930648803711, 0.1214483454823494, -0.27...</td>\n",
       "      <td>[0.28332215547561646, -0.15212738513946533, -0...</td>\n",
       "      <td>[0.1219930648803711, 0.1214483454823494, -0.27...</td>\n",
       "      <td>[2018.0]</td>\n",
       "    </tr>\n",
       "    <tr>\n",
       "      <th>1</th>\n",
       "      <td>31tgsl3dejcqihle3pv7o6eeng2a</td>\n",
       "      <td>[-0.3863714933395386, -0.5621631145477295, 0.1...</td>\n",
       "      <td>[0.3942939341068268, -0.33002883195877075, 0.3...</td>\n",
       "      <td>[-0.7064403295516968, -0.9494979381561279, 0.1...</td>\n",
       "      <td>[2019.9066666666668]</td>\n",
       "    </tr>\n",
       "    <tr>\n",
       "      <th>2</th>\n",
       "      <td>31fg5ma4zjh37mcqzto3xt2sxc3a</td>\n",
       "      <td>[-0.31446775794029236, -0.2531762421131134, 0....</td>\n",
       "      <td>[-0.29996415972709656, 0.5447441339492798, 0.0...</td>\n",
       "      <td>[-0.31446775794029236, -0.2531762421131134, 0....</td>\n",
       "      <td>[2019.0]</td>\n",
       "    </tr>\n",
       "    <tr>\n",
       "      <th>3</th>\n",
       "      <td>31h7ml3xiavflj5n7d4av5u5xaie</td>\n",
       "      <td>[-0.3711507022380829, -0.19814574718475342, -0...</td>\n",
       "      <td>[-0.09817744046449661, 0.1808864027261734, -0....</td>\n",
       "      <td>[-0.5167202949523926, -0.22468358278274536, -0...</td>\n",
       "      <td>[2019.8850574712644]</td>\n",
       "    </tr>\n",
       "    <tr>\n",
       "      <th>4</th>\n",
       "      <td>31frxab22c2ez34gnfggtqqsnope</td>\n",
       "      <td>[0.14112409949302673, 0.12898339331150055, -0....</td>\n",
       "      <td>[-0.010701656341552734, 0.32390376925468445, -...</td>\n",
       "      <td>[0.26713827252388, 0.21868111193180084, -0.577...</td>\n",
       "      <td>[2017.2272727272727]</td>\n",
       "    </tr>\n",
       "  </tbody>\n",
       "</table>\n",
       "</div>"
      ],
      "text/plain": [
       "                        user_id  \\\n",
       "0  31imc4msmvetbl26gly5n55jbkka   \n",
       "1  31tgsl3dejcqihle3pv7o6eeng2a   \n",
       "2  31fg5ma4zjh37mcqzto3xt2sxc3a   \n",
       "3  31h7ml3xiavflj5n7d4av5u5xaie   \n",
       "4  31frxab22c2ez34gnfggtqqsnope   \n",
       "\n",
       "                                     genre_embedding  \\\n",
       "0  [0.1219930648803711, 0.1214483454823494, -0.27...   \n",
       "1  [-0.3863714933395386, -0.5621631145477295, 0.1...   \n",
       "2  [-0.31446775794029236, -0.2531762421131134, 0....   \n",
       "3  [-0.3711507022380829, -0.19814574718475342, -0...   \n",
       "4  [0.14112409949302673, 0.12898339331150055, -0....   \n",
       "\n",
       "                                    artist_embedding  \\\n",
       "0  [0.28332215547561646, -0.15212738513946533, -0...   \n",
       "1  [0.3942939341068268, -0.33002883195877075, 0.3...   \n",
       "2  [-0.29996415972709656, 0.5447441339492798, 0.0...   \n",
       "3  [-0.09817744046449661, 0.1808864027261734, -0....   \n",
       "4  [-0.010701656341552734, 0.32390376925468445, -...   \n",
       "\n",
       "                                  playlist_embedding release_year_embedding  \n",
       "0  [0.1219930648803711, 0.1214483454823494, -0.27...               [2018.0]  \n",
       "1  [-0.7064403295516968, -0.9494979381561279, 0.1...   [2019.9066666666668]  \n",
       "2  [-0.31446775794029236, -0.2531762421131134, 0....               [2019.0]  \n",
       "3  [-0.5167202949523926, -0.22468358278274536, -0...   [2019.8850574712644]  \n",
       "4  [0.26713827252388, 0.21868111193180084, -0.577...   [2017.2272727272727]  "
      ]
     },
     "execution_count": 4,
     "metadata": {},
     "output_type": "execute_result"
    }
   ],
   "source": [
    "user_embeddings_fg = fs.get_feature_group(\n",
    "    name='spotify_user_embeddings',\n",
    "    version=2,\n",
    ")\n",
    "\n",
    "user_embeddings_df = user_embeddings_fg.read()\n",
    "print(f\"A total of {len(user_embeddings_df)} user embeddings are available.\")\n",
    "user_embeddings_df.head()"
   ]
  },
  {
   "cell_type": "code",
   "execution_count": 5,
   "metadata": {},
   "outputs": [
    {
     "data": {
      "text/html": [
       "<div>\n",
       "<style scoped>\n",
       "    .dataframe tbody tr th:only-of-type {\n",
       "        vertical-align: middle;\n",
       "    }\n",
       "\n",
       "    .dataframe tbody tr th {\n",
       "        vertical-align: top;\n",
       "    }\n",
       "\n",
       "    .dataframe thead th {\n",
       "        text-align: right;\n",
       "    }\n",
       "</style>\n",
       "<table border=\"1\" class=\"dataframe\">\n",
       "  <thead>\n",
       "    <tr style=\"text-align: right;\">\n",
       "      <th></th>\n",
       "      <th>user_id</th>\n",
       "      <th>genre_embedding</th>\n",
       "      <th>artist_embedding</th>\n",
       "      <th>playlist_embedding</th>\n",
       "      <th>release_year_embedding</th>\n",
       "      <th>full_embedding</th>\n",
       "      <th>normalized_embedding</th>\n",
       "    </tr>\n",
       "  </thead>\n",
       "  <tbody>\n",
       "    <tr>\n",
       "      <th>0</th>\n",
       "      <td>31imc4msmvetbl26gly5n55jbkka</td>\n",
       "      <td>[0.1219930648803711, 0.1214483454823494, -0.27...</td>\n",
       "      <td>[0.28332215547561646, -0.15212738513946533, -0...</td>\n",
       "      <td>[0.1219930648803711, 0.1214483454823494, -0.27...</td>\n",
       "      <td>[2018.0]</td>\n",
       "      <td>[0.1219930648803711, 0.1214483454823494, -0.27...</td>\n",
       "      <td>[6.0451476847805844e-05, 6.018155091299676e-05...</td>\n",
       "    </tr>\n",
       "    <tr>\n",
       "      <th>1</th>\n",
       "      <td>31tgsl3dejcqihle3pv7o6eeng2a</td>\n",
       "      <td>[-0.3863714933395386, -0.5621631145477295, 0.1...</td>\n",
       "      <td>[0.3942939341068268, -0.33002883195877075, 0.3...</td>\n",
       "      <td>[-0.7064403295516968, -0.9494979381561279, 0.1...</td>\n",
       "      <td>[2019.9066666666668]</td>\n",
       "      <td>[-0.3863714933395386, -0.5621631145477295, 0.1...</td>\n",
       "      <td>[-0.00019127666431846473, -0.00027830387905733...</td>\n",
       "    </tr>\n",
       "    <tr>\n",
       "      <th>2</th>\n",
       "      <td>31fg5ma4zjh37mcqzto3xt2sxc3a</td>\n",
       "      <td>[-0.31446775794029236, -0.2531762421131134, 0....</td>\n",
       "      <td>[-0.29996415972709656, 0.5447441339492798, 0.0...</td>\n",
       "      <td>[-0.31446775794029236, -0.2531762421131134, 0....</td>\n",
       "      <td>[2019.0]</td>\n",
       "      <td>[-0.31446775794029236, -0.2531762421131134, 0....</td>\n",
       "      <td>[-0.0001557508143566418, -0.000125394113988495...</td>\n",
       "    </tr>\n",
       "    <tr>\n",
       "      <th>3</th>\n",
       "      <td>31h7ml3xiavflj5n7d4av5u5xaie</td>\n",
       "      <td>[-0.3711507022380829, -0.19814574718475342, -0...</td>\n",
       "      <td>[-0.09817744046449661, 0.1808864027261734, -0....</td>\n",
       "      <td>[-0.5167202949523926, -0.22468358278274536, -0...</td>\n",
       "      <td>[2019.8850574712644]</td>\n",
       "      <td>[-0.3711507022380829, -0.19814574718475342, -0...</td>\n",
       "      <td>[-0.00018374682362942734, -9.809667997751179e-...</td>\n",
       "    </tr>\n",
       "    <tr>\n",
       "      <th>4</th>\n",
       "      <td>31frxab22c2ez34gnfggtqqsnope</td>\n",
       "      <td>[0.14112409949302673, 0.12898339331150055, -0....</td>\n",
       "      <td>[-0.010701656341552734, 0.32390376925468445, -...</td>\n",
       "      <td>[0.26713827252388, 0.21868111193180084, -0.577...</td>\n",
       "      <td>[2017.2272727272727]</td>\n",
       "      <td>[0.14112409949302673, 0.12898339331150055, -0....</td>\n",
       "      <td>[6.995799678794909e-05, 6.393960951673316e-05,...</td>\n",
       "    </tr>\n",
       "  </tbody>\n",
       "</table>\n",
       "</div>"
      ],
      "text/plain": [
       "                        user_id  \\\n",
       "0  31imc4msmvetbl26gly5n55jbkka   \n",
       "1  31tgsl3dejcqihle3pv7o6eeng2a   \n",
       "2  31fg5ma4zjh37mcqzto3xt2sxc3a   \n",
       "3  31h7ml3xiavflj5n7d4av5u5xaie   \n",
       "4  31frxab22c2ez34gnfggtqqsnope   \n",
       "\n",
       "                                     genre_embedding  \\\n",
       "0  [0.1219930648803711, 0.1214483454823494, -0.27...   \n",
       "1  [-0.3863714933395386, -0.5621631145477295, 0.1...   \n",
       "2  [-0.31446775794029236, -0.2531762421131134, 0....   \n",
       "3  [-0.3711507022380829, -0.19814574718475342, -0...   \n",
       "4  [0.14112409949302673, 0.12898339331150055, -0....   \n",
       "\n",
       "                                    artist_embedding  \\\n",
       "0  [0.28332215547561646, -0.15212738513946533, -0...   \n",
       "1  [0.3942939341068268, -0.33002883195877075, 0.3...   \n",
       "2  [-0.29996415972709656, 0.5447441339492798, 0.0...   \n",
       "3  [-0.09817744046449661, 0.1808864027261734, -0....   \n",
       "4  [-0.010701656341552734, 0.32390376925468445, -...   \n",
       "\n",
       "                                  playlist_embedding release_year_embedding  \\\n",
       "0  [0.1219930648803711, 0.1214483454823494, -0.27...               [2018.0]   \n",
       "1  [-0.7064403295516968, -0.9494979381561279, 0.1...   [2019.9066666666668]   \n",
       "2  [-0.31446775794029236, -0.2531762421131134, 0....               [2019.0]   \n",
       "3  [-0.5167202949523926, -0.22468358278274536, -0...   [2019.8850574712644]   \n",
       "4  [0.26713827252388, 0.21868111193180084, -0.577...   [2017.2272727272727]   \n",
       "\n",
       "                                      full_embedding  \\\n",
       "0  [0.1219930648803711, 0.1214483454823494, -0.27...   \n",
       "1  [-0.3863714933395386, -0.5621631145477295, 0.1...   \n",
       "2  [-0.31446775794029236, -0.2531762421131134, 0....   \n",
       "3  [-0.3711507022380829, -0.19814574718475342, -0...   \n",
       "4  [0.14112409949302673, 0.12898339331150055, -0....   \n",
       "\n",
       "                                normalized_embedding  \n",
       "0  [6.0451476847805844e-05, 6.018155091299676e-05...  \n",
       "1  [-0.00019127666431846473, -0.00027830387905733...  \n",
       "2  [-0.0001557508143566418, -0.000125394113988495...  \n",
       "3  [-0.00018374682362942734, -9.809667997751179e-...  \n",
       "4  [6.995799678794909e-05, 6.393960951673316e-05,...  "
      ]
     },
     "execution_count": 5,
     "metadata": {},
     "output_type": "execute_result"
    }
   ],
   "source": [
    "user_embeddings_df['full_embedding'] = user_embeddings_df.apply(\n",
    "    lambda row: np.concatenate(\n",
    "        [row['genre_embedding'], row['artist_embedding'], row['playlist_embedding'], row['release_year_embedding']]\n",
    "    ),\n",
    "    axis=1\n",
    ")\n",
    "normalized_embeddings = normalize(np.array(user_embeddings_df['full_embedding'].tolist()))\n",
    "user_embeddings_df['normalized_embedding'] = normalized_embeddings.tolist()\n",
    "user_embeddings_df.head()"
   ]
  },
  {
   "cell_type": "code",
   "execution_count": 6,
   "metadata": {},
   "outputs": [],
   "source": [
    "def build_user_tower(input_dim, embedding_dim=128):\n",
    "    inputs = layers.Input(shape=(input_dim,))\n",
    "    x = layers.Dense(256, activation='relu')(inputs)\n",
    "    x = layers.Dropout(0.2)(x)\n",
    "    x = layers.Dense(128, activation='relu')(x)\n",
    "    user_embedding = layers.Dense(embedding_dim, activation=None)(x)  # Final user embedding\n",
    "    return Model(inputs, user_embedding, name=\"UserTower\")\n",
    "\n",
    "def build_candidate_tower(input_dim, embedding_dim=128):\n",
    "    inputs = layers.Input(shape=(input_dim,))\n",
    "    x = layers.Dense(256, activation='relu')(inputs)\n",
    "    x = layers.Dropout(0.2)(x)\n",
    "    x = layers.Dense(128, activation='relu')(x)\n",
    "    candidate_embedding = layers.Dense(embedding_dim, activation=None)(x)  # Final candidate embedding\n",
    "    return Model(inputs, candidate_embedding, name=\"CandidateTower\")\n",
    "\n",
    "def build_feature_cross_model(user_input_dim, candidate_input_dim, embedding_dim=128):\n",
    "    # User tower\n",
    "    user_tower = build_user_tower(user_input_dim, embedding_dim)\n",
    "    user_embedding = user_tower.output\n",
    "\n",
    "    # Candidate tower\n",
    "    candidate_tower = build_candidate_tower(candidate_input_dim, embedding_dim)\n",
    "    candidate_embedding = candidate_tower.output\n",
    "\n",
    "    # Feature cross layer\n",
    "    cross_layer = layers.Dot(axes=1)([user_embedding, candidate_embedding])\n",
    "    cross_output = layers.Reshape((1,))(cross_layer)\n",
    "\n",
    "    # Concatenate cross output with user embedding\n",
    "    combined = layers.Concatenate()([user_embedding, cross_output])\n",
    "\n",
    "    # Deep layers\n",
    "    x = layers.Dense(256, activation='relu')(combined)\n",
    "    x = layers.Dropout(0.2)(x)\n",
    "    x = layers.Dense(128, activation='relu')(x)\n",
    "    x = layers.Dropout(0.2)(x)\n",
    "    x = layers.Dense(64, activation='relu')(x)\n",
    "    x = layers.Dropout(0.2)(x)\n",
    "    x = layers.Dense(32, activation='relu')(x)\n",
    "    x = layers.Dropout(0.2)(x)\n",
    "    x = layers.Dense(16, activation='relu')(x)\n",
    "    x = layers.Dropout(0.2)(x)\n",
    "    x = layers.Dense(8, activation='relu')(x)\n",
    "    x = layers.Dropout(0.2)(x)\n",
    "    x = layers.Dense(4, activation='relu')(x)\n",
    "    x = layers.Dropout(0.2)(x)\n",
    "    x = layers.Dense(2, activation='relu')(x)\n",
    "    x = layers.Dropout(0.2)(x)\n",
    "    x = layers.Dense(1, activation='sigmoid')(x)\n",
    "\n",
    "    # Final model\n",
    "    model = Model(inputs=[user_tower.input, candidate_tower.input], outputs=x)\n",
    "    return model"
   ]
  },
  {
   "cell_type": "code",
   "execution_count": 7,
   "metadata": {},
   "outputs": [
    {
     "name": "stderr",
     "output_type": "stream",
     "text": [
      "2025-01-06 03:59:22.430136: E external/local_xla/xla/stream_executor/cuda/cuda_driver.cc:152] failed call to cuInit: INTERNAL: CUDA error: Failed call to cuInit: UNKNOWN ERROR (303)\n"
     ]
    }
   ],
   "source": [
    "# Example usage\n",
    "user_input_dim = len(normalized_embeddings[0])       # Example input dimension for user features\n",
    "candidate_input_dim = len(normalized_embeddings[0])  # Example input dimension for candidate features\n",
    "embedding_dim = 128\n",
    "\n",
    "model = build_feature_cross_model(user_input_dim, candidate_input_dim, embedding_dim)\n",
    "model.compile(optimizer=tf.keras.optimizers.Adam(learning_rate=0.001),\n",
    "              loss='binary_crossentropy',\n",
    "              metrics=['accuracy'])"
   ]
  },
  {
   "cell_type": "code",
   "execution_count": 8,
   "metadata": {},
   "outputs": [],
   "source": [
    "def generate_pairs(embeddings, similarity_threshold=0.8, negative_ratio=1):\n",
    "    pairs = []\n",
    "    labels = []\n",
    "\n",
    "    # Compute cosine similarity for all pairs\n",
    "    similarity_matrix = cosine_similarity(embeddings)  # This is a valid pairwise similarity matrix\n",
    "\n",
    "    for i in range(len(embeddings)):\n",
    "        for j in range(i + 1, len(embeddings)):\n",
    "            if similarity_matrix[i, j] > similarity_threshold:\n",
    "                # Positive pair\n",
    "                pairs.append((embeddings[i], embeddings[j]))\n",
    "                labels.append(1)\n",
    "\n",
    "                # # Generate negative pairs\n",
    "                # for _ in range(negative_ratio):\n",
    "                #     negative_index = np.random.choice(len(embeddings))\n",
    "                #     while negative_index == i or negative_index == j:\n",
    "                #         negative_index = np.random.choice(len(embeddings))\n",
    "\n",
    "                #     pairs.append((embeddings[i], embeddings[negative_index]))\n",
    "                #     labels.append(0)\n",
    "\n",
    "                # Generate semi-hard negatives\n",
    "                for _ in range(negative_ratio):\n",
    "                    semi_hard_found = False\n",
    "                    for k in range(len(embeddings)):\n",
    "                        if k != i and k != j:  # Avoid self-pairs or positive pairs\n",
    "                            similarity = similarity_matrix[i, k]\n",
    "                            if similarity_threshold/2 < similarity < similarity_threshold:\n",
    "                                # Semi-hard negative found\n",
    "                                pairs.append((embeddings[i], embeddings[k]))\n",
    "                                labels.append(0)\n",
    "                                semi_hard_found = True\n",
    "                                break  # Stop after finding one semi-hard negative\n",
    "                    \n",
    "                    if not semi_hard_found:\n",
    "                        # Fall back to a random negative if no semi-hard is found\n",
    "                        negative_index = np.random.choice(len(embeddings))\n",
    "                        while negative_index == i or negative_index == j:\n",
    "                            negative_index = np.random.choice(len(embeddings))\n",
    "                        pairs.append((embeddings[i], embeddings[negative_index]))\n",
    "                        labels.append(0)\n",
    "            \n",
    "    \n",
    "    return np.array(pairs), np.array(labels)"
   ]
  },
  {
   "cell_type": "code",
   "execution_count": 9,
   "metadata": {},
   "outputs": [
    {
     "name": "stdout",
     "output_type": "stream",
     "text": [
      "Epoch 1/10\n",
      "\u001b[1m253/253\u001b[0m \u001b[32m━━━━━━━━━━━━━━━━━━━━\u001b[0m\u001b[37m\u001b[0m \u001b[1m4s\u001b[0m 7ms/step - accuracy: 0.5046 - loss: 0.6932 - val_accuracy: 0.5000 - val_loss: 0.6931\n",
      "Epoch 2/10\n",
      "\u001b[1m253/253\u001b[0m \u001b[32m━━━━━━━━━━━━━━━━━━━━\u001b[0m\u001b[37m\u001b[0m \u001b[1m2s\u001b[0m 8ms/step - accuracy: 0.4801 - loss: 0.6932 - val_accuracy: 0.5000 - val_loss: 0.6931\n",
      "Epoch 3/10\n",
      "\u001b[1m253/253\u001b[0m \u001b[32m━━━━━━━━━━━━━━━━━━━━\u001b[0m\u001b[37m\u001b[0m \u001b[1m2s\u001b[0m 9ms/step - accuracy: 0.4904 - loss: 0.6932 - val_accuracy: 0.5000 - val_loss: 0.6931\n",
      "Epoch 4/10\n",
      "\u001b[1m253/253\u001b[0m \u001b[32m━━━━━━━━━━━━━━━━━━━━\u001b[0m\u001b[37m\u001b[0m \u001b[1m2s\u001b[0m 10ms/step - accuracy: 0.5008 - loss: 0.6932 - val_accuracy: 0.5000 - val_loss: 0.6931\n",
      "Epoch 5/10\n",
      "\u001b[1m253/253\u001b[0m \u001b[32m━━━━━━━━━━━━━━━━━━━━\u001b[0m\u001b[37m\u001b[0m \u001b[1m2s\u001b[0m 9ms/step - accuracy: 0.5008 - loss: 0.6932 - val_accuracy: 0.5000 - val_loss: 0.6931\n",
      "Epoch 6/10\n",
      "\u001b[1m253/253\u001b[0m \u001b[32m━━━━━━━━━━━━━━━━━━━━\u001b[0m\u001b[37m\u001b[0m \u001b[1m2s\u001b[0m 9ms/step - accuracy: 0.4879 - loss: 0.6932 - val_accuracy: 0.5000 - val_loss: 0.6931\n",
      "Epoch 7/10\n",
      "\u001b[1m253/253\u001b[0m \u001b[32m━━━━━━━━━━━━━━━━━━━━\u001b[0m\u001b[37m\u001b[0m \u001b[1m2s\u001b[0m 9ms/step - accuracy: 0.4979 - loss: 0.6932 - val_accuracy: 0.5000 - val_loss: 0.6931\n",
      "Epoch 8/10\n",
      "\u001b[1m253/253\u001b[0m \u001b[32m━━━━━━━━━━━━━━━━━━━━\u001b[0m\u001b[37m\u001b[0m \u001b[1m2s\u001b[0m 9ms/step - accuracy: 0.5044 - loss: 0.6931 - val_accuracy: 0.5000 - val_loss: 0.6931\n",
      "Epoch 9/10\n",
      "\u001b[1m253/253\u001b[0m \u001b[32m━━━━━━━━━━━━━━━━━━━━\u001b[0m\u001b[37m\u001b[0m \u001b[1m2s\u001b[0m 9ms/step - accuracy: 0.4976 - loss: 0.6932 - val_accuracy: 0.5000 - val_loss: 0.6931\n",
      "Epoch 10/10\n",
      "\u001b[1m253/253\u001b[0m \u001b[32m━━━━━━━━━━━━━━━━━━━━\u001b[0m\u001b[37m\u001b[0m \u001b[1m2s\u001b[0m 8ms/step - accuracy: 0.5040 - loss: 0.6932 - val_accuracy: 0.5000 - val_loss: 0.6931\n"
     ]
    }
   ],
   "source": [
    "# Generate training data\n",
    "pairs, labels = generate_pairs(normalized_embeddings)\n",
    "user_1 = np.array([pair[0] for pair in pairs])\n",
    "user_2 = np.array([pair[1] for pair in pairs])\n",
    "\n",
    "history = model.fit(\n",
    "    [user_1, user_2],  # Input: pairs of user embeddings\n",
    "    labels,            # Output: similarity labels\n",
    "    batch_size=32,\n",
    "    epochs=10,\n",
    "    validation_split=0.2\n",
    ")"
   ]
  },
  {
   "cell_type": "code",
   "execution_count": 10,
   "metadata": {},
   "outputs": [
    {
     "name": "stdout",
     "output_type": "stream",
     "text": [
      "2025-01-06 04:00:15,419 WARNING: The `save_format` argument is deprecated in Keras 3. We recommend removing this argument as it can be inferred from the file path. Received: save_format=tf\n"
     ]
    },
    {
     "data": {
      "application/vnd.jupyter.widget-view+json": {
       "model_id": "50fecdeb49c34e0c8033e82a3c214f74",
       "version_major": 2,
       "version_minor": 0
      },
      "text/plain": [
       "  0%|          | 0/6 [00:00<?, ?it/s]"
      ]
     },
     "metadata": {},
     "output_type": "display_data"
    },
    {
     "data": {
      "application/vnd.jupyter.widget-view+json": {
       "model_id": "c94796d3f6e14de3965e84f8dc35b4c8",
       "version_major": 2,
       "version_minor": 0
      },
      "text/plain": [
       "Uploading: 0.000%|          | 0/9326635 elapsed<00:00 remaining<?"
      ]
     },
     "metadata": {},
     "output_type": "display_data"
    },
    {
     "name": "stdout",
     "output_type": "stream",
     "text": [
      "Model created, explore it at https://c.app.hopsworks.ai:443/p/1208515/models/two_tower_recommender/8\n",
      "Model 'two_tower_recommender' uploaded to Hopsworks!\n"
     ]
    }
   ],
   "source": [
    "mr = project.get_model_registry()\n",
    "model.save(\"two_tower_model.keras\", save_format=\"tf\")\n",
    "\n",
    "# Create a new model version\n",
    "model_dir = \"two_tower_model.keras\"\n",
    "model_name = \"two_tower_recommender\"\n",
    "\n",
    "model_registry = mr.python.create_model(\n",
    "    name=model_name,\n",
    "    metrics={\"accuracy\": history.history[\"accuracy\"][-1]},  # Log the final accuracy\n",
    "    description=\"Two-Tower Recommender Model for User Similarity\",\n",
    ")\n",
    "\n",
    "model_registry.save(model_dir)\n",
    "print(f\"Model '{model_name}' uploaded to Hopsworks!\")"
   ]
  }
 ],
 "metadata": {
  "kernelspec": {
   "display_name": "Python 3 (ipykernel)",
   "language": "python",
   "name": "python3"
  },
  "language_info": {
   "codemirror_mode": {
    "name": "ipython",
    "version": 3
   },
   "file_extension": ".py",
   "mimetype": "text/x-python",
   "name": "python",
   "nbconvert_exporter": "python",
   "pygments_lexer": "ipython3",
   "version": "3.12.7"
  }
 },
 "nbformat": 4,
 "nbformat_minor": 4
}
