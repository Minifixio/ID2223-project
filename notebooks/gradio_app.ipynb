{
 "cells": [
  {
   "cell_type": "code",
   "execution_count": 5,
   "metadata": {},
   "outputs": [],
   "source": [
    "import gradio as gr\n",
    "import re\n",
    "import numpy as np\n",
    "import pandas as pd\n",
    "import tensorflow as tf\n",
    "import spotipy\n",
    "from spotipy.oauth2 import SpotifyClientCredentials\n",
    "import hopsworks\n",
    "from sklearn.preprocessing import normalize\n",
    "from sklearn.metrics.pairwise import cosine_similarity\n",
    "import os\n",
    "import pickle"
   ]
  },
  {
   "cell_type": "code",
   "execution_count": 6,
   "metadata": {},
   "outputs": [
    {
     "name": "stdout",
     "output_type": "stream",
     "text": [
      "2025-01-02 22:13:05,537 INFO: Closing external client and cleaning up certificates.\n",
      "Connection closed.\n",
      "2025-01-02 22:13:05,545 INFO: Initializing external client\n",
      "2025-01-02 22:13:05,545 INFO: Base URL: https://c.app.hopsworks.ai:443\n",
      "2025-01-02 22:13:06,695 INFO: Python Engine initialized.\n",
      "\n",
      "Logged in to project, explore it here https://c.app.hopsworks.ai:443/p/1208515\n",
      "Downloading model artifact (0 dirs, 1 files)... DONE\r"
     ]
    }
   ],
   "source": [
    "# Load credentials\n",
    "with open('../secrets/hopsworks_api_key.txt', 'r') as file:\n",
    "    HOPSWORKS_API_KEY = file.readline().strip()\n",
    "\n",
    "with open('../secrets/spotify_client_id.txt', 'r') as file:\n",
    "    SPOTIFY_CLIENT_ID = file.readline().strip()\n",
    "\n",
    "with open('../secrets/spotify_client_secret.txt', 'r') as file:\n",
    "    SPOTIFY_CLIENT_SECRET = file.readline().strip()\n",
    "\n",
    "client_credentials_manager = SpotifyClientCredentials(client_id=SPOTIFY_CLIENT_ID, client_secret=SPOTIFY_CLIENT_SECRET)\n",
    "sp = spotipy.Spotify(client_credentials_manager=client_credentials_manager)\n",
    "\n",
    "# Connect to Hopsworks\n",
    "project = hopsworks.login(api_key_value=HOPSWORKS_API_KEY)\n",
    "fs = project.get_feature_store()\n",
    "mr = project.get_model_registry()\n",
    "\n",
    "# Retrieve the genre embedding model\n",
    "genre_model_registry = mr.get_model(\"genre_embedding_model\", version=1)\n",
    "genre_model_file_path = genre_model_registry.download()\n",
    "with open(genre_model_file_path + '/genre_embedding_model.pkl', \"rb\") as f:\n",
    "    genre_embedding_model = pickle.load(f)\n",
    "\n",
    "# Retrieve the artist embedding model\n",
    "artist_model_registry = mr.get_model(\"artist_embedding_model\", version=1)\n",
    "artist_model_file_path = artist_model_registry.download()\n",
    "with open(artist_model_file_path + '/artist_embedding_model.pkl', \"rb\") as f:\n",
    "    artist_embedding_model = pickle.load(f)\n",
    "\n",
    "# Retrieve the Keras model from the model registry\n",
    "model_registry = mr.get_model(\"two_tower_recommender\", version=1)\n",
    "model_file_path = model_registry.download()\n",
    "model = tf.keras.models.load_model(model_file_path + '/two_tower_model.keras')"
   ]
  },
  {
   "cell_type": "code",
   "execution_count": 7,
   "metadata": {},
   "outputs": [],
   "source": [
    "def extract_user_id(spotify_url):\n",
    "    \"\"\"Extract the Spotify user ID from the URL.\"\"\"\n",
    "    match = re.search(r\"user/([^?]+)\", spotify_url)\n",
    "    if match:\n",
    "        return match.group(1)\n",
    "    return None\n",
    "\n",
    "def generate_user_embedding(user_playlists, genre_embedding_model, artist_embedding_model, top_artist_count=5, playlists_count=10):\n",
    "    \"\"\"Generate the embedding for a Spotify user.\"\"\"\n",
    "    all_genres, all_artists = [], []\n",
    "    for playlist in user_playlists[:playlists_count]:\n",
    "        tracks = sp.playlist_tracks(playlist[\"id\"])[\"items\"]\n",
    "        for item in tracks:\n",
    "            track = item[\"track\"]\n",
    "            if track:\n",
    "                artist_id = track[\"artists\"][0][\"id\"]\n",
    "                artist = sp.artist(artist_id)\n",
    "                genres = artist.get(\"genres\", [])\n",
    "                all_genres.extend(genres)\n",
    "                all_artists.append(artist.get(\"name\", \"Unknown\"))\n",
    "\n",
    "    artist_embedding = np.mean(\n",
    "        [artist_embedding_model.wv[artist] for artist in all_artists if artist in artist_embedding_model.wv],\n",
    "        axis=0\n",
    "    ) if all_artists else np.zeros(100)\n",
    "\n",
    "    genre_embedding = np.mean(\n",
    "        [genre_embedding_model.wv[genre] for genre in all_genres if genre in genre_embedding_model.wv],\n",
    "        axis=0\n",
    "    ) if all_genres else np.zeros(100)\n",
    "\n",
    "    return np.concatenate([genre_embedding, artist_embedding])\n",
    "\n",
    "def recommend_users(spotify_url):\n",
    "    user_id = extract_user_id(spotify_url)\n",
    "    if not user_id:\n",
    "        return \"Invalid Spotify profile URL.\"\n",
    "\n",
    "    # Fetch user playlists\n",
    "    try:\n",
    "        playlists = sp.user_playlists(user_id)[\"items\"]\n",
    "        if not playlists:\n",
    "            return f\"No playlists found for user {user_id}.\"\n",
    "    except Exception as e:\n",
    "        return f\"Error fetching playlists for user {user_id}: {e}\"\n",
    "\n",
    "    # Generate user embedding\n",
    "    user_embedding = generate_user_embedding(playlists, genre_embedding_model, artist_embedding_model)\n",
    "    user_embedding_normalized = normalize(user_embedding.reshape(1, -1))\n",
    "\n",
    "    # Insert into the feature store\n",
    "    user_embeddings_fg = fs.get_or_create_feature_group(\n",
    "        name=\"spotify_user_embeddings\",\n",
    "        version=1,\n",
    "        primary_key=[\"user_id\"],\n",
    "        description=\"Spotify user embeddings\"\n",
    "    )\n",
    "    user_embeddings_fg.insert(pd.DataFrame([{\n",
    "        \"user_id\": user_id,\n",
    "        \"normalized_embedding\": user_embedding.tolist()\n",
    "    }]))\n",
    "\n",
    "    # Retrieve all user embeddings\n",
    "    all_user_embeddings = user_embeddings_fg.read()\n",
    "    all_embeddings = np.array(all_user_embeddings[\"normalized_embedding\"].tolist())\n",
    "    all_user_ids = all_user_embeddings[\"user_id\"].tolist()\n",
    "\n",
    "    # Compute similarity scores\n",
    "    similarities = cosine_similarity(user_embedding_normalized, normalize(all_embeddings)).flatten()\n",
    "\n",
    "    # Find the top matches\n",
    "    top_indices = np.argsort(similarities)[::-1][:5]\n",
    "    results = []\n",
    "    for idx in top_indices:\n",
    "        matched_user_id = all_user_ids[idx]\n",
    "        matched_similarity = similarities[idx]\n",
    "        try:\n",
    "            matched_profile = sp.user(matched_user_id)\n",
    "            profile_pic = matched_profile.get(\"images\", [{}])[0].get(\"url\", None)\n",
    "            display_name = matched_profile.get(\"display_name\", \"Unknown User\")\n",
    "            profile_url = matched_profile.get(\"external_urls\", {}).get(\"spotify\", \"#\")\n",
    "            results.append({\n",
    "                \"profile_pic\": profile_pic,\n",
    "                \"display_name\": display_name,\n",
    "                \"profile_url\": profile_url,\n",
    "                \"similarity\": matched_similarity\n",
    "            })\n",
    "        except Exception as e:\n",
    "            results.append({\n",
    "                \"profile_pic\": None,\n",
    "                \"display_name\": f\"Error fetching profile: {e}\",\n",
    "                \"profile_url\": \"#\",\n",
    "                \"similarity\": matched_similarity\n",
    "            })\n",
    "\n",
    "    # Format results\n",
    "    output = []\n",
    "    for result in results:\n",
    "        if result[\"profile_pic\"]:\n",
    "            img_tag = f'<img src=\"{result[\"profile_pic\"]}\" alt=\"Profile Picture\" width=\"100\" height=\"100\">'\n",
    "        else:\n",
    "            img_tag = \"\"\n",
    "        link_tag = f'<a href=\"{result[\"profile_url\"]}\" target=\"_blank\">{result[\"display_name\"]}</a>'\n",
    "        similarity_tag = f\" (Similarity: {result['similarity']:.2f})\"\n",
    "        output.append(f\"{img_tag} {link_tag} {similarity_tag}\")\n",
    "\n",
    "    return \"<br>\".join(output)"
   ]
  },
  {
   "cell_type": "code",
   "execution_count": 8,
   "metadata": {},
   "outputs": [
    {
     "name": "stdout",
     "output_type": "stream",
     "text": [
      "* Running on local URL:  http://127.0.0.1:7860\n",
      "2025-01-02 22:13:33,984 INFO: HTTP Request: GET http://127.0.0.1:7860/gradio_api/startup-events \"HTTP/1.1 200 OK\"\n",
      "2025-01-02 22:13:34,000 INFO: HTTP Request: HEAD http://127.0.0.1:7860/ \"HTTP/1.1 200 OK\"\n",
      "\n",
      "To create a public link, set `share=True` in `launch()`.\n"
     ]
    },
    {
     "data": {
      "text/html": [
       "<div><iframe src=\"http://127.0.0.1:7860/\" width=\"100%\" height=\"500\" allow=\"autoplay; camera; microphone; clipboard-read; clipboard-write;\" frameborder=\"0\" allowfullscreen></iframe></div>"
      ],
      "text/plain": [
       "<IPython.core.display.HTML object>"
      ]
     },
     "metadata": {},
     "output_type": "display_data"
    },
    {
     "data": {
      "text/plain": []
     },
     "execution_count": 8,
     "metadata": {},
     "output_type": "execute_result"
    },
    {
     "name": "stdout",
     "output_type": "stream",
     "text": [
      "2025-01-02 22:13:34,495 INFO: HTTP Request: GET https://api.gradio.app/pkg-version \"HTTP/1.1 200 OK\"\n"
     ]
    }
   ],
   "source": [
    "# Create the Gradio UI\n",
    "interface = gr.Interface(\n",
    "    fn=recommend_users,\n",
    "    inputs=gr.Textbox(label=\"Spotify Profile URL\"),\n",
    "    outputs=gr.HTML(label=\"Recommended Spotify Profiles\"),\n",
    "    title=\"Spotify Profile Recommender\",\n",
    "    description=\"Enter your Spotify profile URL to find the most similar users based on your playlists!\"\n",
    ")\n",
    "\n",
    "# Launch the app\n",
    "interface.launch()"
   ]
  }
 ],
 "metadata": {
  "kernelspec": {
   "display_name": "Python 3",
   "language": "python",
   "name": "python3"
  },
  "language_info": {
   "codemirror_mode": {
    "name": "ipython",
    "version": 3
   },
   "file_extension": ".py",
   "mimetype": "text/x-python",
   "name": "python",
   "nbconvert_exporter": "python",
   "pygments_lexer": "ipython3",
   "version": "3.10.13"
  }
 },
 "nbformat": 4,
 "nbformat_minor": 2
}
