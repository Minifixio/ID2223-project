{
 "cells": [
  {
   "cell_type": "code",
   "execution_count": 1,
   "metadata": {},
   "outputs": [
    {
     "name": "stdout",
     "output_type": "stream",
     "text": [
      "2025-01-04 12:04:32,916 INFO: PyTorch version 2.2.0 available.\n",
      "2025-01-04 12:04:32,917 INFO: TensorFlow version 2.18.0 available.\n"
     ]
    }
   ],
   "source": [
    "import gradio as gr\n",
    "import re\n",
    "import numpy as np\n",
    "import pandas as pd\n",
    "import tensorflow as tf\n",
    "import spotipy\n",
    "from spotipy.oauth2 import SpotifyClientCredentials\n",
    "import hopsworks\n",
    "from sklearn.preprocessing import normalize\n",
    "from sklearn.metrics.pairwise import cosine_similarity\n",
    "from collections import Counter\n",
    "from sentence_transformers import SentenceTransformer\n",
    "from tensorflow.keras.models import Model"
   ]
  },
  {
   "cell_type": "code",
   "execution_count": 2,
   "metadata": {},
   "outputs": [],
   "source": [
    "# Load credentials\n",
    "with open('../secrets/hopsworks_api_key.txt', 'r') as file:\n",
    "    HOPSWORKS_API_KEY = file.readline().strip()\n",
    "\n",
    "with open('../secrets/spotify_client_id.txt', 'r') as file:\n",
    "    SPOTIFY_CLIENT_ID = file.readline().strip()\n",
    "\n",
    "with open('../secrets/spotify_client_secret.txt', 'r') as file:\n",
    "    SPOTIFY_CLIENT_SECRET = file.readline().strip()"
   ]
  },
  {
   "cell_type": "code",
   "execution_count": 3,
   "metadata": {},
   "outputs": [],
   "source": [
    "client_credentials_manager = SpotifyClientCredentials(client_id=SPOTIFY_CLIENT_ID, client_secret=SPOTIFY_CLIENT_SECRET)\n",
    "sp = spotipy.Spotify(client_credentials_manager=client_credentials_manager)"
   ]
  },
  {
   "cell_type": "code",
   "execution_count": 4,
   "metadata": {},
   "outputs": [
    {
     "name": "stdout",
     "output_type": "stream",
     "text": [
      "2025-01-04 12:04:33,122 INFO: Initializing external client\n",
      "2025-01-04 12:04:33,123 INFO: Base URL: https://c.app.hopsworks.ai:443\n",
      "2025-01-04 12:04:34,327 INFO: Python Engine initialized.\n",
      "\n",
      "Logged in to project, explore it here https://c.app.hopsworks.ai:443/p/1208515\n"
     ]
    }
   ],
   "source": [
    "# Connect to Hopsworks\n",
    "project = hopsworks.login(api_key_value=HOPSWORKS_API_KEY)\n",
    "fs = project.get_feature_store()"
   ]
  },
  {
   "cell_type": "code",
   "execution_count": 5,
   "metadata": {},
   "outputs": [
    {
     "name": "stdout",
     "output_type": "stream",
     "text": [
      "Downloading model artifact (0 dirs, 1 files)... DONE\r"
     ]
    }
   ],
   "source": [
    "# Retrieve the Keras model from the model registry\n",
    "mr = project.get_model_registry()\n",
    "model_registry = mr.get_model(\"two_tower_recommender\", version=1)\n",
    "model_file_path = model_registry.download()\n",
    "model = tf.keras.models.load_model(\n",
    "    model_file_path + '/two_tower_model.keras',\n",
    "    custom_objects={\"Model\": Model}\n",
    ")"
   ]
  },
  {
   "cell_type": "code",
   "execution_count": 6,
   "metadata": {},
   "outputs": [
    {
     "name": "stdout",
     "output_type": "stream",
     "text": [
      "2025-01-04 12:04:38,112 INFO: Use pytorch device_name: mps\n",
      "2025-01-04 12:04:38,113 INFO: Load pretrained SentenceTransformer: paraphrase-MiniLM-L6-v2\n"
     ]
    }
   ],
   "source": [
    "transformer_model = SentenceTransformer('paraphrase-MiniLM-L6-v2')  # This can be replaced if needed"
   ]
  },
  {
   "cell_type": "code",
   "execution_count": 7,
   "metadata": {},
   "outputs": [],
   "source": [
    "def generate_user_embedding(user_playlists, transformer_model, top_artist_count, playlists_count):\n",
    "    print(\"Generating user embedding...\")\n",
    "    all_genres = []\n",
    "    all_artists = []\n",
    "    all_release_years = []\n",
    "    playlist_features = []\n",
    "\n",
    "    per_playlist_genre_embeddings = []  # Collect genre embeddings for each playlist\n",
    "\n",
    "    for playlist in user_playlists[:playlists_count]:  # Limit to first playlists_count playlists\n",
    "        # print(f\"Processing playlist: {playlist['name']}\")\n",
    "        playlist_name = playlist.get(\"name\", \"Unknown\")\n",
    "        playlist_id = playlist[\"id\"]\n",
    "\n",
    "        # Fetch tracks in the playlist\n",
    "        tracks = sp.playlist_tracks(playlist_id)[\"items\"]\n",
    "        # print(f\"Number of tracks: {len(tracks)}\")\n",
    "\n",
    "        genres = []\n",
    "        popularity = []\n",
    "        release_years = []\n",
    "        explicit_flags = []\n",
    "        artist_names = []\n",
    "        artist_ids = []\n",
    "\n",
    "        # Collect all artist IDs for batch processing\n",
    "        for item in tracks:\n",
    "            track = item[\"track\"]\n",
    "            if not track or track[\"is_local\"]:\n",
    "                continue\n",
    "            artist_ids.append(track[\"artists\"][0][\"id\"])  # Only taking the first artist for simplicity\n",
    "            release_date = track[\"album\"][\"release_date\"]\n",
    "\n",
    "            # Extract year from release date\n",
    "            release_year = release_date.split('-')[0]\n",
    "            release_years.append(int(release_year))\n",
    "\n",
    "            popularity.append(track.get(\"popularity\", 0))\n",
    "            explicit_flags.append(track.get(\"explicit\", False))\n",
    "\n",
    "        # Batch the artist IDs for the Get Several Artists API call\n",
    "        batch_size = 50\n",
    "        artist_info = []\n",
    "        for i in range(0, len(artist_ids), batch_size):\n",
    "            batch = artist_ids[i:i + batch_size]\n",
    "            response = sp.artists(batch)\n",
    "            artist_info.extend(response[\"artists\"])\n",
    "\n",
    "        # Process artist information\n",
    "        for artist in artist_info:\n",
    "            artist_name = artist.get(\"name\", \"Unknown\")\n",
    "            track_genres = artist.get(\"genres\", [])\n",
    "\n",
    "            artist_names.append(artist_name)\n",
    "            genres.extend(track_genres)\n",
    "\n",
    "        # Generate per-playlist genre embedding\n",
    "        if genres:\n",
    "            genre_embeddings = transformer_model.encode(genres, show_progress_bar=False)\n",
    "            playlist_genre_embedding = np.mean(genre_embeddings, axis=0)  # Average embedding for this playlist\n",
    "        else:\n",
    "            playlist_genre_embedding = np.zeros(384)\n",
    "\n",
    "        per_playlist_genre_embeddings.append(playlist_genre_embedding)\n",
    "\n",
    "        # Playlist-level features\n",
    "        playlist_features.append({\n",
    "            \"playlist_name\": playlist_name,\n",
    "            \"num_tracks\": len(tracks),\n",
    "            \"avg_popularity\": np.mean(popularity) if popularity else 0,\n",
    "            \"explicit_ratio\": np.mean(explicit_flags) if explicit_flags else 0\n",
    "        })\n",
    "\n",
    "        all_genres.extend(genres)\n",
    "        all_artists.extend(artist_names)\n",
    "        all_release_years.extend(release_years)\n",
    "\n",
    "    # Combine per-playlist genre embeddings using playlist sizes as weights\n",
    "    if per_playlist_genre_embeddings:\n",
    "        playlist_sizes = [p[\"num_tracks\"] for p in playlist_features]\n",
    "        playlist_weights = normalize(np.array(playlist_sizes).reshape(1, -1))[0]\n",
    "        playlist_embedding = np.sum(\n",
    "            [playlist_weights[i] * per_playlist_genre_embeddings[i] for i in range(len(per_playlist_genre_embeddings))],\n",
    "            axis=0\n",
    "        )\n",
    "    else:\n",
    "        playlist_embedding = np.zeros(384)\n",
    "\n",
    "    # Generate overall artist and genre embeddings\n",
    "    print(\"Generating contextual embeddings...\")\n",
    "\n",
    "    # Genre Embeddings\n",
    "    genre_embeddings = transformer_model.encode(all_genres, show_progress_bar=False) if all_genres else np.zeros((1, 384))\n",
    "    genre_embedding = np.mean(genre_embeddings, axis=0) if len(genre_embeddings) > 0 else np.zeros(384)\n",
    "\n",
    "    # Artist Embeddings\n",
    "    artist_counter = Counter(all_artists)\n",
    "    top_artists = [artist for artist, _ in artist_counter.most_common(top_artist_count)]\n",
    "    artist_embeddings = transformer_model.encode(top_artists, show_progress_bar=False) if top_artists else np.zeros((1, 384))\n",
    "    artist_embedding = np.mean(artist_embeddings, axis=0) if len(artist_embeddings) > 0 else np.zeros(384)\n",
    "\n",
    "    # Release year embedding\n",
    "    release_year_embedding = np.array([np.mean(all_release_years)]) if all_release_years else np.zeros(1)\n",
    "\n",
    "    # print(\"User embedding generated successfully!\")\n",
    "    # print(\"Genre embedding shape:\", genre_embedding.shape)\n",
    "    # print(\"Artist embedding shape:\", artist_embedding.shape)\n",
    "    # print(\"Playlist embedding shape:\", playlist_embedding.shape)\n",
    "    # print(\"Release year embedding shape:\", release_year_embedding.shape)\n",
    "\n",
    "    return genre_embedding, artist_embedding, playlist_embedding, release_year_embedding"
   ]
  },
  {
   "cell_type": "code",
   "execution_count": 8,
   "metadata": {},
   "outputs": [],
   "source": [
    "def extract_user_id(spotify_url):\n",
    "    \"\"\"Extract the Spotify user ID from the URL.\"\"\"\n",
    "    match = re.search(r\"user/([^?]+)\", spotify_url)\n",
    "    if match:\n",
    "        return match.group(1)\n",
    "    return None"
   ]
  },
  {
   "cell_type": "code",
   "execution_count": null,
   "metadata": {},
   "outputs": [],
   "source": [
    "def recommend_users(spotify_url, top_artist_count, playlists_count, progress=gr.Progress(track_tqdm=True)):\n",
    "    user_id = spotify_url\n",
    "    if not user_id:\n",
    "        return \"Invalid Spotify profile URL.\"\n",
    "\n",
    "    try:\n",
    "        # Step 1: Gathering profile data\n",
    "        progress(0, desc=\"Gathering profile data\")\n",
    "        print(\"Gathering profile data...\")\n",
    "        playlists = sp.user_playlists(user_id)[\"items\"]\n",
    "        print(playlists)\n",
    "        if not playlists:\n",
    "            return f\"No playlists found for user {user_id}.\"\n",
    "\n",
    "        # Step 2: Computing the best candidates\n",
    "        progress(0.2, desc=\"Generating user embeddings\")\n",
    "        print(\"Generating user embeddings...\")\n",
    "\n",
    "        genre_embedding, artist_embedding, playlist_embedding, release_year_embedding = generate_user_embedding(\n",
    "            playlists, transformer_model, top_artist_count, playlists_count\n",
    "        )\n",
    "\n",
    "        user_embedding_concat = np.concatenate([genre_embedding, artist_embedding, playlist_embedding, release_year_embedding])\n",
    "        user_embedding_normalized = normalize(user_embedding_concat.reshape(1, -1))\n",
    "\n",
    "        # Add the user's embedding to Hopsworks\n",
    "        print(\"Adding the user's embedding to Hopsworks...\")\n",
    "        user_embedding_dict = {\n",
    "            \"user_id\": user_id,\n",
    "            \"genre_embedding\": genre_embedding.tolist(),\n",
    "            \"artist_embedding\": artist_embedding.tolist(),\n",
    "            \"playlist_embedding\": playlist_embedding.tolist(),\n",
    "            \"release_year_embedding\": release_year_embedding.tolist()\n",
    "        }\n",
    "        user_embedding_df = pd.DataFrame([user_embedding_dict])  # Create a DataFrame with a single row\n",
    "\n",
    "        # Insert into the feature store\n",
    "        feature_store = project.get_feature_store()\n",
    "        feature_group = feature_store.get_feature_group(name=\"spotify_user_embeddings\", version=2)\n",
    "        feature_group.insert(user_embedding_df)\n",
    "        print(f\"User embedding for {user_id} added to Hopsworks successfully.\")\n",
    "\n",
    "        # Get all user embeddings from the database (assuming these are already stored in the feature store)\n",
    "        user_embeddings_fg = fs.get_feature_group(name=\"spotify_user_embeddings\", version=2)\n",
    "        all_user_embeddings = user_embeddings_fg.read()\n",
    "\n",
    "        # Exclude the current user from the dataset\n",
    "        all_user_embeddings = all_user_embeddings[all_user_embeddings[\"user_id\"] != user_id]\n",
    "\n",
    "        all_user_embeddings['full_embedding'] = all_user_embeddings.apply(\n",
    "            lambda row: np.concatenate(\n",
    "                [row['genre_embedding'], row['artist_embedding'], row['playlist_embedding'], row['release_year_embedding']]\n",
    "            ),\n",
    "            axis=1\n",
    "        )\n",
    "        normalized_embeddings = normalize(np.array(all_user_embeddings['full_embedding'].tolist()))\n",
    "        all_user_embeddings['normalized_embedding'] = normalized_embeddings.tolist()\n",
    "        all_user_ids = all_user_embeddings[\"user_id\"].tolist()\n",
    "\n",
    "        # Normalize all embeddings\n",
    "        normalized_user_embeddings = np.array(all_user_embeddings[\"normalized_embedding\"].tolist())\n",
    "\n",
    "        # Compute cosine similarity for all users\n",
    "        similarities = cosine_similarity(user_embedding_normalized, normalized_user_embeddings).flatten()\n",
    "        print(f\"Similarities shape: {similarities.shape}\")\n",
    "        print(similarities)\n",
    "\n",
    "        # Finding the top matches\n",
    "        progress(0.9, desc=\"Finding matches\")\n",
    "        print(\"Finding the top matches...\")\n",
    "        top_indices = np.argsort(similarities)[::-1][:5]\n",
    "        results = []\n",
    "\n",
    "        print(\"Top matches and matched similarities:\")\n",
    "        print(similarities[top_indices])\n",
    "        \n",
    "        for idx in top_indices:\n",
    "            matched_user_id = all_user_ids[idx]\n",
    "            matched_similarity = similarities[idx]\n",
    "            print(f\"User ID: {matched_user_id}, Similarity: {matched_similarity:.2f}\")\n",
    "\n",
    "            try:\n",
    "                matched_profile = sp.user(matched_user_id)                \n",
    "                # Check for profile picture; if none, use default\n",
    "                profile_pic = matched_profile.get(\"images\", [{}])[0].get(\"url\", \"https://upload.wikimedia.org/wikipedia/commons/a/ac/Default_pfp.jpg\")  # Default image URL\n",
    "                display_name = matched_profile.get(\"display_name\", \"Unknown User\")\n",
    "                profile_url = matched_profile.get(\"external_urls\", {}).get(\"spotify\", \"#\")\n",
    "                \n",
    "                results.append({\n",
    "                    \"profile_pic\": profile_pic,\n",
    "                    \"display_name\": display_name,\n",
    "                    \"profile_url\": profile_url,\n",
    "                    \"similarity\": matched_similarity\n",
    "                })\n",
    "            except Exception as e:\n",
    "                print(f\"Error fetching profile: {e}\")\n",
    "\n",
    "        # Formatting results\n",
    "        progress(0.95, desc=\"Formatting results\")\n",
    "        output = []\n",
    "        for result in results:\n",
    "            if result[\"profile_pic\"]:\n",
    "                img_tag = f'<img src=\"{result[\"profile_pic\"]}\" alt=\"Profile Picture\" width=\"100\" height=\"100\">'\n",
    "            else:\n",
    "                img_tag = \"<img src='https://upload.wikimedia.org/wikipedia/commons/a/ac/Default_pfp.jpg' alt='Default Profile Picture' width='100' height='100'>\"  # Default image\n",
    "            link_tag = f'<a href=\"{result[\"profile_url\"]}\" target=\"_blank\">{result[\"display_name\"]}</a>'\n",
    "            similarity_tag = f\" (Similarity: {result['similarity']})\"\n",
    "            output.append(f\"{img_tag} {link_tag} {similarity_tag}\")\n",
    "\n",
    "        progress(1.0, desc=\"Complete\")\n",
    "        return \"<br>\".join(output)\n",
    "\n",
    "    except Exception as e:\n",
    "        print(f\"Error processing request: {str(e)}\")\n",
    "        return f\"Error processing request: {str(e)}\"\n"
   ]
  },
  {
   "cell_type": "code",
   "execution_count": 128,
   "metadata": {},
   "outputs": [
    {
     "name": "stdout",
     "output_type": "stream",
     "text": [
      "2025-01-03 13:47:36,423 INFO: HTTP Request: GET https://api.gradio.app/pkg-version \"HTTP/1.1 200 OK\"\n"
     ]
    }
   ],
   "source": [
    "# Create the Gradio UI\n",
    "playlists_count = 5\n",
    "top_artist_count = 10\n",
    "\n",
    "interface = gr.Interface(\n",
    "    fn=recommend_users,\n",
    "    inputs=[\n",
    "        gr.Textbox(label=\"Spotify Profile URL\"),  # For the user's Spotify URL\n",
    "        gr.Slider(minimum=1, maximum=10, step=1, value=5, label=\"Top Artist Count\"),  # For top artist count\n",
    "        gr.Slider(minimum=1, maximum=20, step=1, value=5, label=\"Playlists Count\")  # For playlists count\n",
    "    ],\n",
    "    outputs=gr.HTML(label=\"Recommended Spotify Profiles\"),\n",
    "    title=\"Spotify Profile Recommender\",\n",
    "    description=\"Enter your Spotify profile URL to find the most similar users based on your playlists!\"\n",
    ")"
   ]
  },
  {
   "cell_type": "code",
   "execution_count": null,
   "metadata": {},
   "outputs": [
    {
     "name": "stdout",
     "output_type": "stream",
     "text": [
      "* Running on local URL:  http://127.0.0.1:7889\n",
      "2025-01-03 13:47:37,299 INFO: HTTP Request: GET http://127.0.0.1:7889/gradio_api/startup-events \"HTTP/1.1 200 OK\"\n",
      "2025-01-03 13:47:37,305 INFO: HTTP Request: HEAD http://127.0.0.1:7889/ \"HTTP/1.1 200 OK\"\n",
      "\n",
      "To create a public link, set `share=True` in `launch()`.\n"
     ]
    },
    {
     "data": {
      "text/html": [
       "<div><iframe src=\"http://127.0.0.1:7889/\" width=\"100%\" height=\"500\" allow=\"autoplay; camera; microphone; clipboard-read; clipboard-write;\" frameborder=\"0\" allowfullscreen></iframe></div>"
      ],
      "text/plain": [
       "<IPython.core.display.HTML object>"
      ]
     },
     "metadata": {},
     "output_type": "display_data"
    },
    {
     "data": {
      "text/plain": []
     },
     "execution_count": 129,
     "metadata": {},
     "output_type": "execute_result"
    },
    {
     "name": "stdout",
     "output_type": "stream",
     "text": [
      "Gathering profile data...\n",
      "[{'collaborative': False, 'description': '', 'external_urls': {'spotify': 'https://open.spotify.com/playlist/32MoTVNGkFDYAgnhhh37Ud'}, 'href': 'https://api.spotify.com/v1/playlists/32MoTVNGkFDYAgnhhh37Ud', 'id': '32MoTVNGkFDYAgnhhh37Ud', 'images': [{'height': None, 'url': 'https://image-cdn-ak.spotifycdn.com/image/ab67706c0000da8436cc80050c4c3b2829818090', 'width': None}], 'name': 'spoiled little brat', 'owner': {'display_name': 'emilewew', 'external_urls': {'spotify': 'https://open.spotify.com/user/minifixiowow'}, 'href': 'https://api.spotify.com/v1/users/minifixiowow', 'id': 'minifixiowow', 'type': 'user', 'uri': 'spotify:user:minifixiowow'}, 'primary_color': None, 'public': True, 'snapshot_id': 'AAAAI5jWqol4ZsXnU3hOi0GVRB7tWexe', 'tracks': {'href': 'https://api.spotify.com/v1/playlists/32MoTVNGkFDYAgnhhh37Ud/tracks', 'total': 36}, 'type': 'playlist', 'uri': 'spotify:playlist:32MoTVNGkFDYAgnhhh37Ud'}, {'collaborative': False, 'description': '', 'external_urls': {'spotify': 'https://open.spotify.com/playlist/0Q2pXoUkUWpHP0KepGm1Fw'}, 'href': 'https://api.spotify.com/v1/playlists/0Q2pXoUkUWpHP0KepGm1Fw', 'id': '0Q2pXoUkUWpHP0KepGm1Fw', 'images': [{'height': None, 'url': 'https://image-cdn-fa.spotifycdn.com/image/ab67706c0000da84b34196539e10aab8b0adbb94', 'width': None}], 'name': 'ⁿᵒLoVé', 'owner': {'display_name': 'emilewew', 'external_urls': {'spotify': 'https://open.spotify.com/user/minifixiowow'}, 'href': 'https://api.spotify.com/v1/users/minifixiowow', 'id': 'minifixiowow', 'type': 'user', 'uri': 'spotify:user:minifixiowow'}, 'primary_color': None, 'public': True, 'snapshot_id': 'AAAAL4Ynr5RvZ3hCimz3xYU1pTtyPMPU', 'tracks': {'href': 'https://api.spotify.com/v1/playlists/0Q2pXoUkUWpHP0KepGm1Fw/tracks', 'total': 41}, 'type': 'playlist', 'uri': 'spotify:playlist:0Q2pXoUkUWpHP0KepGm1Fw'}, {'collaborative': False, 'description': '', 'external_urls': {'spotify': 'https://open.spotify.com/playlist/5dRkc5CNkgiV3gYhrkDkVw'}, 'href': 'https://api.spotify.com/v1/playlists/5dRkc5CNkgiV3gYhrkDkVw', 'id': '5dRkc5CNkgiV3gYhrkDkVw', 'images': [{'height': None, 'url': 'https://image-cdn-ak.spotifycdn.com/image/ab67706c0000da842d139062c551f2650a3c1510', 'width': None}], 'name': 'FAST LIFE & FAMILLE', 'owner': {'display_name': 'emilewew', 'external_urls': {'spotify': 'https://open.spotify.com/user/minifixiowow'}, 'href': 'https://api.spotify.com/v1/users/minifixiowow', 'id': 'minifixiowow', 'type': 'user', 'uri': 'spotify:user:minifixiowow'}, 'primary_color': None, 'public': True, 'snapshot_id': 'AAAAF686yS4eoXy5RYKvPc8ldQkHO/Tz', 'tracks': {'href': 'https://api.spotify.com/v1/playlists/5dRkc5CNkgiV3gYhrkDkVw/tracks', 'total': 21}, 'type': 'playlist', 'uri': 'spotify:playlist:5dRkc5CNkgiV3gYhrkDkVw'}, {'collaborative': False, 'description': '', 'external_urls': {'spotify': 'https://open.spotify.com/playlist/0lNRzBWOR7GfIs3liqnaeB'}, 'href': 'https://api.spotify.com/v1/playlists/0lNRzBWOR7GfIs3liqnaeB', 'id': '0lNRzBWOR7GfIs3liqnaeB', 'images': [{'height': None, 'url': 'https://image-cdn-ak.spotifycdn.com/image/ab67706c0000da84879a78190092ae08da83bba3', 'width': None}], 'name': 'force à nous', 'owner': {'display_name': 'emilewew', 'external_urls': {'spotify': 'https://open.spotify.com/user/minifixiowow'}, 'href': 'https://api.spotify.com/v1/users/minifixiowow', 'id': 'minifixiowow', 'type': 'user', 'uri': 'spotify:user:minifixiowow'}, 'primary_color': None, 'public': True, 'snapshot_id': 'AAAAEUP3DluWSXGACM72nmu2AnUMErYm', 'tracks': {'href': 'https://api.spotify.com/v1/playlists/0lNRzBWOR7GfIs3liqnaeB/tracks', 'total': 10}, 'type': 'playlist', 'uri': 'spotify:playlist:0lNRzBWOR7GfIs3liqnaeB'}, {'collaborative': False, 'description': '', 'external_urls': {'spotify': 'https://open.spotify.com/playlist/5QsM3X6IKC9PngUyXVptPs'}, 'href': 'https://api.spotify.com/v1/playlists/5QsM3X6IKC9PngUyXVptPs', 'id': '5QsM3X6IKC9PngUyXVptPs', 'images': [{'height': None, 'url': 'https://image-cdn-ak.spotifycdn.com/image/ab67706c0000da84cc1db53fcf2e0b23b47130b5', 'width': None}], 'name': 'être moi', 'owner': {'display_name': 'emilewew', 'external_urls': {'spotify': 'https://open.spotify.com/user/minifixiowow'}, 'href': 'https://api.spotify.com/v1/users/minifixiowow', 'id': 'minifixiowow', 'type': 'user', 'uri': 'spotify:user:minifixiowow'}, 'primary_color': None, 'public': True, 'snapshot_id': 'AAAAIi9Bp2RqP2ORZLjW13mTDtxTKUNq', 'tracks': {'href': 'https://api.spotify.com/v1/playlists/5QsM3X6IKC9PngUyXVptPs/tracks', 'total': 28}, 'type': 'playlist', 'uri': 'spotify:playlist:5QsM3X6IKC9PngUyXVptPs'}, {'collaborative': False, 'description': '', 'external_urls': {'spotify': 'https://open.spotify.com/playlist/4bpHVwlXaiVcSi7yf6IMoi'}, 'href': 'https://api.spotify.com/v1/playlists/4bpHVwlXaiVcSi7yf6IMoi', 'id': '4bpHVwlXaiVcSi7yf6IMoi', 'images': [{'height': None, 'url': 'https://image-cdn-ak.spotifycdn.com/image/ab67706c0000da84ea18d467aba4408c1943b33e', 'width': None}], 'name': 'ny musikskit', 'owner': {'display_name': 'emilewew', 'external_urls': {'spotify': 'https://open.spotify.com/user/minifixiowow'}, 'href': 'https://api.spotify.com/v1/users/minifixiowow', 'id': 'minifixiowow', 'type': 'user', 'uri': 'spotify:user:minifixiowow'}, 'primary_color': None, 'public': True, 'snapshot_id': 'AAAAFd1F/NfnZn/oMHfXmJZRkuYliqbt', 'tracks': {'href': 'https://api.spotify.com/v1/playlists/4bpHVwlXaiVcSi7yf6IMoi/tracks', 'total': 17}, 'type': 'playlist', 'uri': 'spotify:playlist:4bpHVwlXaiVcSi7yf6IMoi'}, {'collaborative': False, 'description': '', 'external_urls': {'spotify': 'https://open.spotify.com/playlist/1ehTveR5sYx6ypN0eQGTCU'}, 'href': 'https://api.spotify.com/v1/playlists/1ehTveR5sYx6ypN0eQGTCU', 'id': '1ehTveR5sYx6ypN0eQGTCU', 'images': [{'height': None, 'url': 'https://image-cdn-ak.spotifycdn.com/image/ab67706c0000da847a69879f4695e07668f8250f', 'width': None}], 'name': 'pleindetrucschouettes', 'owner': {'display_name': 'emilewew', 'external_urls': {'spotify': 'https://open.spotify.com/user/minifixiowow'}, 'href': 'https://api.spotify.com/v1/users/minifixiowow', 'id': 'minifixiowow', 'type': 'user', 'uri': 'spotify:user:minifixiowow'}, 'primary_color': None, 'public': True, 'snapshot_id': 'AAAAKThOcrF/JN14fKix81K0dBHR67V8', 'tracks': {'href': 'https://api.spotify.com/v1/playlists/1ehTveR5sYx6ypN0eQGTCU/tracks', 'total': 38}, 'type': 'playlist', 'uri': 'spotify:playlist:1ehTveR5sYx6ypN0eQGTCU'}, {'collaborative': False, 'description': '', 'external_urls': {'spotify': 'https://open.spotify.com/playlist/4wYD3sG47BhO3HK0CFlzg5'}, 'href': 'https://api.spotify.com/v1/playlists/4wYD3sG47BhO3HK0CFlzg5', 'id': '4wYD3sG47BhO3HK0CFlzg5', 'images': [{'height': None, 'url': 'https://image-cdn-ak.spotifycdn.com/image/ab67706c0000da84d74208bc08de675bb1980add', 'width': None}], 'name': 'gambas de cerdo', 'owner': {'display_name': 'emilewew', 'external_urls': {'spotify': 'https://open.spotify.com/user/minifixiowow'}, 'href': 'https://api.spotify.com/v1/users/minifixiowow', 'id': 'minifixiowow', 'type': 'user', 'uri': 'spotify:user:minifixiowow'}, 'primary_color': None, 'public': True, 'snapshot_id': 'AAAAxD8fktzlmTnxuoMXUSIOprcr1L+U', 'tracks': {'href': 'https://api.spotify.com/v1/playlists/4wYD3sG47BhO3HK0CFlzg5/tracks', 'total': 161}, 'type': 'playlist', 'uri': 'spotify:playlist:4wYD3sG47BhO3HK0CFlzg5'}, {'collaborative': False, 'description': '', 'external_urls': {'spotify': 'https://open.spotify.com/playlist/6uA6eNsQN1lgVBPEKPMt6G'}, 'href': 'https://api.spotify.com/v1/playlists/6uA6eNsQN1lgVBPEKPMt6G', 'id': '6uA6eNsQN1lgVBPEKPMt6G', 'images': [{'height': None, 'url': 'https://image-cdn-ak.spotifycdn.com/image/ab67706c0000da84b1900e6e624021e4401c88ee', 'width': None}], 'name': 'burrito songs', 'owner': {'display_name': 'emilewew', 'external_urls': {'spotify': 'https://open.spotify.com/user/minifixiowow'}, 'href': 'https://api.spotify.com/v1/users/minifixiowow', 'id': 'minifixiowow', 'type': 'user', 'uri': 'spotify:user:minifixiowow'}, 'primary_color': None, 'public': True, 'snapshot_id': 'AAAAHb5ZepYmbusl6P6kFGapzutLSM6Y', 'tracks': {'href': 'https://api.spotify.com/v1/playlists/6uA6eNsQN1lgVBPEKPMt6G/tracks', 'total': 23}, 'type': 'playlist', 'uri': 'spotify:playlist:6uA6eNsQN1lgVBPEKPMt6G'}, {'collaborative': False, 'description': '', 'external_urls': {'spotify': 'https://open.spotify.com/playlist/4ZvHUZMC72aMXd47HYjeTF'}, 'href': 'https://api.spotify.com/v1/playlists/4ZvHUZMC72aMXd47HYjeTF', 'id': '4ZvHUZMC72aMXd47HYjeTF', 'images': [{'height': None, 'url': 'https://image-cdn-ak.spotifycdn.com/image/ab67706c0000da84bb8bbbeb98a1ae8b228cd92c', 'width': None}], 'name': \"qu'est ce que tu fais!?\", 'owner': {'display_name': 'emilewew', 'external_urls': {'spotify': 'https://open.spotify.com/user/minifixiowow'}, 'href': 'https://api.spotify.com/v1/users/minifixiowow', 'id': 'minifixiowow', 'type': 'user', 'uri': 'spotify:user:minifixiowow'}, 'primary_color': None, 'public': True, 'snapshot_id': 'AAAAFLxhbKFLCXmykTk7WUpo9gdUL4Xt', 'tracks': {'href': 'https://api.spotify.com/v1/playlists/4ZvHUZMC72aMXd47HYjeTF/tracks', 'total': 14}, 'type': 'playlist', 'uri': 'spotify:playlist:4ZvHUZMC72aMXd47HYjeTF'}, {'collaborative': False, 'description': '', 'external_urls': {'spotify': 'https://open.spotify.com/playlist/4VBqTjkO2OIk6HlfShH6K7'}, 'href': 'https://api.spotify.com/v1/playlists/4VBqTjkO2OIk6HlfShH6K7', 'id': '4VBqTjkO2OIk6HlfShH6K7', 'images': [{'height': None, 'url': 'https://image-cdn-ak.spotifycdn.com/image/ab67706c0000da84fbbadc25c2ac66a546c3e9c0', 'width': None}], 'name': \"qu'est ce qu'on fait!?\", 'owner': {'display_name': 'emilewew', 'external_urls': {'spotify': 'https://open.spotify.com/user/minifixiowow'}, 'href': 'https://api.spotify.com/v1/users/minifixiowow', 'id': 'minifixiowow', 'type': 'user', 'uri': 'spotify:user:minifixiowow'}, 'primary_color': None, 'public': True, 'snapshot_id': 'AAAAQXWmtRzr1xM6eAnI5sx9KZ/JajN3', 'tracks': {'href': 'https://api.spotify.com/v1/playlists/4VBqTjkO2OIk6HlfShH6K7/tracks', 'total': 56}, 'type': 'playlist', 'uri': 'spotify:playlist:4VBqTjkO2OIk6HlfShH6K7'}, {'collaborative': False, 'description': '', 'external_urls': {'spotify': 'https://open.spotify.com/playlist/5aGzWqxQ8bhLX7izKXup0E'}, 'href': 'https://api.spotify.com/v1/playlists/5aGzWqxQ8bhLX7izKXup0E', 'id': '5aGzWqxQ8bhLX7izKXup0E', 'images': [{'height': None, 'url': 'https://image-cdn-ak.spotifycdn.com/image/ab67706c0000da84b881b491b0f61fc570a38971', 'width': None}], 'name': ' ̶3̶ ̶m̶a̶i̶ ̶2̶0̶2̶5̶ >>> 31 mars 2024', 'owner': {'display_name': 'emilewew', 'external_urls': {'spotify': 'https://open.spotify.com/user/minifixiowow'}, 'href': 'https://api.spotify.com/v1/users/minifixiowow', 'id': 'minifixiowow', 'type': 'user', 'uri': 'spotify:user:minifixiowow'}, 'primary_color': None, 'public': True, 'snapshot_id': 'AAAACv5sykTvLg8U5G19+wZVmKuYLPv4', 'tracks': {'href': 'https://api.spotify.com/v1/playlists/5aGzWqxQ8bhLX7izKXup0E/tracks', 'total': 6}, 'type': 'playlist', 'uri': 'spotify:playlist:5aGzWqxQ8bhLX7izKXup0E'}, {'collaborative': False, 'description': '', 'external_urls': {'spotify': 'https://open.spotify.com/playlist/3YczDEK0aPvo8RRdcrw16C'}, 'href': 'https://api.spotify.com/v1/playlists/3YczDEK0aPvo8RRdcrw16C', 'id': '3YczDEK0aPvo8RRdcrw16C', 'images': [{'height': None, 'url': 'https://image-cdn-ak.spotifycdn.com/image/ab67706c0000da849604c0b40a787e0ef423c0b3', 'width': None}], 'name': 'palaiseau - gainesville', 'owner': {'display_name': 'emilewew', 'external_urls': {'spotify': 'https://open.spotify.com/user/minifixiowow'}, 'href': 'https://api.spotify.com/v1/users/minifixiowow', 'id': 'minifixiowow', 'type': 'user', 'uri': 'spotify:user:minifixiowow'}, 'primary_color': None, 'public': True, 'snapshot_id': 'AAAAyR83fYrGFiAlVvrQxHd8kGnE7Rmo', 'tracks': {'href': 'https://api.spotify.com/v1/playlists/3YczDEK0aPvo8RRdcrw16C/tracks', 'total': 144}, 'type': 'playlist', 'uri': 'spotify:playlist:3YczDEK0aPvo8RRdcrw16C'}, {'collaborative': False, 'description': 'ɒbɒnɒɔ', 'external_urls': {'spotify': 'https://open.spotify.com/playlist/5e9DiJgzblnhliowWXYDsz'}, 'href': 'https://api.spotify.com/v1/playlists/5e9DiJgzblnhliowWXYDsz', 'id': '5e9DiJgzblnhliowWXYDsz', 'images': [{'height': None, 'url': 'https://image-cdn-fa.spotifycdn.com/image/ab67706c0000da84e9a2057b982efe80d8a90df5', 'width': None}], 'name': ' | ɿɘvυoɔnɒv ¹¹', 'owner': {'display_name': 'Anatole', 'external_urls': {'spotify': 'https://open.spotify.com/user/21cpwfozzycukzgy3dhgc37rq'}, 'href': 'https://api.spotify.com/v1/users/21cpwfozzycukzgy3dhgc37rq', 'id': '21cpwfozzycukzgy3dhgc37rq', 'type': 'user', 'uri': 'spotify:user:21cpwfozzycukzgy3dhgc37rq'}, 'primary_color': None, 'public': True, 'snapshot_id': 'AAAAFpP1nsVPSOCR0IlkwvZSfbHo46bJ', 'tracks': {'href': 'https://api.spotify.com/v1/playlists/5e9DiJgzblnhliowWXYDsz/tracks', 'total': 21}, 'type': 'playlist', 'uri': 'spotify:playlist:5e9DiJgzblnhliowWXYDsz'}, {'collaborative': False, 'description': '', 'external_urls': {'spotify': 'https://open.spotify.com/playlist/618Xp0jjEVORkqFJOfOzOM'}, 'href': 'https://api.spotify.com/v1/playlists/618Xp0jjEVORkqFJOfOzOM', 'id': '618Xp0jjEVORkqFJOfOzOM', 'images': [{'height': None, 'url': 'https://image-cdn-fa.spotifycdn.com/image/ab67706c0000da848aa0555c3b16a5431dc0141b', 'width': None}], 'name': 'merci Grünt (et Jean Morel)', 'owner': {'display_name': 'emilewew', 'external_urls': {'spotify': 'https://open.spotify.com/user/minifixiowow'}, 'href': 'https://api.spotify.com/v1/users/minifixiowow', 'id': 'minifixiowow', 'type': 'user', 'uri': 'spotify:user:minifixiowow'}, 'primary_color': None, 'public': True, 'snapshot_id': 'AAAAFB91XUuohlK/F5PHDLaw5vxR67g+', 'tracks': {'href': 'https://api.spotify.com/v1/playlists/618Xp0jjEVORkqFJOfOzOM/tracks', 'total': 13}, 'type': 'playlist', 'uri': 'spotify:playlist:618Xp0jjEVORkqFJOfOzOM'}, {'collaborative': False, 'description': 'adanac', 'external_urls': {'spotify': 'https://open.spotify.com/playlist/11KB6SkfWhIeM3AOXCHtCG'}, 'href': 'https://api.spotify.com/v1/playlists/11KB6SkfWhIeM3AOXCHtCG', 'id': '11KB6SkfWhIeM3AOXCHtCG', 'images': [{'height': None, 'url': 'https://image-cdn-ak.spotifycdn.com/image/ab67706c0000da8465da4571f2312199d9152ee7', 'width': None}], 'name': 'passeport valide', 'owner': {'display_name': 'emilewew', 'external_urls': {'spotify': 'https://open.spotify.com/user/minifixiowow'}, 'href': 'https://api.spotify.com/v1/users/minifixiowow', 'id': 'minifixiowow', 'type': 'user', 'uri': 'spotify:user:minifixiowow'}, 'primary_color': None, 'public': True, 'snapshot_id': 'AAAAUEffY/2U9Edg466kqQs1tMHamNCK', 'tracks': {'href': 'https://api.spotify.com/v1/playlists/11KB6SkfWhIeM3AOXCHtCG/tracks', 'total': 38}, 'type': 'playlist', 'uri': 'spotify:playlist:11KB6SkfWhIeM3AOXCHtCG'}, {'collaborative': False, 'description': '', 'external_urls': {'spotify': 'https://open.spotify.com/playlist/0Fhzigt5suZjknLz54E6WX'}, 'href': 'https://api.spotify.com/v1/playlists/0Fhzigt5suZjknLz54E6WX', 'id': '0Fhzigt5suZjknLz54E6WX', 'images': [{'height': None, 'url': 'https://image-cdn-fa.spotifycdn.com/image/ab67706c0000da84be3b774c98263242da951115', 'width': None}], 'name': 'funkers', 'owner': {'display_name': 'emilewew', 'external_urls': {'spotify': 'https://open.spotify.com/user/minifixiowow'}, 'href': 'https://api.spotify.com/v1/users/minifixiowow', 'id': 'minifixiowow', 'type': 'user', 'uri': 'spotify:user:minifixiowow'}, 'primary_color': None, 'public': True, 'snapshot_id': 'AAAAFluRHKylIL9rRifGBFOKMD+j8UVZ', 'tracks': {'href': 'https://api.spotify.com/v1/playlists/0Fhzigt5suZjknLz54E6WX/tracks', 'total': 16}, 'type': 'playlist', 'uri': 'spotify:playlist:0Fhzigt5suZjknLz54E6WX'}, {'collaborative': False, 'description': '', 'external_urls': {'spotify': 'https://open.spotify.com/playlist/4K6wdcSqAGOsqIj78EGQqR'}, 'href': 'https://api.spotify.com/v1/playlists/4K6wdcSqAGOsqIj78EGQqR', 'id': '4K6wdcSqAGOsqIj78EGQqR', 'images': [{'height': None, 'url': 'https://image-cdn-ak.spotifycdn.com/image/ab67706c0000da845ab1217f313d3fa6ce5b97ff', 'width': None}], 'name': 'Restez .', 'owner': {'display_name': 'emilewew', 'external_urls': {'spotify': 'https://open.spotify.com/user/minifixiowow'}, 'href': 'https://api.spotify.com/v1/users/minifixiowow', 'id': 'minifixiowow', 'type': 'user', 'uri': 'spotify:user:minifixiowow'}, 'primary_color': None, 'public': True, 'snapshot_id': 'AAAAV2LZOGZCGhTMIETXdrkxJSfDDdff', 'tracks': {'href': 'https://api.spotify.com/v1/playlists/4K6wdcSqAGOsqIj78EGQqR/tracks', 'total': 69}, 'type': 'playlist', 'uri': 'spotify:playlist:4K6wdcSqAGOsqIj78EGQqR'}, {'collaborative': False, 'description': '', 'external_urls': {'spotify': 'https://open.spotify.com/playlist/6Y6LiBF0S7RRn0f1mXYFj1'}, 'href': 'https://api.spotify.com/v1/playlists/6Y6LiBF0S7RRn0f1mXYFj1', 'id': '6Y6LiBF0S7RRn0f1mXYFj1', 'images': [{'height': None, 'url': 'https://image-cdn-ak.spotifycdn.com/image/ab67706c0000da84e38d218b9377b857745a7fad', 'width': None}], 'name': '✈️   ➡️  🚐🍴 ???????????????ㅤㅤㅤㅤㅤㅤㅤㅤㅤㅤㅤㅤㅤㅤㅤㅤㅤㅤㅤㅤㅤㅤㅤㅤㅤㅤㅤㅤㅤㅤㅤㅤㅤㅤㅤㅤㅤㅤㅤㅤㅤㅤㅤㅤㅤㅤㅤㅤㅤㅤㅤㅤㅤㅤㅤㅤㅤㅤㅤㅤㅤㅤㅤㅤ🇨🇦', 'owner': {'display_name': 'emilewew', 'external_urls': {'spotify': 'https://open.spotify.com/user/minifixiowow'}, 'href': 'https://api.spotify.com/v1/users/minifixiowow', 'id': 'minifixiowow', 'type': 'user', 'uri': 'spotify:user:minifixiowow'}, 'primary_color': None, 'public': True, 'snapshot_id': 'AAAALnaVsf/vKDs9l6ouH4+ue4oU/swI', 'tracks': {'href': 'https://api.spotify.com/v1/playlists/6Y6LiBF0S7RRn0f1mXYFj1/tracks', 'total': 29}, 'type': 'playlist', 'uri': 'spotify:playlist:6Y6LiBF0S7RRn0f1mXYFj1'}, {'collaborative': False, 'description': '', 'external_urls': {'spotify': 'https://open.spotify.com/playlist/6pwrKWTzrBcyTrgmrhshmP'}, 'href': 'https://api.spotify.com/v1/playlists/6pwrKWTzrBcyTrgmrhshmP', 'id': '6pwrKWTzrBcyTrgmrhshmP', 'images': [{'height': None, 'url': 'https://image-cdn-ak.spotifycdn.com/image/ab67706c0000da84caf5909c0b98555f4f5e9750', 'width': None}], 'name': 'yveyre', 'owner': {'display_name': 'emilewew', 'external_urls': {'spotify': 'https://open.spotify.com/user/minifixiowow'}, 'href': 'https://api.spotify.com/v1/users/minifixiowow', 'id': 'minifixiowow', 'type': 'user', 'uri': 'spotify:user:minifixiowow'}, 'primary_color': None, 'public': True, 'snapshot_id': 'AAAAEVTEGgBeQEl7QS4tGnIJd5WNs8Mm', 'tracks': {'href': 'https://api.spotify.com/v1/playlists/6pwrKWTzrBcyTrgmrhshmP/tracks', 'total': 10}, 'type': 'playlist', 'uri': 'spotify:playlist:6pwrKWTzrBcyTrgmrhshmP'}, {'collaborative': False, 'description': '', 'external_urls': {'spotify': 'https://open.spotify.com/playlist/0kQKkYbl55ot3toP0RsiMj'}, 'href': 'https://api.spotify.com/v1/playlists/0kQKkYbl55ot3toP0RsiMj', 'id': '0kQKkYbl55ot3toP0RsiMj', 'images': [{'height': None, 'url': 'https://image-cdn-fa.spotifycdn.com/image/ab67706c0000da8445378a6528f7d6194ab315ef', 'width': None}], 'name': 'w', 'owner': {'display_name': 'emilewew', 'external_urls': {'spotify': 'https://open.spotify.com/user/minifixiowow'}, 'href': 'https://api.spotify.com/v1/users/minifixiowow', 'id': 'minifixiowow', 'type': 'user', 'uri': 'spotify:user:minifixiowow'}, 'primary_color': None, 'public': True, 'snapshot_id': 'AAAAGTk2YyBw9YcLL27x0bw4sYF+tSRw', 'tracks': {'href': 'https://api.spotify.com/v1/playlists/0kQKkYbl55ot3toP0RsiMj/tracks', 'total': 15}, 'type': 'playlist', 'uri': 'spotify:playlist:0kQKkYbl55ot3toP0RsiMj'}, {'collaborative': False, 'description': '', 'external_urls': {'spotify': 'https://open.spotify.com/playlist/0spDXdIp1pY8rd5WCkFDS8'}, 'href': 'https://api.spotify.com/v1/playlists/0spDXdIp1pY8rd5WCkFDS8', 'id': '0spDXdIp1pY8rd5WCkFDS8', 'images': [{'height': None, 'url': 'https://image-cdn-ak.spotifycdn.com/image/ab67706c0000da841a6ffa5c35652db8a61031f4', 'width': None}], 'name': 'LE PIÈGE', 'owner': {'display_name': 'emilewew', 'external_urls': {'spotify': 'https://open.spotify.com/user/minifixiowow'}, 'href': 'https://api.spotify.com/v1/users/minifixiowow', 'id': 'minifixiowow', 'type': 'user', 'uri': 'spotify:user:minifixiowow'}, 'primary_color': None, 'public': True, 'snapshot_id': 'AAAAZxLKcqwGxS9vbp/HnwBceycUduL6', 'tracks': {'href': 'https://api.spotify.com/v1/playlists/0spDXdIp1pY8rd5WCkFDS8/tracks', 'total': 83}, 'type': 'playlist', 'uri': 'spotify:playlist:0spDXdIp1pY8rd5WCkFDS8'}, {'collaborative': False, 'description': '', 'external_urls': {'spotify': 'https://open.spotify.com/playlist/0JpXsF14i3jGId6suBXi9R'}, 'href': 'https://api.spotify.com/v1/playlists/0JpXsF14i3jGId6suBXi9R', 'id': '0JpXsF14i3jGId6suBXi9R', 'images': [{'height': None, 'url': 'https://image-cdn-fa.spotifycdn.com/image/ab67706c0000da84bc193d1c351f911fb714203b', 'width': None}], 'name': 'too many nights', 'owner': {'display_name': 'emilewew', 'external_urls': {'spotify': 'https://open.spotify.com/user/minifixiowow'}, 'href': 'https://api.spotify.com/v1/users/minifixiowow', 'id': 'minifixiowow', 'type': 'user', 'uri': 'spotify:user:minifixiowow'}, 'primary_color': None, 'public': True, 'snapshot_id': 'AAAAFRtZOpe5iAGtLfEBItSXJ+0DcI9/', 'tracks': {'href': 'https://api.spotify.com/v1/playlists/0JpXsF14i3jGId6suBXi9R/tracks', 'total': 16}, 'type': 'playlist', 'uri': 'spotify:playlist:0JpXsF14i3jGId6suBXi9R'}, {'collaborative': False, 'description': '', 'external_urls': {'spotify': 'https://open.spotify.com/playlist/2ehBnkqg6OQCKrSHPnkuZO'}, 'href': 'https://api.spotify.com/v1/playlists/2ehBnkqg6OQCKrSHPnkuZO', 'id': '2ehBnkqg6OQCKrSHPnkuZO', 'images': [{'height': None, 'url': 'https://image-cdn-ak.spotifycdn.com/image/ab67706c0000da848fc2443164320548edd26e9c', 'width': None}], 'name': 'surlevélo', 'owner': {'display_name': 'emilewew', 'external_urls': {'spotify': 'https://open.spotify.com/user/minifixiowow'}, 'href': 'https://api.spotify.com/v1/users/minifixiowow', 'id': 'minifixiowow', 'type': 'user', 'uri': 'spotify:user:minifixiowow'}, 'primary_color': None, 'public': True, 'snapshot_id': 'AAAAE+iKs9umcG9iQ5MY4LmoH0CbTYim', 'tracks': {'href': 'https://api.spotify.com/v1/playlists/2ehBnkqg6OQCKrSHPnkuZO/tracks', 'total': 41}, 'type': 'playlist', 'uri': 'spotify:playlist:2ehBnkqg6OQCKrSHPnkuZO'}, {'collaborative': False, 'description': '', 'external_urls': {'spotify': 'https://open.spotify.com/playlist/5gOzb8sK7PqrAyeJOWBAZ2'}, 'href': 'https://api.spotify.com/v1/playlists/5gOzb8sK7PqrAyeJOWBAZ2', 'id': '5gOzb8sK7PqrAyeJOWBAZ2', 'images': [{'height': None, 'url': 'https://image-cdn-ak.spotifycdn.com/image/ab67706c0000da84e458324ba83ca917fd3370a2', 'width': None}], 'name': 'UN BESO??????', 'owner': {'display_name': 'emilewew', 'external_urls': {'spotify': 'https://open.spotify.com/user/minifixiowow'}, 'href': 'https://api.spotify.com/v1/users/minifixiowow', 'id': 'minifixiowow', 'type': 'user', 'uri': 'spotify:user:minifixiowow'}, 'primary_color': None, 'public': True, 'snapshot_id': 'AAAAELW7CjP0M7NN+pgG4zmZFFILK+FK', 'tracks': {'href': 'https://api.spotify.com/v1/playlists/5gOzb8sK7PqrAyeJOWBAZ2/tracks', 'total': 10}, 'type': 'playlist', 'uri': 'spotify:playlist:5gOzb8sK7PqrAyeJOWBAZ2'}, {'collaborative': False, 'description': '', 'external_urls': {'spotify': 'https://open.spotify.com/playlist/3J3TqVRdzBTEf2i2R54UX7'}, 'href': 'https://api.spotify.com/v1/playlists/3J3TqVRdzBTEf2i2R54UX7', 'id': '3J3TqVRdzBTEf2i2R54UX7', 'images': [{'height': None, 'url': 'https://image-cdn-ak.spotifycdn.com/image/ab67706c0000da8447566d968f1377f559f0b3ea', 'width': None}], 'name': 'que des étés', 'owner': {'display_name': 'emilewew', 'external_urls': {'spotify': 'https://open.spotify.com/user/minifixiowow'}, 'href': 'https://api.spotify.com/v1/users/minifixiowow', 'id': 'minifixiowow', 'type': 'user', 'uri': 'spotify:user:minifixiowow'}, 'primary_color': None, 'public': True, 'snapshot_id': 'AAAAPrKmQCjRCjF2Z6OcyFneDn4NFkdZ', 'tracks': {'href': 'https://api.spotify.com/v1/playlists/3J3TqVRdzBTEf2i2R54UX7/tracks', 'total': 94}, 'type': 'playlist', 'uri': 'spotify:playlist:3J3TqVRdzBTEf2i2R54UX7'}, {'collaborative': False, 'description': 'i want you back', 'external_urls': {'spotify': 'https://open.spotify.com/playlist/4QYmluEk27bkwPeyLMDYUU'}, 'href': 'https://api.spotify.com/v1/playlists/4QYmluEk27bkwPeyLMDYUU', 'id': '4QYmluEk27bkwPeyLMDYUU', 'images': [{'height': None, 'url': 'https://image-cdn-ak.spotifycdn.com/image/ab67706c0000da847fd302a6605fd96ed5c2393c', 'width': None}], 'name': 'casenlaitay', 'owner': {'display_name': 'emilewew', 'external_urls': {'spotify': 'https://open.spotify.com/user/minifixiowow'}, 'href': 'https://api.spotify.com/v1/users/minifixiowow', 'id': 'minifixiowow', 'type': 'user', 'uri': 'spotify:user:minifixiowow'}, 'primary_color': None, 'public': True, 'snapshot_id': 'AAAAMZsMAXYsKZZRXKfeX3mDGcxRyqeJ', 'tracks': {'href': 'https://api.spotify.com/v1/playlists/4QYmluEk27bkwPeyLMDYUU/tracks', 'total': 43}, 'type': 'playlist', 'uri': 'spotify:playlist:4QYmluEk27bkwPeyLMDYUU'}, {'collaborative': False, 'description': '', 'external_urls': {'spotify': 'https://open.spotify.com/playlist/68QuXPGKHCq8HB5D4knVp8'}, 'href': 'https://api.spotify.com/v1/playlists/68QuXPGKHCq8HB5D4knVp8', 'id': '68QuXPGKHCq8HB5D4knVp8', 'images': [{'height': None, 'url': 'https://image-cdn-ak.spotifycdn.com/image/ab67706c0000da84862a43d6550cbde5af0fafd8', 'width': None}], 'name': 'ecrins', 'owner': {'display_name': 'emilewew', 'external_urls': {'spotify': 'https://open.spotify.com/user/minifixiowow'}, 'href': 'https://api.spotify.com/v1/users/minifixiowow', 'id': 'minifixiowow', 'type': 'user', 'uri': 'spotify:user:minifixiowow'}, 'primary_color': None, 'public': True, 'snapshot_id': 'AAAADA2ccppMeWf3NrF+pveCOGD5kgth', 'tracks': {'href': 'https://api.spotify.com/v1/playlists/68QuXPGKHCq8HB5D4knVp8/tracks', 'total': 10}, 'type': 'playlist', 'uri': 'spotify:playlist:68QuXPGKHCq8HB5D4knVp8'}, {'collaborative': False, 'description': '', 'external_urls': {'spotify': 'https://open.spotify.com/playlist/580Dg1ZErZyQp5fiiYk9Sg'}, 'href': 'https://api.spotify.com/v1/playlists/580Dg1ZErZyQp5fiiYk9Sg', 'id': '580Dg1ZErZyQp5fiiYk9Sg', 'images': [{'height': None, 'url': 'https://image-cdn-ak.spotifycdn.com/image/ab67706c0000da845fda13c5f56afa5ac796390c', 'width': None}], 'name': 'run', 'owner': {'display_name': 'emilewew', 'external_urls': {'spotify': 'https://open.spotify.com/user/minifixiowow'}, 'href': 'https://api.spotify.com/v1/users/minifixiowow', 'id': 'minifixiowow', 'type': 'user', 'uri': 'spotify:user:minifixiowow'}, 'primary_color': None, 'public': True, 'snapshot_id': 'AAAAFtnPiK5gNUbMvxyqFSSbnHtHuTor', 'tracks': {'href': 'https://api.spotify.com/v1/playlists/580Dg1ZErZyQp5fiiYk9Sg/tracks', 'total': 18}, 'type': 'playlist', 'uri': 'spotify:playlist:580Dg1ZErZyQp5fiiYk9Sg'}, {'collaborative': False, 'description': '', 'external_urls': {'spotify': 'https://open.spotify.com/playlist/7kjpR8ZtHbva9pxwRRsIjZ'}, 'href': 'https://api.spotify.com/v1/playlists/7kjpR8ZtHbva9pxwRRsIjZ', 'id': '7kjpR8ZtHbva9pxwRRsIjZ', 'images': [{'height': None, 'url': 'https://image-cdn-ak.spotifycdn.com/image/ab67706c0000da84025be9b64154a8c93b4f4eef', 'width': None}], 'name': 'MAD-AMS-CDG-BER-LON', 'owner': {'display_name': 'emilewew', 'external_urls': {'spotify': 'https://open.spotify.com/user/minifixiowow'}, 'href': 'https://api.spotify.com/v1/users/minifixiowow', 'id': 'minifixiowow', 'type': 'user', 'uri': 'spotify:user:minifixiowow'}, 'primary_color': None, 'public': True, 'snapshot_id': 'AAAAHS1SFk6RbVDTOblww4SrxywTdzTX', 'tracks': {'href': 'https://api.spotify.com/v1/playlists/7kjpR8ZtHbva9pxwRRsIjZ/tracks', 'total': 42}, 'type': 'playlist', 'uri': 'spotify:playlist:7kjpR8ZtHbva9pxwRRsIjZ'}, {'collaborative': False, 'description': 'me badly', 'external_urls': {'spotify': 'https://open.spotify.com/playlist/5H7jtfMoggIsRyArKhjlRh'}, 'href': 'https://api.spotify.com/v1/playlists/5H7jtfMoggIsRyArKhjlRh', 'id': '5H7jtfMoggIsRyArKhjlRh', 'images': [{'height': None, 'url': 'https://image-cdn-ak.spotifycdn.com/image/ab67706c0000da845522030a03b6bfc701c17ce9', 'width': None}], 'name': 'judge', 'owner': {'display_name': 'emilewew', 'external_urls': {'spotify': 'https://open.spotify.com/user/minifixiowow'}, 'href': 'https://api.spotify.com/v1/users/minifixiowow', 'id': 'minifixiowow', 'type': 'user', 'uri': 'spotify:user:minifixiowow'}, 'primary_color': None, 'public': True, 'snapshot_id': 'AAAADdr3lndoTPqwri8/v6ZXL/aRwlOg', 'tracks': {'href': 'https://api.spotify.com/v1/playlists/5H7jtfMoggIsRyArKhjlRh/tracks', 'total': 5}, 'type': 'playlist', 'uri': 'spotify:playlist:5H7jtfMoggIsRyArKhjlRh'}, {'collaborative': False, 'description': 'judge', 'external_urls': {'spotify': 'https://open.spotify.com/playlist/1XLdBoPBivOaPpdLlrglMU'}, 'href': 'https://api.spotify.com/v1/playlists/1XLdBoPBivOaPpdLlrglMU', 'id': '1XLdBoPBivOaPpdLlrglMU', 'images': [{'height': None, 'url': 'https://image-cdn-ak.spotifycdn.com/image/ab67706c0000da843bdb78806f174dda607cfa6d', 'width': None}], 'name': \"don't\", 'owner': {'display_name': 'emilewew', 'external_urls': {'spotify': 'https://open.spotify.com/user/minifixiowow'}, 'href': 'https://api.spotify.com/v1/users/minifixiowow', 'id': 'minifixiowow', 'type': 'user', 'uri': 'spotify:user:minifixiowow'}, 'primary_color': None, 'public': True, 'snapshot_id': 'AAAAGa1fI/Umu/4Y0PXOZW2l83jJGbQu', 'tracks': {'href': 'https://api.spotify.com/v1/playlists/1XLdBoPBivOaPpdLlrglMU/tracks', 'total': 13}, 'type': 'playlist', 'uri': 'spotify:playlist:1XLdBoPBivOaPpdLlrglMU'}, {'collaborative': False, 'description': 'she', 'external_urls': {'spotify': 'https://open.spotify.com/playlist/7CBliH2L3xGs2NmkNZKBDx'}, 'href': 'https://api.spotify.com/v1/playlists/7CBliH2L3xGs2NmkNZKBDx', 'id': '7CBliH2L3xGs2NmkNZKBDx', 'images': [{'height': None, 'url': 'https://image-cdn-fa.spotifycdn.com/image/ab67706c0000da849485f2db06599b4cb39c9f35', 'width': None}], 'name': 'please', 'owner': {'display_name': 'emilewew', 'external_urls': {'spotify': 'https://open.spotify.com/user/minifixiowow'}, 'href': 'https://api.spotify.com/v1/users/minifixiowow', 'id': 'minifixiowow', 'type': 'user', 'uri': 'spotify:user:minifixiowow'}, 'primary_color': None, 'public': True, 'snapshot_id': 'AAAAGSMab92jXWfzSlPb8go9YIzo2hOq', 'tracks': {'href': 'https://api.spotify.com/v1/playlists/7CBliH2L3xGs2NmkNZKBDx/tracks', 'total': 36}, 'type': 'playlist', 'uri': 'spotify:playlist:7CBliH2L3xGs2NmkNZKBDx'}, {'collaborative': False, 'description': 'almost sunset', 'external_urls': {'spotify': 'https://open.spotify.com/playlist/2Cvn5AE3MmTLaXSc0VyTYu'}, 'href': 'https://api.spotify.com/v1/playlists/2Cvn5AE3MmTLaXSc0VyTYu', 'id': '2Cvn5AE3MmTLaXSc0VyTYu', 'images': [{'height': None, 'url': 'https://image-cdn-ak.spotifycdn.com/image/ab67706c0000da84beb7a6c93091adab186c92da', 'width': None}], 'name': 'nice view', 'owner': {'display_name': 'emilewew', 'external_urls': {'spotify': 'https://open.spotify.com/user/minifixiowow'}, 'href': 'https://api.spotify.com/v1/users/minifixiowow', 'id': 'minifixiowow', 'type': 'user', 'uri': 'spotify:user:minifixiowow'}, 'primary_color': None, 'public': True, 'snapshot_id': 'AAAAIr/mJAzcvVupa8c8pIbSUaX2VAta', 'tracks': {'href': 'https://api.spotify.com/v1/playlists/2Cvn5AE3MmTLaXSc0VyTYu/tracks', 'total': 26}, 'type': 'playlist', 'uri': 'spotify:playlist:2Cvn5AE3MmTLaXSc0VyTYu'}, {'collaborative': False, 'description': '500 cheveaux', 'external_urls': {'spotify': 'https://open.spotify.com/playlist/4yqHF45iM8aS7M9NXchSy1'}, 'href': 'https://api.spotify.com/v1/playlists/4yqHF45iM8aS7M9NXchSy1', 'id': '4yqHF45iM8aS7M9NXchSy1', 'images': [{'height': None, 'url': 'https://image-cdn-ak.spotifycdn.com/image/ab67706c0000da84e291a328fa878f0ae2ed7f50', 'width': None}], 'name': 'le moud', 'owner': {'display_name': 'emilewew', 'external_urls': {'spotify': 'https://open.spotify.com/user/minifixiowow'}, 'href': 'https://api.spotify.com/v1/users/minifixiowow', 'id': 'minifixiowow', 'type': 'user', 'uri': 'spotify:user:minifixiowow'}, 'primary_color': None, 'public': True, 'snapshot_id': 'AAAAI+r16B8UANeELTWjzpTYmGTUNL1M', 'tracks': {'href': 'https://api.spotify.com/v1/playlists/4yqHF45iM8aS7M9NXchSy1/tracks', 'total': 64}, 'type': 'playlist', 'uri': 'spotify:playlist:4yqHF45iM8aS7M9NXchSy1'}, {'collaborative': False, 'description': '💔💔💔💔💔💔💔💔💔💔', 'external_urls': {'spotify': 'https://open.spotify.com/playlist/3KYBs5UBft4o6dGSHWE2Ml'}, 'href': 'https://api.spotify.com/v1/playlists/3KYBs5UBft4o6dGSHWE2Ml', 'id': '3KYBs5UBft4o6dGSHWE2Ml', 'images': [{'height': None, 'url': 'https://image-cdn-ak.spotifycdn.com/image/ab67706c0000da842ccf7c842d19d92d0fded3e3', 'width': None}], 'name': 'ROSALIA TE QUIERO TAMBIEN', 'owner': {'display_name': 'emilewew', 'external_urls': {'spotify': 'https://open.spotify.com/user/minifixiowow'}, 'href': 'https://api.spotify.com/v1/users/minifixiowow', 'id': 'minifixiowow', 'type': 'user', 'uri': 'spotify:user:minifixiowow'}, 'primary_color': None, 'public': True, 'snapshot_id': 'AAAAEd2APDOqlzzstONy3yagJYAf0pjA', 'tracks': {'href': 'https://api.spotify.com/v1/playlists/3KYBs5UBft4o6dGSHWE2Ml/tracks', 'total': 11}, 'type': 'playlist', 'uri': 'spotify:playlist:3KYBs5UBft4o6dGSHWE2Ml'}, {'collaborative': False, 'description': '', 'external_urls': {'spotify': 'https://open.spotify.com/playlist/1njTOmDw4YCV3DYyabETum'}, 'href': 'https://api.spotify.com/v1/playlists/1njTOmDw4YCV3DYyabETum', 'id': '1njTOmDw4YCV3DYyabETum', 'images': [{'height': None, 'url': 'https://image-cdn-ak.spotifycdn.com/image/ab67706c0000da84ca279f0709b12d5314a69417', 'width': None}], 'name': 'A2 en español', 'owner': {'display_name': 'emilewew', 'external_urls': {'spotify': 'https://open.spotify.com/user/minifixiowow'}, 'href': 'https://api.spotify.com/v1/users/minifixiowow', 'id': 'minifixiowow', 'type': 'user', 'uri': 'spotify:user:minifixiowow'}, 'primary_color': None, 'public': True, 'snapshot_id': 'AAAAEBJ/xbqxrPcmbGvYvnFUjbH7JdBa', 'tracks': {'href': 'https://api.spotify.com/v1/playlists/1njTOmDw4YCV3DYyabETum/tracks', 'total': 28}, 'type': 'playlist', 'uri': 'spotify:playlist:1njTOmDw4YCV3DYyabETum'}, {'collaborative': False, 'description': 'nice shoot sadio !', 'external_urls': {'spotify': 'https://open.spotify.com/playlist/3VFFgtiylcgR1TURjTLIDw'}, 'href': 'https://api.spotify.com/v1/playlists/3VFFgtiylcgR1TURjTLIDw', 'id': '3VFFgtiylcgR1TURjTLIDw', 'images': [{'height': None, 'url': 'https://image-cdn-ak.spotifycdn.com/image/ab67706c0000da84659fa860e4b1dc607900baa6', 'width': None}], 'name': '91.06 PALAISEAU 01', 'owner': {'display_name': 'emilewew', 'external_urls': {'spotify': 'https://open.spotify.com/user/minifixiowow'}, 'href': 'https://api.spotify.com/v1/users/minifixiowow', 'id': 'minifixiowow', 'type': 'user', 'uri': 'spotify:user:minifixiowow'}, 'primary_color': None, 'public': True, 'snapshot_id': 'AAAAEgOyyfaGwhqvj9lzBy3qx9N3apOY', 'tracks': {'href': 'https://api.spotify.com/v1/playlists/3VFFgtiylcgR1TURjTLIDw/tracks', 'total': 13}, 'type': 'playlist', 'uri': 'spotify:playlist:3VFFgtiylcgR1TURjTLIDw'}, {'collaborative': False, 'description': 'if u know u know .....                                                    ', 'external_urls': {'spotify': 'https://open.spotify.com/playlist/071m6cn8XyNpMVrZfIpCvi'}, 'href': 'https://api.spotify.com/v1/playlists/071m6cn8XyNpMVrZfIpCvi', 'id': '071m6cn8XyNpMVrZfIpCvi', 'images': [{'height': None, 'url': 'https://image-cdn-ak.spotifycdn.com/image/ab67706c0000da84c182772508675ea577063b3a', 'width': None}], 'name': '??L̷͖͈̓͌̎̉͒͗͂̓̌̚͝ŏ̸̡̼̺̫̥̻͈̞̍͆̏̓́͜͝ͅǹ̷̨͍̮̥̹̘͙̗̻̬̬̜̥̮̃̒̈́̽͗̿̍̄̂̏͆͠͝d̶̡̲̗̼̮̤̤̳̲͖͓͍͔͓̓̎̽́̽̏̐͂̆͆͘͘͘ŏ̸̡̼̺̫̥̻͈̞̍͆̏̓́͜͝ͅǹ̷̨͍̮̥̹̘͙̗̻̬̬̜̥̮̃̒̈́̽͗̿̍̄̂̏͆͠͝!??', 'owner': {'display_name': 'emilewew', 'external_urls': {'spotify': 'https://open.spotify.com/user/minifixiowow'}, 'href': 'https://api.spotify.com/v1/users/minifixiowow', 'id': 'minifixiowow', 'type': 'user', 'uri': 'spotify:user:minifixiowow'}, 'primary_color': None, 'public': True, 'snapshot_id': 'AAAALKcL5ZqXh3I/ySii6ddH5TvoW7kG', 'tracks': {'href': 'https://api.spotify.com/v1/playlists/071m6cn8XyNpMVrZfIpCvi/tracks', 'total': 24}, 'type': 'playlist', 'uri': 'spotify:playlist:071m6cn8XyNpMVrZfIpCvi'}, {'collaborative': False, 'description': '', 'external_urls': {'spotify': 'https://open.spotify.com/playlist/7d2057mDbBDI7mQKtysMIZ'}, 'href': 'https://api.spotify.com/v1/playlists/7d2057mDbBDI7mQKtysMIZ', 'id': '7d2057mDbBDI7mQKtysMIZ', 'images': [{'height': None, 'url': 'https://image-cdn-ak.spotifycdn.com/image/ab67706c0000da8445f919b69cecef5c455b541a', 'width': None}], 'name': 'surmoa', 'owner': {'display_name': 'emilewew', 'external_urls': {'spotify': 'https://open.spotify.com/user/minifixiowow'}, 'href': 'https://api.spotify.com/v1/users/minifixiowow', 'id': 'minifixiowow', 'type': 'user', 'uri': 'spotify:user:minifixiowow'}, 'primary_color': None, 'public': True, 'snapshot_id': 'AAAAKGMzrN80JphOk89ZoSpSG2Qw0J2f', 'tracks': {'href': 'https://api.spotify.com/v1/playlists/7d2057mDbBDI7mQKtysMIZ/tracks', 'total': 36}, 'type': 'playlist', 'uri': 'spotify:playlist:7d2057mDbBDI7mQKtysMIZ'}, {'collaborative': False, 'description': 'tu me flume mec', 'external_urls': {'spotify': 'https://open.spotify.com/playlist/20cjVqsSzUSeICJuGAuhdr'}, 'href': 'https://api.spotify.com/v1/playlists/20cjVqsSzUSeICJuGAuhdr', 'id': '20cjVqsSzUSeICJuGAuhdr', 'images': [{'height': None, 'url': 'https://image-cdn-ak.spotifycdn.com/image/ab67706c0000da843f1f59d39fab60c2deae77ce', 'width': None}], 'name': 'Ayehest places', 'owner': {'display_name': 'emilewew', 'external_urls': {'spotify': 'https://open.spotify.com/user/minifixiowow'}, 'href': 'https://api.spotify.com/v1/users/minifixiowow', 'id': 'minifixiowow', 'type': 'user', 'uri': 'spotify:user:minifixiowow'}, 'primary_color': None, 'public': True, 'snapshot_id': 'AAAAJVbEWTIShZk3niQfVLCY6Kmtwzgh', 'tracks': {'href': 'https://api.spotify.com/v1/playlists/20cjVqsSzUSeICJuGAuhdr/tracks', 'total': 25}, 'type': 'playlist', 'uri': 'spotify:playlist:20cjVqsSzUSeICJuGAuhdr'}, {'collaborative': False, 'description': '', 'external_urls': {'spotify': 'https://open.spotify.com/playlist/5ugBJ5cEoJUn6BBI0HBMgp'}, 'href': 'https://api.spotify.com/v1/playlists/5ugBJ5cEoJUn6BBI0HBMgp', 'id': '5ugBJ5cEoJUn6BBI0HBMgp', 'images': [{'height': None, 'url': 'https://image-cdn-fa.spotifycdn.com/image/ab67706c0000da84643134b1ba2b9b3f251f9391', 'width': None}], 'name': 'merci Arte', 'owner': {'display_name': 'emilewew', 'external_urls': {'spotify': 'https://open.spotify.com/user/minifixiowow'}, 'href': 'https://api.spotify.com/v1/users/minifixiowow', 'id': 'minifixiowow', 'type': 'user', 'uri': 'spotify:user:minifixiowow'}, 'primary_color': None, 'public': True, 'snapshot_id': 'AAAAC7Mb6R8yst7kiBjoP1I6O75pmTAn', 'tracks': {'href': 'https://api.spotify.com/v1/playlists/5ugBJ5cEoJUn6BBI0HBMgp/tracks', 'total': 6}, 'type': 'playlist', 'uri': 'spotify:playlist:5ugBJ5cEoJUn6BBI0HBMgp'}, {'collaborative': False, 'description': '', 'external_urls': {'spotify': 'https://open.spotify.com/playlist/3wqnPm884NHJbqxYXosMC3'}, 'href': 'https://api.spotify.com/v1/playlists/3wqnPm884NHJbqxYXosMC3', 'id': '3wqnPm884NHJbqxYXosMC3', 'images': [{'height': None, 'url': 'https://image-cdn-ak.spotifycdn.com/image/ab67706c0000da84891095ea8ce95c28b2751657', 'width': None}], 'name': 'impossible', 'owner': {'display_name': 'emilewew', 'external_urls': {'spotify': 'https://open.spotify.com/user/minifixiowow'}, 'href': 'https://api.spotify.com/v1/users/minifixiowow', 'id': 'minifixiowow', 'type': 'user', 'uri': 'spotify:user:minifixiowow'}, 'primary_color': None, 'public': True, 'snapshot_id': 'AAAAGSevIUfOHHaLpV0lt5kJr59qV9f/', 'tracks': {'href': 'https://api.spotify.com/v1/playlists/3wqnPm884NHJbqxYXosMC3/tracks', 'total': 22}, 'type': 'playlist', 'uri': 'spotify:playlist:3wqnPm884NHJbqxYXosMC3'}, {'collaborative': False, 'description': '', 'external_urls': {'spotify': 'https://open.spotify.com/playlist/7AGtHO7iiFwxodEAW9mn7Y'}, 'href': 'https://api.spotify.com/v1/playlists/7AGtHO7iiFwxodEAW9mn7Y', 'id': '7AGtHO7iiFwxodEAW9mn7Y', 'images': [{'height': None, 'url': 'https://image-cdn-ak.spotifycdn.com/image/ab67706c0000da84fd6f496dc5f7fc0d84611ec6', 'width': None}], 'name': 'myjazz', 'owner': {'display_name': 'emilewew', 'external_urls': {'spotify': 'https://open.spotify.com/user/minifixiowow'}, 'href': 'https://api.spotify.com/v1/users/minifixiowow', 'id': 'minifixiowow', 'type': 'user', 'uri': 'spotify:user:minifixiowow'}, 'primary_color': None, 'public': True, 'snapshot_id': 'AAAALNIDYGW6pHiwwBYT/lVt8NQ5txcK', 'tracks': {'href': 'https://api.spotify.com/v1/playlists/7AGtHO7iiFwxodEAW9mn7Y/tracks', 'total': 43}, 'type': 'playlist', 'uri': 'spotify:playlist:7AGtHO7iiFwxodEAW9mn7Y'}, {'collaborative': False, 'description': '', 'external_urls': {'spotify': 'https://open.spotify.com/playlist/1bsO5SKQbXtGebY1PLhwYQ'}, 'href': 'https://api.spotify.com/v1/playlists/1bsO5SKQbXtGebY1PLhwYQ', 'id': '1bsO5SKQbXtGebY1PLhwYQ', 'images': [{'height': None, 'url': 'https://image-cdn-ak.spotifycdn.com/image/ab67706c0000da842df8387f138546a3b008325a', 'width': None}], 'name': 'airbnb?⠀⠀⠀⠀⠀⠀⠀⠀⠀quizás🇪🇸⠀⠀⠀⠀⠀⠀⠀⠀⠀⠀⠀⠀⠀⠀en🇪🇸⠀⠀⠀⠀⠀⠀⠀⠀⠀⠀⠀⠀españa🇪🇸?⠀⠀⠀⠀⠀⠀⠀⠀⠀⠀⠀⠀⠀🇪🇸', 'owner': {'display_name': 'emilewew', 'external_urls': {'spotify': 'https://open.spotify.com/user/minifixiowow'}, 'href': 'https://api.spotify.com/v1/users/minifixiowow', 'id': 'minifixiowow', 'type': 'user', 'uri': 'spotify:user:minifixiowow'}, 'primary_color': None, 'public': True, 'snapshot_id': 'AAAAO2Edu1yuQGBvvLm2sV3Kfk7/AAw4', 'tracks': {'href': 'https://api.spotify.com/v1/playlists/1bsO5SKQbXtGebY1PLhwYQ/tracks', 'total': 59}, 'type': 'playlist', 'uri': 'spotify:playlist:1bsO5SKQbXtGebY1PLhwYQ'}, {'collaborative': False, 'description': '', 'external_urls': {'spotify': 'https://open.spotify.com/playlist/0bqpC6edBLV9B5t82ljwNh'}, 'href': 'https://api.spotify.com/v1/playlists/0bqpC6edBLV9B5t82ljwNh', 'id': '0bqpC6edBLV9B5t82ljwNh', 'images': [{'height': None, 'url': 'https://image-cdn-ak.spotifycdn.com/image/ab67706c0000da849616b578a03c9ed6f05716a6', 'width': None}], 'name': '␥⌭␥', 'owner': {'display_name': 'emilewew', 'external_urls': {'spotify': 'https://open.spotify.com/user/minifixiowow'}, 'href': 'https://api.spotify.com/v1/users/minifixiowow', 'id': 'minifixiowow', 'type': 'user', 'uri': 'spotify:user:minifixiowow'}, 'primary_color': None, 'public': True, 'snapshot_id': 'AAAAGfdnyRm9fSgGulpQcswUEWKfafft', 'tracks': {'href': 'https://api.spotify.com/v1/playlists/0bqpC6edBLV9B5t82ljwNh/tracks', 'total': 26}, 'type': 'playlist', 'uri': 'spotify:playlist:0bqpC6edBLV9B5t82ljwNh'}, {'collaborative': False, 'description': '', 'external_urls': {'spotify': 'https://open.spotify.com/playlist/0jsJFJXOqu0o3x56ayKVLR'}, 'href': 'https://api.spotify.com/v1/playlists/0jsJFJXOqu0o3x56ayKVLR', 'id': '0jsJFJXOqu0o3x56ayKVLR', 'images': [{'height': None, 'url': 'https://image-cdn-ak.spotifycdn.com/image/ab67706c0000da84a44346c9d57eb9dcb87d86cc', 'width': None}], 'name': 'float', 'owner': {'display_name': 'emilewew', 'external_urls': {'spotify': 'https://open.spotify.com/user/minifixiowow'}, 'href': 'https://api.spotify.com/v1/users/minifixiowow', 'id': 'minifixiowow', 'type': 'user', 'uri': 'spotify:user:minifixiowow'}, 'primary_color': None, 'public': True, 'snapshot_id': 'AAAAGdVUIoJ4j2d++475W+/z0hDHkzK2', 'tracks': {'href': 'https://api.spotify.com/v1/playlists/0jsJFJXOqu0o3x56ayKVLR/tracks', 'total': 22}, 'type': 'playlist', 'uri': 'spotify:playlist:0jsJFJXOqu0o3x56ayKVLR'}, {'collaborative': False, 'description': 'ne sera jamais aussi bien que LoVé', 'external_urls': {'spotify': 'https://open.spotify.com/playlist/67AiUB36QajEURIHS9WHMC'}, 'href': 'https://api.spotify.com/v1/playlists/67AiUB36QajEURIHS9WHMC', 'id': '67AiUB36QajEURIHS9WHMC', 'images': [{'height': None, 'url': 'https://image-cdn-ak.spotifycdn.com/image/ab67706c0000da84670183989edc8d4e30c76193', 'width': None}], 'name': 'Vé Lo', 'owner': {'display_name': 'emilewew', 'external_urls': {'spotify': 'https://open.spotify.com/user/minifixiowow'}, 'href': 'https://api.spotify.com/v1/users/minifixiowow', 'id': 'minifixiowow', 'type': 'user', 'uri': 'spotify:user:minifixiowow'}, 'primary_color': None, 'public': True, 'snapshot_id': 'AAAAEgo/vvViELyh4+gFt7I0BclVriwq', 'tracks': {'href': 'https://api.spotify.com/v1/playlists/67AiUB36QajEURIHS9WHMC/tracks', 'total': 28}, 'type': 'playlist', 'uri': 'spotify:playlist:67AiUB36QajEURIHS9WHMC'}, {'collaborative': False, 'description': '', 'external_urls': {'spotify': 'https://open.spotify.com/playlist/4KT8ElHf2Q69Q6PIm2gdTj'}, 'href': 'https://api.spotify.com/v1/playlists/4KT8ElHf2Q69Q6PIm2gdTj', 'id': '4KT8ElHf2Q69Q6PIm2gdTj', 'images': [{'height': None, 'url': 'https://image-cdn-ak.spotifycdn.com/image/ab67706c0000da84b37b2084175ba139273810c1', 'width': None}], 'name': 'I Think Morning Is A Great Name', 'owner': {'display_name': 'emilewew', 'external_urls': {'spotify': 'https://open.spotify.com/user/minifixiowow'}, 'href': 'https://api.spotify.com/v1/users/minifixiowow', 'id': 'minifixiowow', 'type': 'user', 'uri': 'spotify:user:minifixiowow'}, 'primary_color': None, 'public': True, 'snapshot_id': 'AAAAFSP59uAoA6U36udn+WYmqPjUkySZ', 'tracks': {'href': 'https://api.spotify.com/v1/playlists/4KT8ElHf2Q69Q6PIm2gdTj/tracks', 'total': 22}, 'type': 'playlist', 'uri': 'spotify:playlist:4KT8ElHf2Q69Q6PIm2gdTj'}, {'collaborative': False, 'description': '', 'external_urls': {'spotify': 'https://open.spotify.com/playlist/2zi8yLUgUrYiMj9kOkyJBy'}, 'href': 'https://api.spotify.com/v1/playlists/2zi8yLUgUrYiMj9kOkyJBy', 'id': '2zi8yLUgUrYiMj9kOkyJBy', 'images': [{'height': None, 'url': 'https://image-cdn-ak.spotifycdn.com/image/ab67706c0000da84dad75fb7f437769715de68eb', 'width': None}], 'name': 'The Messengers - Trilogy', 'owner': {'display_name': 'emilewew', 'external_urls': {'spotify': 'https://open.spotify.com/user/minifixiowow'}, 'href': 'https://api.spotify.com/v1/users/minifixiowow', 'id': 'minifixiowow', 'type': 'user', 'uri': 'spotify:user:minifixiowow'}, 'primary_color': None, 'public': True, 'snapshot_id': 'AAAAM/BeGCNXQC/zQycgBDSZnLahMwqk', 'tracks': {'href': 'https://api.spotify.com/v1/playlists/2zi8yLUgUrYiMj9kOkyJBy/tracks', 'total': 34}, 'type': 'playlist', 'uri': 'spotify:playlist:2zi8yLUgUrYiMj9kOkyJBy'}]\n",
      "Generating user embeddings...\n",
      "Generating user embedding...\n",
      "2025-01-03 13:47:42,364 WARNING: DeprecationWarning: You should use `playlist_items(playlist_id, ...,additional_types=('track',))` instead\n",
      "\n",
      "Generating contextual embeddings...\n",
      "Finished: Reading data from Hopsworks, using Hopsworks Feature Query Service (0.93s) \n",
      "Similarities shape: (28,)\n",
      "[0.99997883 0.99997829 0.99997596 0.99999049 0.99997921 0.99998303\n",
      " 0.99997828 0.99999048 0.9999884  0.99997039 0.99998702 0.99998664\n",
      " 0.99998225 0.99999245 0.99998141 0.99998614 0.99998273 0.99999167\n",
      " 0.99998016 0.99998961 0.99998908 0.99999036 0.99998718 0.99999076\n",
      " 0.99999048 0.99998657 0.99999198 0.99997394]\n",
      "Finding the top matches...\n",
      "Top matches and matched similarities:\n",
      "[0.99999245 0.99999198 0.99999167 0.99999076 0.99999049]\n",
      "User ID: g55ga5pkq0fn3f0pinsffg0nc, Similarity: 1.00\n",
      "Error fetching profile: list index out of range\n",
      "User ID: 3nd1k5jnpt62r1j3xedlaw3ot, Similarity: 1.00\n",
      "Error fetching profile: list index out of range\n",
      "User ID: j32o5erph6xxeb9d6ektq9as1, Similarity: 1.00\n",
      "Error fetching profile: list index out of range\n",
      "User ID: 31sn2va4lvfkj5vmzmpirtjxyxke, Similarity: 1.00\n",
      "User ID: 31h7ml3xiavflj5n7d4av5u5xaie, Similarity: 1.00\n",
      "Error fetching profile: list index out of range\n"
     ]
    }
   ],
   "source": [
    "# Launch the app\n",
    "interface.launch()"
   ]
  }
 ],
 "metadata": {
  "kernelspec": {
   "display_name": "Python 3",
   "language": "python",
   "name": "python3"
  },
  "language_info": {
   "codemirror_mode": {
    "name": "ipython",
    "version": 3
   },
   "file_extension": ".py",
   "mimetype": "text/x-python",
   "name": "python",
   "nbconvert_exporter": "python",
   "pygments_lexer": "ipython3",
   "version": "3.10.13"
  }
 },
 "nbformat": 4,
 "nbformat_minor": 2
}
