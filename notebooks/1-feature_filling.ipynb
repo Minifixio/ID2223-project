{
 "cells": [
  {
   "cell_type": "code",
   "execution_count": null,
   "metadata": {},
   "outputs": [],
   "source": [
    "import os\n",
    "import numpy as np\n",
    "import pandas as pd\n",
    "from datetime import datetime\n",
    "from collections import Counter\n",
    "from sklearn.preprocessing import normalize\n",
    "from gensim.models import Word2Vec\n",
    "from datasets import load_dataset\n",
    "import hopsworks\n",
    "import spotipy\n",
    "from spotipy.oauth2 import SpotifyClientCredentials\n",
    "import pickle"
   ]
  },
  {
   "cell_type": "code",
   "execution_count": 2,
   "metadata": {},
   "outputs": [],
   "source": [
    "with open('../secrets/hopsworks_api_key.txt', 'r') as file:\n",
    "    HOPSWORKS_API_KEY = file.readline().strip()\n",
    "\n",
    "with open('../secrets/spotify_client_id.txt', 'r') as file:\n",
    "    SPOTIFY_CLIENT_ID = file.readline().strip()\n",
    "\n",
    "with open('../secrets/spotify_client_secret.txt', 'r') as file:\n",
    "    SPOTIFY_CLIENT_SECRET = file.readline().strip()"
   ]
  },
  {
   "cell_type": "code",
   "execution_count": 3,
   "metadata": {},
   "outputs": [],
   "source": [
    "client_credentials_manager = SpotifyClientCredentials(client_id=SPOTIFY_CLIENT_ID, client_secret=SPOTIFY_CLIENT_SECRET)\n",
    "sp = spotipy.Spotify(client_credentials_manager=client_credentials_manager)"
   ]
  },
  {
   "cell_type": "code",
   "execution_count": 4,
   "metadata": {},
   "outputs": [
    {
     "name": "stdout",
     "output_type": "stream",
     "text": [
      "2025-01-02 18:31:21,132 INFO: Initializing external client\n",
      "2025-01-02 18:31:21,132 INFO: Base URL: https://c.app.hopsworks.ai:443\n",
      "2025-01-02 18:31:22,414 INFO: Python Engine initialized.\n",
      "\n",
      "Logged in to project, explore it here https://c.app.hopsworks.ai:443/p/1208515\n"
     ]
    }
   ],
   "source": [
    "project = hopsworks.login(api_key_value=HOPSWORKS_API_KEY)"
   ]
  },
  {
   "cell_type": "code",
   "execution_count": 16,
   "metadata": {},
   "outputs": [],
   "source": [
    "# Generate embedding for a user's profile\n",
    "def generate_user_embedding(user_playlists, genre_embedding_model, artist_embedding_model, top_artist_count, playlists_count):\n",
    "    all_genres = []\n",
    "    all_artists = []\n",
    "    all_release_years = []\n",
    "    playlist_features = []\n",
    "\n",
    "    for playlist in user_playlists[:playlists_count]:  # Limit to first 10 playlists\n",
    "        playlist_name = playlist.get(\"name\", \"Unknown\")\n",
    "        playlist_id = playlist[\"id\"]\n",
    "\n",
    "        # Fetch tracks in the playlist\n",
    "        tracks = sp.playlist_tracks(playlist_id)[\"items\"]\n",
    "\n",
    "        genres = []\n",
    "        popularity = []\n",
    "        release_years = []\n",
    "        explicit_flags = []\n",
    "        artist_names = []\n",
    "\n",
    "        for item in tracks:\n",
    "            track = item[\"track\"]\n",
    "            if not track:\n",
    "                continue\n",
    "\n",
    "            # Extract artist information\n",
    "            artist_id = track[\"artists\"][0][\"id\"]\n",
    "            artist = sp.artist(artist_id)\n",
    "            track_genres = artist.get(\"genres\", [])\n",
    "            artist_name = artist.get(\"name\", \"Unknown\")\n",
    "\n",
    "            # Append track features\n",
    "            genres.extend(track_genres)\n",
    "            artist_names.append(artist_name)\n",
    "            release_date = track[\"album\"][\"release_date\"]\n",
    "            \n",
    "            # Extract year from release date\n",
    "            release_year = release_date.split('-')[0]\n",
    "            release_years.append(int(release_year))\n",
    "\n",
    "            popularity.append(track.get(\"popularity\", 0))\n",
    "            explicit_flags.append(track.get(\"explicit\", False))\n",
    "\n",
    "        # Playlist-level features\n",
    "        playlist_features.append({\n",
    "            \"playlist_name\": playlist_name,\n",
    "            \"num_tracks\": len(tracks),\n",
    "            \"avg_popularity\": np.mean(popularity) if popularity else 0,\n",
    "            \"explicit_ratio\": np.mean(explicit_flags) if explicit_flags else 0\n",
    "        })\n",
    "\n",
    "        all_genres.extend(genres)\n",
    "        all_artists.extend(artist_names)\n",
    "        all_release_years.extend(release_years)\n",
    "\n",
    "    # Top artist embedding\n",
    "    artist_counter = Counter(all_artists)\n",
    "    top_artists = [artist for artist, _ in artist_counter.most_common(top_artist_count)]\n",
    "    artist_embedding = np.mean(\n",
    "        [artist_embedding_model.wv[artist] for artist in top_artists if artist in artist_embedding_model.wv],\n",
    "        axis=0\n",
    "    ) if top_artists else np.zeros(100)\n",
    "\n",
    "    # Genre embedding\n",
    "    genre_vectors = [\n",
    "        genre_embedding_model.wv[genre] for genre in all_genres if genre in genre_embedding_model.wv\n",
    "    ]\n",
    "    genre_embedding = np.mean(genre_vectors, axis=0) if genre_vectors else np.zeros(100)\n",
    "\n",
    "    # Aggregated playlist embedding\n",
    "    playlist_sizes = [p[\"num_tracks\"] for p in playlist_features]\n",
    "    playlist_weights = normalize(np.array(playlist_sizes).reshape(1, -1))[0]\n",
    "    playlist_embedding = np.sum([playlist_weights[i] * genre_embedding for i in range(len(playlist_features))], axis=0)\n",
    "\n",
    "    # Release year embedding\n",
    "    release_year_embedding = np.array([np.mean(all_release_years)])\n",
    "\n",
    "    # Return individual embeddings\n",
    "    return genre_embedding, artist_embedding, playlist_embedding, release_year_embedding"
   ]
  },
  {
   "cell_type": "code",
   "execution_count": 15,
   "metadata": {},
   "outputs": [
    {
     "name": "stdout",
     "output_type": "stream",
     "text": [
      "Loaded dataset with 1710459 profiles\n"
     ]
    }
   ],
   "source": [
    "profiles_count = 50  # Number of profiles to process\n",
    "top_artist_count = 5  # Number of top artists to embed\n",
    "playlists_count = 10  # Number of playlists to consider per user\n",
    "\n",
    "# Load dataset\n",
    "dataset = load_dataset(\"erenfazlioglu/spotifyuserids\")\n",
    "print(f\"Loaded dataset with {len(dataset['train'])} profiles\")\n",
    "rows = dataset[\"train\"][:profiles_count]"
   ]
  },
  {
   "cell_type": "code",
   "execution_count": 9,
   "metadata": {},
   "outputs": [
    {
     "name": "stdout",
     "output_type": "stream",
     "text": [
      "Processing user 31h7ml3xiavflj5n7d4av5u5xaie\n",
      "Processing user 31jftrtdt3442xn74mb44j4l4lf4\n",
      "Processing user 31tgsl3dejcqihle3pv7o6eeng2a\n",
      "Processing user 31imc4msmvetbl26gly5n55jbkka\n",
      "Processing user 31frxab22c2ez34gnfggtqqsnope\n",
      "Processing user 31fg5ma4zjh37mcqzto3xt2sxc3a\n",
      "Processing user 31vbhry6lnvr5jdwbvzkmwmpoyaq\n",
      "Processing user 31yfhhcsm7gfze67kyakl2htpsqe\n",
      "Processing user vvzx3nq79szk5qfmkznpm230n\n",
      "Processing user 312klqvvav432mq4562g7qebwu6q\n",
      "Processing user 314nnom4dpapiu6dd2ffoska7eza\n",
      "Processing user l2qyufju6ub2s40t30xbk46ih\n",
      "Processing user 31izr6gm4co2saq6vom5jmh6ghdy\n",
      "Processing user 31kyyozssce7jzaaddtkoib3ezyu\n",
      "Processing user 31wz2lctfb6ftrjybh4aaiq2cwui\n",
      "Processing user vtu3lxe2uqkalv6pjnuw54hep\n",
      "Processing user 31662nnwj4hzlceyhda5awuaynsu\n",
      "2025-01-02 18:34:14,942 ERROR: HTTP Error for GET to https://api.spotify.com/v1/users/31662nnwj4hzlceyhda5awuaynsu/playlists with Params: {'limit': 50, 'offset': 0} returned 404 due to Resource not found\n",
      "User 31662nnwj4hzlceyhda5awuaynsu not found or no playlists available.\n",
      "Processing user 31giqxm57kovosas46dq57wbdica\n",
      "Processing user jx1sugf4xeh6fo4ralwrn2a84\n",
      "Processing user 31c7gk7dkxwn4flgp63ztidzda4y\n",
      "Processing user j32o5erph6xxeb9d6ektq9as1\n",
      "Processing user 3nd1k5jnpt62r1j3xedlaw3ot\n",
      "2025-01-02 18:35:00,662 ERROR: HTTP Error for GET to https://api.spotify.com/v1/artists/5yG6lvAlzQWacAR3aWlroU with Params: {} returned 404 due to Resource not found\n",
      "User 3nd1k5jnpt62r1j3xedlaw3ot not found or no playlists available.\n",
      "Processing user hmy0m9ahpkdmowqbw1pgz0aux\n",
      "An unexpected error occurred with user hmy0m9ahpkdmowqbw1pgz0aux: HTTPSConnectionPool(host='api.spotify.com', port=443): Read timed out. (read timeout=5)\n",
      "Processing user 88nyc9r751vir69lp153ykgtz\n",
      "Processing user 312d6ietikif7ekgyijohbpk2m74\n",
      "Processing user 1yq303e30hhvqmfnhbtmazta2\n",
      "Processing user 9cxbksenqvv039qeg6z4ngmna\n",
      "Processing user 3152agkv2j6tqmego7nc5nqzv5g4\n",
      "Processing user 31htszu5z7l6svdn5ydimvegzwqm\n",
      "Processing user 31pr7e6d5uzwvw47gj7crgp4eh4y\n",
      "2025-01-02 18:35:47,742 ERROR: HTTP Error for GET to https://api.spotify.com/v1/artists/7oHBuvxTdxb6Fc45Pg88eZ with Params: {} returned 404 due to Resource not found\n",
      "User 31pr7e6d5uzwvw47gj7crgp4eh4y not found or no playlists available.\n",
      "Processing user 314xrx3wqlldxw5kjr46cnqjn5lm\n",
      "2025-01-02 18:35:52,757 ERROR: HTTP Error for GET to https://api.spotify.com/v1/artists/2tEwvc5QB4JbmkwwuYobvf with Params: {} returned 404 due to Resource not found\n",
      "User 314xrx3wqlldxw5kjr46cnqjn5lm not found or no playlists available.\n",
      "Processing user 31pnpleg4pjrjnlvtje53oexw7ry\n",
      "An unexpected error occurred with user 31pnpleg4pjrjnlvtje53oexw7ry: HTTPSConnectionPool(host='api.spotify.com', port=443): Read timed out. (read timeout=5)\n",
      "Processing user 45zgnh7nyavkerr68tomy5j3t\n",
      "2025-01-02 18:36:19,602 ERROR: HTTP Error for GET to https://api.spotify.com/v1/artists/0ilWIJHDYT1gRoQ6ZR8TMa with Params: {} returned 404 due to Resource not found\n",
      "User 45zgnh7nyavkerr68tomy5j3t not found or no playlists available.\n",
      "Processing user 31juxqlisq5eh7ljwkdskm6ghvty\n",
      "Processing user xh02k5d2kyztbl4yc3iyhv0lm\n",
      "Processing user 0byiet1qmohm25oyl5b167wpq\n",
      "Processing user 31j3s2bvfpgfxanm5xpspysyvw24\n",
      "2025-01-02 18:37:05,811 ERROR: HTTP Error for GET to https://api.spotify.com/v1/artists/6CD1CZJeDlF0oppxMnVQVz with Params: {} returned 404 due to Resource not found\n",
      "User 31j3s2bvfpgfxanm5xpspysyvw24 not found or no playlists available.\n",
      "Processing user kzw86k3c1rh9fd00munkknoih\n",
      "Processing user f297r0axl04ikpxpmgwdbsp6c\n",
      "Processing user 31ymgkv75bmobs2ij7mnwgexaoua\n",
      "Processing user g55ga5pkq0fn3f0pinsffg0nc\n",
      "Processing user 31oxtulozo5ceyqleg2cqwogzgtm\n",
      "Processing user 31lvhsxe5h3bwj6q2u44dq7qumca\n",
      "Processing user 30r4qi0invuhk6uvmmy8gj6fm\n",
      "Processing user 31sn2va4lvfkj5vmzmpirtjxyxke\n",
      "Processing user 314fivyi2huae4xl246kkabjmlli\n",
      "Processing user srqmv40nar388b6i97t0pnm2k\n",
      "Processing user 3j5n8lvwpppq0e3ooxslicqt6\n",
      "Processing user 21d81n1zfienz20moif7elz8n\n",
      "Processing user 31x3647zigjfjc6ysuyq4e24wpue\n",
      "Training Word2Vec model on 3117 playlists\n",
      "2025-01-02 18:39:25,123 INFO: collecting all words and their counts\n",
      "2025-01-02 18:39:25,125 INFO: PROGRESS: at sentence #0, processed 0 words, keeping 0 word types\n",
      "2025-01-02 18:39:25,130 INFO: collected 1990 word types from a corpus of 11428 raw words and 3117 sentences\n",
      "2025-01-02 18:39:25,131 INFO: Creating a fresh vocabulary\n",
      "2025-01-02 18:39:25,139 INFO: Word2Vec lifecycle event {'msg': 'effective_min_count=1 retains 1990 unique words (100.00% of original 1990, drops 0)', 'datetime': '2025-01-02T18:39:25.138895', 'gensim': '4.3.3', 'python': '3.10.13 (main, Nov  9 2024, 19:45:20) [Clang 15.0.0 (clang-1500.3.9.4)]', 'platform': 'macOS-14.5-arm64-arm-64bit', 'event': 'prepare_vocab'}\n",
      "2025-01-02 18:39:25,140 INFO: Word2Vec lifecycle event {'msg': 'effective_min_count=1 leaves 11428 word corpus (100.00% of original 11428, drops 0)', 'datetime': '2025-01-02T18:39:25.139988', 'gensim': '4.3.3', 'python': '3.10.13 (main, Nov  9 2024, 19:45:20) [Clang 15.0.0 (clang-1500.3.9.4)]', 'platform': 'macOS-14.5-arm64-arm-64bit', 'event': 'prepare_vocab'}\n",
      "2025-01-02 18:39:25,148 INFO: deleting the raw counts dictionary of 1990 items\n",
      "2025-01-02 18:39:25,148 INFO: sample=0.001 downsamples 73 most-common words\n",
      "2025-01-02 18:39:25,149 INFO: Word2Vec lifecycle event {'msg': 'downsampling leaves estimated 8480.21162831513 word corpus (74.2%% of prior 11428)', 'datetime': '2025-01-02T18:39:25.149167', 'gensim': '4.3.3', 'python': '3.10.13 (main, Nov  9 2024, 19:45:20) [Clang 15.0.0 (clang-1500.3.9.4)]', 'platform': 'macOS-14.5-arm64-arm-64bit', 'event': 'prepare_vocab'}\n",
      "2025-01-02 18:39:25,160 INFO: estimated required memory for 1990 words and 100 dimensions: 2587000 bytes\n",
      "2025-01-02 18:39:25,161 INFO: resetting layer weights\n",
      "2025-01-02 18:39:25,163 INFO: Word2Vec lifecycle event {'update': False, 'trim_rule': 'None', 'datetime': '2025-01-02T18:39:25.163537', 'gensim': '4.3.3', 'python': '3.10.13 (main, Nov  9 2024, 19:45:20) [Clang 15.0.0 (clang-1500.3.9.4)]', 'platform': 'macOS-14.5-arm64-arm-64bit', 'event': 'build_vocab'}\n",
      "2025-01-02 18:39:25,163 INFO: Word2Vec lifecycle event {'msg': 'training model with 4 workers on 1990 vocabulary and 100 features, using sg=0 hs=0 sample=0.001 negative=5 window=5 shrink_windows=True', 'datetime': '2025-01-02T18:39:25.163929', 'gensim': '4.3.3', 'python': '3.10.13 (main, Nov  9 2024, 19:45:20) [Clang 15.0.0 (clang-1500.3.9.4)]', 'platform': 'macOS-14.5-arm64-arm-64bit', 'event': 'train'}\n",
      "2025-01-02 18:39:25,178 INFO: EPOCH 0: training on 11428 raw words (8471 effective words) took 0.0s, 757492 effective words/s\n",
      "2025-01-02 18:39:25,189 INFO: EPOCH 1: training on 11428 raw words (8521 effective words) took 0.0s, 974803 effective words/s\n",
      "2025-01-02 18:39:25,200 INFO: EPOCH 2: training on 11428 raw words (8491 effective words) took 0.0s, 983504 effective words/s\n",
      "2025-01-02 18:39:25,210 INFO: EPOCH 3: training on 11428 raw words (8482 effective words) took 0.0s, 1058651 effective words/s\n",
      "2025-01-02 18:39:25,221 INFO: EPOCH 4: training on 11428 raw words (8399 effective words) took 0.0s, 1158523 effective words/s\n",
      "2025-01-02 18:39:25,222 INFO: Word2Vec lifecycle event {'msg': 'training on 57140 raw words (42364 effective words) took 0.1s, 732317 effective words/s', 'datetime': '2025-01-02T18:39:25.222077', 'gensim': '4.3.3', 'python': '3.10.13 (main, Nov  9 2024, 19:45:20) [Clang 15.0.0 (clang-1500.3.9.4)]', 'platform': 'macOS-14.5-arm64-arm-64bit', 'event': 'train'}\n",
      "2025-01-02 18:39:25,222 INFO: Word2Vec lifecycle event {'params': 'Word2Vec<vocab=1990, vector_size=100, alpha=0.025>', 'datetime': '2025-01-02T18:39:25.222506', 'gensim': '4.3.3', 'python': '3.10.13 (main, Nov  9 2024, 19:45:20) [Clang 15.0.0 (clang-1500.3.9.4)]', 'platform': 'macOS-14.5-arm64-arm-64bit', 'event': 'created'}\n",
      "2025-01-02 18:39:25,223 INFO: collecting all words and their counts\n",
      "2025-01-02 18:39:25,223 INFO: PROGRESS: at sentence #0, processed 0 words, keeping 0 word types\n",
      "2025-01-02 18:39:25,225 INFO: collected 1990 word types from a corpus of 11428 raw words and 3117 sentences\n",
      "2025-01-02 18:39:25,225 INFO: Creating a fresh vocabulary\n",
      "2025-01-02 18:39:25,229 INFO: Word2Vec lifecycle event {'msg': 'effective_min_count=1 retains 1990 unique words (100.00% of original 1990, drops 0)', 'datetime': '2025-01-02T18:39:25.229134', 'gensim': '4.3.3', 'python': '3.10.13 (main, Nov  9 2024, 19:45:20) [Clang 15.0.0 (clang-1500.3.9.4)]', 'platform': 'macOS-14.5-arm64-arm-64bit', 'event': 'prepare_vocab'}\n",
      "2025-01-02 18:39:25,229 INFO: Word2Vec lifecycle event {'msg': 'effective_min_count=1 leaves 11428 word corpus (100.00% of original 11428, drops 0)', 'datetime': '2025-01-02T18:39:25.229719', 'gensim': '4.3.3', 'python': '3.10.13 (main, Nov  9 2024, 19:45:20) [Clang 15.0.0 (clang-1500.3.9.4)]', 'platform': 'macOS-14.5-arm64-arm-64bit', 'event': 'prepare_vocab'}\n",
      "2025-01-02 18:39:25,234 INFO: deleting the raw counts dictionary of 1990 items\n",
      "2025-01-02 18:39:25,234 INFO: sample=0.001 downsamples 73 most-common words\n",
      "2025-01-02 18:39:25,235 INFO: Word2Vec lifecycle event {'msg': 'downsampling leaves estimated 8480.21162831513 word corpus (74.2%% of prior 11428)', 'datetime': '2025-01-02T18:39:25.235027', 'gensim': '4.3.3', 'python': '3.10.13 (main, Nov  9 2024, 19:45:20) [Clang 15.0.0 (clang-1500.3.9.4)]', 'platform': 'macOS-14.5-arm64-arm-64bit', 'event': 'prepare_vocab'}\n",
      "2025-01-02 18:39:25,242 INFO: estimated required memory for 1990 words and 100 dimensions: 2587000 bytes\n",
      "2025-01-02 18:39:25,243 INFO: resetting layer weights\n",
      "2025-01-02 18:39:25,245 INFO: Word2Vec lifecycle event {'update': False, 'trim_rule': 'None', 'datetime': '2025-01-02T18:39:25.245863', 'gensim': '4.3.3', 'python': '3.10.13 (main, Nov  9 2024, 19:45:20) [Clang 15.0.0 (clang-1500.3.9.4)]', 'platform': 'macOS-14.5-arm64-arm-64bit', 'event': 'build_vocab'}\n",
      "2025-01-02 18:39:25,246 INFO: Word2Vec lifecycle event {'msg': 'training model with 4 workers on 1990 vocabulary and 100 features, using sg=0 hs=0 sample=0.001 negative=5 window=5 shrink_windows=True', 'datetime': '2025-01-02T18:39:25.246176', 'gensim': '4.3.3', 'python': '3.10.13 (main, Nov  9 2024, 19:45:20) [Clang 15.0.0 (clang-1500.3.9.4)]', 'platform': 'macOS-14.5-arm64-arm-64bit', 'event': 'train'}\n",
      "2025-01-02 18:39:25,257 INFO: EPOCH 0: training on 11428 raw words (8471 effective words) took 0.0s, 1106447 effective words/s\n",
      "2025-01-02 18:39:25,270 INFO: EPOCH 1: training on 11428 raw words (8521 effective words) took 0.0s, 928024 effective words/s\n",
      "2025-01-02 18:39:25,281 INFO: EPOCH 2: training on 11428 raw words (8491 effective words) took 0.0s, 1219424 effective words/s\n",
      "2025-01-02 18:39:25,292 INFO: EPOCH 3: training on 11428 raw words (8482 effective words) took 0.0s, 1054582 effective words/s\n",
      "2025-01-02 18:39:25,303 INFO: EPOCH 4: training on 11428 raw words (8399 effective words) took 0.0s, 1186970 effective words/s\n",
      "2025-01-02 18:39:25,303 INFO: Word2Vec lifecycle event {'msg': 'training on 57140 raw words (42364 effective words) took 0.1s, 738229 effective words/s', 'datetime': '2025-01-02T18:39:25.303784', 'gensim': '4.3.3', 'python': '3.10.13 (main, Nov  9 2024, 19:45:20) [Clang 15.0.0 (clang-1500.3.9.4)]', 'platform': 'macOS-14.5-arm64-arm-64bit', 'event': 'train'}\n",
      "2025-01-02 18:39:25,304 INFO: Word2Vec lifecycle event {'params': 'Word2Vec<vocab=1990, vector_size=100, alpha=0.025>', 'datetime': '2025-01-02T18:39:25.304013', 'gensim': '4.3.3', 'python': '3.10.13 (main, Nov  9 2024, 19:45:20) [Clang 15.0.0 (clang-1500.3.9.4)]', 'platform': 'macOS-14.5-arm64-arm-64bit', 'event': 'created'}\n"
     ]
    }
   ],
   "source": [
    "# Train custom Word2Vec model for genres and artists\n",
    "corpus = []\n",
    "for spotify_id in rows[\"spotify_id\"]:\n",
    "    print(f\"Processing user {spotify_id}\")\n",
    "    \n",
    "    try:\n",
    "        # Fetch user playlists\n",
    "        playlists = sp.user_playlists(spotify_id)[\"items\"]\n",
    "        \n",
    "        # Process each playlist\n",
    "        for playlist in playlists:\n",
    "            tracks = sp.playlist_tracks(playlist[\"id\"])[\"items\"]\n",
    "            \n",
    "            # Process each track in the playlist\n",
    "            for item in tracks:\n",
    "                track = item[\"track\"]\n",
    "                if not track:\n",
    "                    continue\n",
    "                \n",
    "                # Fetch artist details\n",
    "                artist_id = track[\"artists\"][0][\"id\"]\n",
    "                artist = sp.artist(artist_id)\n",
    "                \n",
    "                # Fetch genres and artist name\n",
    "                track_genres = artist.get(\"genres\", [])\n",
    "                artist_name = artist.get(\"name\", \"Unknown\")\n",
    "                \n",
    "                # Add genres and artist name to the corpus\n",
    "                corpus.append(track_genres + [artist_name])\n",
    "    \n",
    "    except spotipy.exceptions.SpotifyException as e:\n",
    "        # Handle 404 errors or any Spotify API error\n",
    "        if e.http_status == 404:\n",
    "            print(f\"User {spotify_id} not found or no playlists available.\")\n",
    "        else:\n",
    "            print(f\"Error processing user {spotify_id}: {e}\")\n",
    "    \n",
    "    except Exception as e:\n",
    "        # General error handling\n",
    "        print(f\"An unexpected error occurred with user {spotify_id}: {e}\")\n",
    "\n",
    "print(f\"Training Word2Vec model on {len(corpus)} playlists\")\n",
    "\n",
    "# Train Word2Vec model\n",
    "genre_embedding_model = Word2Vec(sentences=corpus, vector_size=100, window=5, min_count=1, workers=4)\n",
    "artist_embedding_model = Word2Vec(sentences=corpus, vector_size=100, window=5, min_count=1, workers=4)"
   ]
  },
  {
   "cell_type": "code",
   "execution_count": 13,
   "metadata": {},
   "outputs": [
    {
     "data": {
      "application/vnd.jupyter.widget-view+json": {
       "model_id": "aa017c9548444855b91f85e75ba77e32",
       "version_major": 2,
       "version_minor": 0
      },
      "text/plain": [
       "  0%|          | 0/6 [00:00<?, ?it/s]"
      ]
     },
     "metadata": {},
     "output_type": "display_data"
    },
    {
     "data": {
      "application/vnd.jupyter.widget-view+json": {
       "model_id": "7d6b8f4b17474019af0a057332259d1f",
       "version_major": 2,
       "version_minor": 0
      },
      "text/plain": [
       "Uploading: 0.000%|          | 0/1673998 elapsed<00:00 remaining<?"
      ]
     },
     "metadata": {},
     "output_type": "display_data"
    },
    {
     "name": "stdout",
     "output_type": "stream",
     "text": [
      "Model created, explore it at https://c.app.hopsworks.ai:443/p/1208515/models/genre_embedding_model/1\n"
     ]
    },
    {
     "data": {
      "application/vnd.jupyter.widget-view+json": {
       "model_id": "62d74f36ec5f4f5195c420907ba08e3e",
       "version_major": 2,
       "version_minor": 0
      },
      "text/plain": [
       "  0%|          | 0/6 [00:00<?, ?it/s]"
      ]
     },
     "metadata": {},
     "output_type": "display_data"
    },
    {
     "data": {
      "application/vnd.jupyter.widget-view+json": {
       "model_id": "e0ed9d848a034685be0c27a84271a4f0",
       "version_major": 2,
       "version_minor": 0
      },
      "text/plain": [
       "Uploading: 0.000%|          | 0/1673998 elapsed<00:00 remaining<?"
      ]
     },
     "metadata": {},
     "output_type": "display_data"
    },
    {
     "name": "stdout",
     "output_type": "stream",
     "text": [
      "Model created, explore it at https://c.app.hopsworks.ai:443/p/1208515/models/artist_embedding_model/1\n",
      "Word2Vec models saved to Hopsworks successfully!\n"
     ]
    }
   ],
   "source": [
    "mr = project.get_model_registry()\n",
    "\n",
    "# Save genre embedding model\n",
    "with open(\"genre_embedding_model.pkl\", \"wb\") as f:\n",
    "    pickle.dump(genre_embedding_model, f)\n",
    "\n",
    "# Save artist embedding model\n",
    "with open(\"artist_embedding_model.pkl\", \"wb\") as f:\n",
    "    pickle.dump(artist_embedding_model, f)\n",
    "\n",
    "# Register genre model in Hopsworks\n",
    "genre_model_registry = mr.python.create_model(\n",
    "    name=\"genre_embedding_model\",\n",
    "    metrics={\"vector_size\": genre_embedding_model.vector_size},  # Only numeric metrics\n",
    "    description=\"Trained Word2Vec model for genre embeddings\",\n",
    ")\n",
    "\n",
    "# Register artist model in Hopsworks\n",
    "artist_model_registry = mr.python.create_model(\n",
    "    name=\"artist_embedding_model\",\n",
    "    metrics={\"vector_size\": artist_embedding_model.vector_size},  # Only numeric metrics\n",
    "    description=\"Trained Word2Vec model for artist embeddings\",\n",
    ")\n",
    "\n",
    "# Upload models to Hopsworks\n",
    "genre_model_registry.save(\"genre_embedding_model.pkl\")\n",
    "artist_model_registry.save(\"artist_embedding_model.pkl\")\n",
    "\n",
    "print(\"Word2Vec models saved to Hopsworks successfully!\")"
   ]
  },
  {
   "cell_type": "code",
   "execution_count": 17,
   "metadata": {},
   "outputs": [
    {
     "name": "stdout",
     "output_type": "stream",
     "text": [
      "2025-01-02 20:54:26,838 WARNING: DeprecationWarning: You should use `playlist_items(playlist_id, ...,additional_types=('track',))` instead\n",
      "\n"
     ]
    },
    {
     "ename": "KeyboardInterrupt",
     "evalue": "",
     "output_type": "error",
     "traceback": [
      "\u001b[0;31m---------------------------------------------------------------------------\u001b[0m",
      "\u001b[0;31mKeyboardInterrupt\u001b[0m                         Traceback (most recent call last)",
      "Cell \u001b[0;32mIn[17], line 12\u001b[0m\n\u001b[1;32m      9\u001b[0m     \u001b[38;5;28;01mcontinue\u001b[39;00m\n\u001b[1;32m     11\u001b[0m \u001b[38;5;66;03m# Generate individual embeddings\u001b[39;00m\n\u001b[0;32m---> 12\u001b[0m genre_embedding, artist_embedding, playlist_embedding, release_year_embedding \u001b[38;5;241m=\u001b[39m \u001b[43mgenerate_user_embedding\u001b[49m\u001b[43m(\u001b[49m\n\u001b[1;32m     13\u001b[0m \u001b[43m    \u001b[49m\u001b[43mplaylists\u001b[49m\u001b[43m,\u001b[49m\u001b[43m \u001b[49m\u001b[43mgenre_embedding_model\u001b[49m\u001b[43m,\u001b[49m\u001b[43m \u001b[49m\u001b[43martist_embedding_model\u001b[49m\u001b[43m,\u001b[49m\u001b[43m \u001b[49m\u001b[43mtop_artist_count\u001b[49m\u001b[43m,\u001b[49m\u001b[43m \u001b[49m\u001b[43mplaylists_count\u001b[49m\n\u001b[1;32m     14\u001b[0m \u001b[43m\u001b[49m\u001b[43m)\u001b[49m\n\u001b[1;32m     16\u001b[0m \u001b[38;5;66;03m# Append embeddings to list as a dictionary\u001b[39;00m\n\u001b[1;32m     17\u001b[0m embeddings\u001b[38;5;241m.\u001b[39mappend({\n\u001b[1;32m     18\u001b[0m     \u001b[38;5;124m\"\u001b[39m\u001b[38;5;124muser_id\u001b[39m\u001b[38;5;124m\"\u001b[39m: spotify_id,\n\u001b[1;32m     19\u001b[0m     \u001b[38;5;124m\"\u001b[39m\u001b[38;5;124mgenre_embedding\u001b[39m\u001b[38;5;124m\"\u001b[39m: genre_embedding\u001b[38;5;241m.\u001b[39mtolist(),\n\u001b[0;32m   (...)\u001b[0m\n\u001b[1;32m     22\u001b[0m     \u001b[38;5;124m\"\u001b[39m\u001b[38;5;124mrelease_year_embedding\u001b[39m\u001b[38;5;124m\"\u001b[39m: release_year_embedding\u001b[38;5;241m.\u001b[39mtolist()\n\u001b[1;32m     23\u001b[0m })\n",
      "Cell \u001b[0;32mIn[16], line 28\u001b[0m, in \u001b[0;36mgenerate_user_embedding\u001b[0;34m(user_playlists, genre_embedding_model, artist_embedding_model, top_artist_count, playlists_count)\u001b[0m\n\u001b[1;32m     26\u001b[0m \u001b[38;5;66;03m# Extract artist information\u001b[39;00m\n\u001b[1;32m     27\u001b[0m artist_id \u001b[38;5;241m=\u001b[39m track[\u001b[38;5;124m\"\u001b[39m\u001b[38;5;124martists\u001b[39m\u001b[38;5;124m\"\u001b[39m][\u001b[38;5;241m0\u001b[39m][\u001b[38;5;124m\"\u001b[39m\u001b[38;5;124mid\u001b[39m\u001b[38;5;124m\"\u001b[39m]\n\u001b[0;32m---> 28\u001b[0m artist \u001b[38;5;241m=\u001b[39m \u001b[43msp\u001b[49m\u001b[38;5;241;43m.\u001b[39;49m\u001b[43martist\u001b[49m\u001b[43m(\u001b[49m\u001b[43martist_id\u001b[49m\u001b[43m)\u001b[49m\n\u001b[1;32m     29\u001b[0m track_genres \u001b[38;5;241m=\u001b[39m artist\u001b[38;5;241m.\u001b[39mget(\u001b[38;5;124m\"\u001b[39m\u001b[38;5;124mgenres\u001b[39m\u001b[38;5;124m\"\u001b[39m, [])\n\u001b[1;32m     30\u001b[0m artist_name \u001b[38;5;241m=\u001b[39m artist\u001b[38;5;241m.\u001b[39mget(\u001b[38;5;124m\"\u001b[39m\u001b[38;5;124mname\u001b[39m\u001b[38;5;124m\"\u001b[39m, \u001b[38;5;124m\"\u001b[39m\u001b[38;5;124mUnknown\u001b[39m\u001b[38;5;124m\"\u001b[39m)\n",
      "File \u001b[0;32m~/.pyenv/versions/3.10.13/lib/python3.10/site-packages/spotipy/client.py:396\u001b[0m, in \u001b[0;36mSpotify.artist\u001b[0;34m(self, artist_id)\u001b[0m\n\u001b[1;32m    389\u001b[0m \u001b[38;5;250m\u001b[39m\u001b[38;5;124;03m\"\"\" returns a single artist given the artist's ID, URI or URL\u001b[39;00m\n\u001b[1;32m    390\u001b[0m \n\u001b[1;32m    391\u001b[0m \u001b[38;5;124;03m    Parameters:\u001b[39;00m\n\u001b[1;32m    392\u001b[0m \u001b[38;5;124;03m        - artist_id - an artist ID, URI or URL\u001b[39;00m\n\u001b[1;32m    393\u001b[0m \u001b[38;5;124;03m\"\"\"\u001b[39;00m\n\u001b[1;32m    395\u001b[0m trid \u001b[38;5;241m=\u001b[39m \u001b[38;5;28mself\u001b[39m\u001b[38;5;241m.\u001b[39m_get_id(\u001b[38;5;124m\"\u001b[39m\u001b[38;5;124martist\u001b[39m\u001b[38;5;124m\"\u001b[39m, artist_id)\n\u001b[0;32m--> 396\u001b[0m \u001b[38;5;28;01mreturn\u001b[39;00m \u001b[38;5;28;43mself\u001b[39;49m\u001b[38;5;241;43m.\u001b[39;49m\u001b[43m_get\u001b[49m\u001b[43m(\u001b[49m\u001b[38;5;124;43m\"\u001b[39;49m\u001b[38;5;124;43martists/\u001b[39;49m\u001b[38;5;124;43m\"\u001b[39;49m\u001b[43m \u001b[49m\u001b[38;5;241;43m+\u001b[39;49m\u001b[43m \u001b[49m\u001b[43mtrid\u001b[49m\u001b[43m)\u001b[49m\n",
      "File \u001b[0;32m~/.pyenv/versions/3.10.13/lib/python3.10/site-packages/spotipy/client.py:327\u001b[0m, in \u001b[0;36mSpotify._get\u001b[0;34m(self, url, args, payload, **kwargs)\u001b[0m\n\u001b[1;32m    324\u001b[0m \u001b[38;5;28;01mif\u001b[39;00m args:\n\u001b[1;32m    325\u001b[0m     kwargs\u001b[38;5;241m.\u001b[39mupdate(args)\n\u001b[0;32m--> 327\u001b[0m \u001b[38;5;28;01mreturn\u001b[39;00m \u001b[38;5;28;43mself\u001b[39;49m\u001b[38;5;241;43m.\u001b[39;49m\u001b[43m_internal_call\u001b[49m\u001b[43m(\u001b[49m\u001b[38;5;124;43m\"\u001b[39;49m\u001b[38;5;124;43mGET\u001b[39;49m\u001b[38;5;124;43m\"\u001b[39;49m\u001b[43m,\u001b[49m\u001b[43m \u001b[49m\u001b[43murl\u001b[49m\u001b[43m,\u001b[49m\u001b[43m \u001b[49m\u001b[43mpayload\u001b[49m\u001b[43m,\u001b[49m\u001b[43m \u001b[49m\u001b[43mkwargs\u001b[49m\u001b[43m)\u001b[49m\n",
      "File \u001b[0;32m~/.pyenv/versions/3.10.13/lib/python3.10/site-packages/spotipy/client.py:270\u001b[0m, in \u001b[0;36mSpotify._internal_call\u001b[0;34m(self, method, url, payload, params)\u001b[0m\n\u001b[1;32m    266\u001b[0m logger\u001b[38;5;241m.\u001b[39mdebug(\u001b[38;5;124m'\u001b[39m\u001b[38;5;124mSending \u001b[39m\u001b[38;5;132;01m%s\u001b[39;00m\u001b[38;5;124m to \u001b[39m\u001b[38;5;132;01m%s\u001b[39;00m\u001b[38;5;124m with Params: \u001b[39m\u001b[38;5;132;01m%s\u001b[39;00m\u001b[38;5;124m Headers: \u001b[39m\u001b[38;5;132;01m%s\u001b[39;00m\u001b[38;5;124m and Body: \u001b[39m\u001b[38;5;132;01m%r\u001b[39;00m\u001b[38;5;124m \u001b[39m\u001b[38;5;124m'\u001b[39m,\n\u001b[1;32m    267\u001b[0m              method, url, args\u001b[38;5;241m.\u001b[39mget(\u001b[38;5;124m\"\u001b[39m\u001b[38;5;124mparams\u001b[39m\u001b[38;5;124m\"\u001b[39m), headers, args\u001b[38;5;241m.\u001b[39mget(\u001b[38;5;124m'\u001b[39m\u001b[38;5;124mdata\u001b[39m\u001b[38;5;124m'\u001b[39m))\n\u001b[1;32m    269\u001b[0m \u001b[38;5;28;01mtry\u001b[39;00m:\n\u001b[0;32m--> 270\u001b[0m     response \u001b[38;5;241m=\u001b[39m \u001b[38;5;28;43mself\u001b[39;49m\u001b[38;5;241;43m.\u001b[39;49m\u001b[43m_session\u001b[49m\u001b[38;5;241;43m.\u001b[39;49m\u001b[43mrequest\u001b[49m\u001b[43m(\u001b[49m\n\u001b[1;32m    271\u001b[0m \u001b[43m        \u001b[49m\u001b[43mmethod\u001b[49m\u001b[43m,\u001b[49m\u001b[43m \u001b[49m\u001b[43murl\u001b[49m\u001b[43m,\u001b[49m\u001b[43m \u001b[49m\u001b[43mheaders\u001b[49m\u001b[38;5;241;43m=\u001b[39;49m\u001b[43mheaders\u001b[49m\u001b[43m,\u001b[49m\u001b[43m \u001b[49m\u001b[43mproxies\u001b[49m\u001b[38;5;241;43m=\u001b[39;49m\u001b[38;5;28;43mself\u001b[39;49m\u001b[38;5;241;43m.\u001b[39;49m\u001b[43mproxies\u001b[49m\u001b[43m,\u001b[49m\n\u001b[1;32m    272\u001b[0m \u001b[43m        \u001b[49m\u001b[43mtimeout\u001b[49m\u001b[38;5;241;43m=\u001b[39;49m\u001b[38;5;28;43mself\u001b[39;49m\u001b[38;5;241;43m.\u001b[39;49m\u001b[43mrequests_timeout\u001b[49m\u001b[43m,\u001b[49m\u001b[43m \u001b[49m\u001b[38;5;241;43m*\u001b[39;49m\u001b[38;5;241;43m*\u001b[39;49m\u001b[43margs\u001b[49m\n\u001b[1;32m    273\u001b[0m \u001b[43m    \u001b[49m\u001b[43m)\u001b[49m\n\u001b[1;32m    275\u001b[0m     response\u001b[38;5;241m.\u001b[39mraise_for_status()\n\u001b[1;32m    276\u001b[0m     results \u001b[38;5;241m=\u001b[39m response\u001b[38;5;241m.\u001b[39mjson()\n",
      "File \u001b[0;32m~/.pyenv/versions/3.10.13/lib/python3.10/site-packages/requests/sessions.py:589\u001b[0m, in \u001b[0;36mSession.request\u001b[0;34m(self, method, url, params, data, headers, cookies, files, auth, timeout, allow_redirects, proxies, hooks, stream, verify, cert, json)\u001b[0m\n\u001b[1;32m    584\u001b[0m send_kwargs \u001b[38;5;241m=\u001b[39m {\n\u001b[1;32m    585\u001b[0m     \u001b[38;5;124m\"\u001b[39m\u001b[38;5;124mtimeout\u001b[39m\u001b[38;5;124m\"\u001b[39m: timeout,\n\u001b[1;32m    586\u001b[0m     \u001b[38;5;124m\"\u001b[39m\u001b[38;5;124mallow_redirects\u001b[39m\u001b[38;5;124m\"\u001b[39m: allow_redirects,\n\u001b[1;32m    587\u001b[0m }\n\u001b[1;32m    588\u001b[0m send_kwargs\u001b[38;5;241m.\u001b[39mupdate(settings)\n\u001b[0;32m--> 589\u001b[0m resp \u001b[38;5;241m=\u001b[39m \u001b[38;5;28;43mself\u001b[39;49m\u001b[38;5;241;43m.\u001b[39;49m\u001b[43msend\u001b[49m\u001b[43m(\u001b[49m\u001b[43mprep\u001b[49m\u001b[43m,\u001b[49m\u001b[43m \u001b[49m\u001b[38;5;241;43m*\u001b[39;49m\u001b[38;5;241;43m*\u001b[39;49m\u001b[43msend_kwargs\u001b[49m\u001b[43m)\u001b[49m\n\u001b[1;32m    591\u001b[0m \u001b[38;5;28;01mreturn\u001b[39;00m resp\n",
      "File \u001b[0;32m~/.pyenv/versions/3.10.13/lib/python3.10/site-packages/requests/sessions.py:703\u001b[0m, in \u001b[0;36mSession.send\u001b[0;34m(self, request, **kwargs)\u001b[0m\n\u001b[1;32m    700\u001b[0m start \u001b[38;5;241m=\u001b[39m preferred_clock()\n\u001b[1;32m    702\u001b[0m \u001b[38;5;66;03m# Send the request\u001b[39;00m\n\u001b[0;32m--> 703\u001b[0m r \u001b[38;5;241m=\u001b[39m \u001b[43madapter\u001b[49m\u001b[38;5;241;43m.\u001b[39;49m\u001b[43msend\u001b[49m\u001b[43m(\u001b[49m\u001b[43mrequest\u001b[49m\u001b[43m,\u001b[49m\u001b[43m \u001b[49m\u001b[38;5;241;43m*\u001b[39;49m\u001b[38;5;241;43m*\u001b[39;49m\u001b[43mkwargs\u001b[49m\u001b[43m)\u001b[49m\n\u001b[1;32m    705\u001b[0m \u001b[38;5;66;03m# Total elapsed time of the request (approximately)\u001b[39;00m\n\u001b[1;32m    706\u001b[0m elapsed \u001b[38;5;241m=\u001b[39m preferred_clock() \u001b[38;5;241m-\u001b[39m start\n",
      "File \u001b[0;32m~/.pyenv/versions/3.10.13/lib/python3.10/site-packages/requests/adapters.py:667\u001b[0m, in \u001b[0;36mHTTPAdapter.send\u001b[0;34m(self, request, stream, timeout, verify, cert, proxies)\u001b[0m\n\u001b[1;32m    664\u001b[0m     timeout \u001b[38;5;241m=\u001b[39m TimeoutSauce(connect\u001b[38;5;241m=\u001b[39mtimeout, read\u001b[38;5;241m=\u001b[39mtimeout)\n\u001b[1;32m    666\u001b[0m \u001b[38;5;28;01mtry\u001b[39;00m:\n\u001b[0;32m--> 667\u001b[0m     resp \u001b[38;5;241m=\u001b[39m \u001b[43mconn\u001b[49m\u001b[38;5;241;43m.\u001b[39;49m\u001b[43murlopen\u001b[49m\u001b[43m(\u001b[49m\n\u001b[1;32m    668\u001b[0m \u001b[43m        \u001b[49m\u001b[43mmethod\u001b[49m\u001b[38;5;241;43m=\u001b[39;49m\u001b[43mrequest\u001b[49m\u001b[38;5;241;43m.\u001b[39;49m\u001b[43mmethod\u001b[49m\u001b[43m,\u001b[49m\n\u001b[1;32m    669\u001b[0m \u001b[43m        \u001b[49m\u001b[43murl\u001b[49m\u001b[38;5;241;43m=\u001b[39;49m\u001b[43murl\u001b[49m\u001b[43m,\u001b[49m\n\u001b[1;32m    670\u001b[0m \u001b[43m        \u001b[49m\u001b[43mbody\u001b[49m\u001b[38;5;241;43m=\u001b[39;49m\u001b[43mrequest\u001b[49m\u001b[38;5;241;43m.\u001b[39;49m\u001b[43mbody\u001b[49m\u001b[43m,\u001b[49m\n\u001b[1;32m    671\u001b[0m \u001b[43m        \u001b[49m\u001b[43mheaders\u001b[49m\u001b[38;5;241;43m=\u001b[39;49m\u001b[43mrequest\u001b[49m\u001b[38;5;241;43m.\u001b[39;49m\u001b[43mheaders\u001b[49m\u001b[43m,\u001b[49m\n\u001b[1;32m    672\u001b[0m \u001b[43m        \u001b[49m\u001b[43mredirect\u001b[49m\u001b[38;5;241;43m=\u001b[39;49m\u001b[38;5;28;43;01mFalse\u001b[39;49;00m\u001b[43m,\u001b[49m\n\u001b[1;32m    673\u001b[0m \u001b[43m        \u001b[49m\u001b[43massert_same_host\u001b[49m\u001b[38;5;241;43m=\u001b[39;49m\u001b[38;5;28;43;01mFalse\u001b[39;49;00m\u001b[43m,\u001b[49m\n\u001b[1;32m    674\u001b[0m \u001b[43m        \u001b[49m\u001b[43mpreload_content\u001b[49m\u001b[38;5;241;43m=\u001b[39;49m\u001b[38;5;28;43;01mFalse\u001b[39;49;00m\u001b[43m,\u001b[49m\n\u001b[1;32m    675\u001b[0m \u001b[43m        \u001b[49m\u001b[43mdecode_content\u001b[49m\u001b[38;5;241;43m=\u001b[39;49m\u001b[38;5;28;43;01mFalse\u001b[39;49;00m\u001b[43m,\u001b[49m\n\u001b[1;32m    676\u001b[0m \u001b[43m        \u001b[49m\u001b[43mretries\u001b[49m\u001b[38;5;241;43m=\u001b[39;49m\u001b[38;5;28;43mself\u001b[39;49m\u001b[38;5;241;43m.\u001b[39;49m\u001b[43mmax_retries\u001b[49m\u001b[43m,\u001b[49m\n\u001b[1;32m    677\u001b[0m \u001b[43m        \u001b[49m\u001b[43mtimeout\u001b[49m\u001b[38;5;241;43m=\u001b[39;49m\u001b[43mtimeout\u001b[49m\u001b[43m,\u001b[49m\n\u001b[1;32m    678\u001b[0m \u001b[43m        \u001b[49m\u001b[43mchunked\u001b[49m\u001b[38;5;241;43m=\u001b[39;49m\u001b[43mchunked\u001b[49m\u001b[43m,\u001b[49m\n\u001b[1;32m    679\u001b[0m \u001b[43m    \u001b[49m\u001b[43m)\u001b[49m\n\u001b[1;32m    681\u001b[0m \u001b[38;5;28;01mexcept\u001b[39;00m (ProtocolError, \u001b[38;5;167;01mOSError\u001b[39;00m) \u001b[38;5;28;01mas\u001b[39;00m err:\n\u001b[1;32m    682\u001b[0m     \u001b[38;5;28;01mraise\u001b[39;00m \u001b[38;5;167;01mConnectionError\u001b[39;00m(err, request\u001b[38;5;241m=\u001b[39mrequest)\n",
      "File \u001b[0;32m~/.pyenv/versions/3.10.13/lib/python3.10/site-packages/urllib3/connectionpool.py:942\u001b[0m, in \u001b[0;36mHTTPConnectionPool.urlopen\u001b[0;34m(self, method, url, body, headers, retries, redirect, assert_same_host, timeout, pool_timeout, release_conn, chunked, body_pos, preload_content, decode_content, **response_kw)\u001b[0m\n\u001b[1;32m    939\u001b[0m     \u001b[38;5;28;01mreturn\u001b[39;00m response\n\u001b[1;32m    941\u001b[0m response\u001b[38;5;241m.\u001b[39mdrain_conn()\n\u001b[0;32m--> 942\u001b[0m \u001b[43mretries\u001b[49m\u001b[38;5;241;43m.\u001b[39;49m\u001b[43msleep\u001b[49m\u001b[43m(\u001b[49m\u001b[43mresponse\u001b[49m\u001b[43m)\u001b[49m\n\u001b[1;32m    943\u001b[0m log\u001b[38;5;241m.\u001b[39mdebug(\u001b[38;5;124m\"\u001b[39m\u001b[38;5;124mRetry: \u001b[39m\u001b[38;5;132;01m%s\u001b[39;00m\u001b[38;5;124m\"\u001b[39m, url)\n\u001b[1;32m    944\u001b[0m \u001b[38;5;28;01mreturn\u001b[39;00m \u001b[38;5;28mself\u001b[39m\u001b[38;5;241m.\u001b[39murlopen(\n\u001b[1;32m    945\u001b[0m     method,\n\u001b[1;32m    946\u001b[0m     url,\n\u001b[0;32m   (...)\u001b[0m\n\u001b[1;32m    959\u001b[0m     \u001b[38;5;241m*\u001b[39m\u001b[38;5;241m*\u001b[39mresponse_kw,\n\u001b[1;32m    960\u001b[0m )\n",
      "File \u001b[0;32m~/.pyenv/versions/3.10.13/lib/python3.10/site-packages/urllib3/util/retry.py:359\u001b[0m, in \u001b[0;36mRetry.sleep\u001b[0;34m(self, response)\u001b[0m\n\u001b[1;32m    350\u001b[0m \u001b[38;5;250m\u001b[39m\u001b[38;5;124;03m\"\"\"Sleep between retry attempts.\u001b[39;00m\n\u001b[1;32m    351\u001b[0m \n\u001b[1;32m    352\u001b[0m \u001b[38;5;124;03mThis method will respect a server's ``Retry-After`` response header\u001b[39;00m\n\u001b[0;32m   (...)\u001b[0m\n\u001b[1;32m    355\u001b[0m \u001b[38;5;124;03mthis method will return immediately.\u001b[39;00m\n\u001b[1;32m    356\u001b[0m \u001b[38;5;124;03m\"\"\"\u001b[39;00m\n\u001b[1;32m    358\u001b[0m \u001b[38;5;28;01mif\u001b[39;00m \u001b[38;5;28mself\u001b[39m\u001b[38;5;241m.\u001b[39mrespect_retry_after_header \u001b[38;5;129;01mand\u001b[39;00m response:\n\u001b[0;32m--> 359\u001b[0m     slept \u001b[38;5;241m=\u001b[39m \u001b[38;5;28;43mself\u001b[39;49m\u001b[38;5;241;43m.\u001b[39;49m\u001b[43msleep_for_retry\u001b[49m\u001b[43m(\u001b[49m\u001b[43mresponse\u001b[49m\u001b[43m)\u001b[49m\n\u001b[1;32m    360\u001b[0m     \u001b[38;5;28;01mif\u001b[39;00m slept:\n\u001b[1;32m    361\u001b[0m         \u001b[38;5;28;01mreturn\u001b[39;00m\n",
      "File \u001b[0;32m~/.pyenv/versions/3.10.13/lib/python3.10/site-packages/urllib3/util/retry.py:338\u001b[0m, in \u001b[0;36mRetry.sleep_for_retry\u001b[0;34m(self, response)\u001b[0m\n\u001b[1;32m    336\u001b[0m retry_after \u001b[38;5;241m=\u001b[39m \u001b[38;5;28mself\u001b[39m\u001b[38;5;241m.\u001b[39mget_retry_after(response)\n\u001b[1;32m    337\u001b[0m \u001b[38;5;28;01mif\u001b[39;00m retry_after:\n\u001b[0;32m--> 338\u001b[0m     \u001b[43mtime\u001b[49m\u001b[38;5;241;43m.\u001b[39;49m\u001b[43msleep\u001b[49m\u001b[43m(\u001b[49m\u001b[43mretry_after\u001b[49m\u001b[43m)\u001b[49m\n\u001b[1;32m    339\u001b[0m     \u001b[38;5;28;01mreturn\u001b[39;00m \u001b[38;5;28;01mTrue\u001b[39;00m\n\u001b[1;32m    341\u001b[0m \u001b[38;5;28;01mreturn\u001b[39;00m \u001b[38;5;28;01mFalse\u001b[39;00m\n",
      "\u001b[0;31mKeyboardInterrupt\u001b[0m: "
     ]
    }
   ],
   "source": [
    "# Collect embeddings in a DataFrame\n",
    "embeddings = []\n",
    "for spotify_id in rows[\"spotify_id\"]:\n",
    "    try:\n",
    "        # Fetch user playlists\n",
    "        playlists = sp.user_playlists(spotify_id)[\"items\"]\n",
    "        if not playlists:\n",
    "            print(f\"No playlists found for user {spotify_id}\")\n",
    "            continue\n",
    "\n",
    "        # Generate individual embeddings\n",
    "        genre_embedding, artist_embedding, playlist_embedding, release_year_embedding = generate_user_embedding(\n",
    "            playlists, genre_embedding_model, artist_embedding_model, top_artist_count, playlists_count\n",
    "        )\n",
    "\n",
    "        # Append embeddings to list as a dictionary\n",
    "        embeddings.append({\n",
    "            \"user_id\": spotify_id,\n",
    "            \"genre_embedding\": genre_embedding.tolist(),\n",
    "            \"artist_embedding\": artist_embedding.tolist(),\n",
    "            \"playlist_embedding\": playlist_embedding.tolist(),\n",
    "            \"release_year_embedding\": release_year_embedding.tolist()\n",
    "        })\n",
    "\n",
    "    except Exception as e:\n",
    "        print(f\"Error processing user {spotify_id}: {e}\")\n",
    "\n",
    "# Create a DataFrame from the embeddings\n",
    "print(f\"Embeddings for {len(embeddings)} users:\")\n",
    "embeddings\n"
   ]
  },
  {
   "cell_type": "code",
   "execution_count": 32,
   "metadata": {},
   "outputs": [
    {
     "name": "stdout",
     "output_type": "stream",
     "text": [
      "Embeddings shape: (6, 5)\n"
     ]
    },
    {
     "data": {
      "text/html": [
       "<div>\n",
       "<style scoped>\n",
       "    .dataframe tbody tr th:only-of-type {\n",
       "        vertical-align: middle;\n",
       "    }\n",
       "\n",
       "    .dataframe tbody tr th {\n",
       "        vertical-align: top;\n",
       "    }\n",
       "\n",
       "    .dataframe thead th {\n",
       "        text-align: right;\n",
       "    }\n",
       "</style>\n",
       "<table border=\"1\" class=\"dataframe\">\n",
       "  <thead>\n",
       "    <tr style=\"text-align: right;\">\n",
       "      <th></th>\n",
       "      <th>user_id</th>\n",
       "      <th>genre_embedding</th>\n",
       "      <th>artist_embedding</th>\n",
       "      <th>playlist_embedding</th>\n",
       "      <th>release_year_embedding</th>\n",
       "    </tr>\n",
       "  </thead>\n",
       "  <tbody>\n",
       "    <tr>\n",
       "      <th>0</th>\n",
       "      <td>31h7ml3xiavflj5n7d4av5u5xaie</td>\n",
       "      <td>[-0.0009209662675857544, 0.0001077811539289541...</td>\n",
       "      <td>[0.0018118077423423529, 0.0005614424007944763,...</td>\n",
       "      <td>[-0.0012177809840068221, 0.0001425175287295133...</td>\n",
       "      <td>[2019.8850574712644]</td>\n",
       "    </tr>\n",
       "    <tr>\n",
       "      <th>1</th>\n",
       "      <td>31tgsl3dejcqihle3pv7o6eeng2a</td>\n",
       "      <td>[5.25292671227362e-05, 0.00023966847220435739,...</td>\n",
       "      <td>[-0.0045182956382632256, 0.004658684134483337,...</td>\n",
       "      <td>[8.820458606351167e-05, 0.00040243961848318577...</td>\n",
       "      <td>[2019.9066666666668]</td>\n",
       "    </tr>\n",
       "    <tr>\n",
       "      <th>2</th>\n",
       "      <td>31imc4msmvetbl26gly5n55jbkka</td>\n",
       "      <td>[-0.0036893084179610014, 0.002161552431061864,...</td>\n",
       "      <td>[0.003511666087433696, 0.007666133344173431, 0...</td>\n",
       "      <td>[-0.0036893084179610014, 0.002161552431061864,...</td>\n",
       "      <td>[2018.0]</td>\n",
       "    </tr>\n",
       "    <tr>\n",
       "      <th>3</th>\n",
       "      <td>31frxab22c2ez34gnfggtqqsnope</td>\n",
       "      <td>[-0.0012761030811816454, 0.001490566530264914,...</td>\n",
       "      <td>[-0.0010105168912559748, 0.000450886000180617,...</td>\n",
       "      <td>[-0.0024445701856166124, 0.002855407539755106,...</td>\n",
       "      <td>[2018.175]</td>\n",
       "    </tr>\n",
       "    <tr>\n",
       "      <th>4</th>\n",
       "      <td>31fg5ma4zjh37mcqzto3xt2sxc3a</td>\n",
       "      <td>[0.007611020002514124, 0.00913164857774973, 0....</td>\n",
       "      <td>[0.0019403230398893356, -0.0005995116662234068...</td>\n",
       "      <td>[0.007611020002514124, 0.00913164857774973, 0....</td>\n",
       "      <td>[2019.0]</td>\n",
       "    </tr>\n",
       "  </tbody>\n",
       "</table>\n",
       "</div>"
      ],
      "text/plain": [
       "                        user_id  \\\n",
       "0  31h7ml3xiavflj5n7d4av5u5xaie   \n",
       "1  31tgsl3dejcqihle3pv7o6eeng2a   \n",
       "2  31imc4msmvetbl26gly5n55jbkka   \n",
       "3  31frxab22c2ez34gnfggtqqsnope   \n",
       "4  31fg5ma4zjh37mcqzto3xt2sxc3a   \n",
       "\n",
       "                                     genre_embedding  \\\n",
       "0  [-0.0009209662675857544, 0.0001077811539289541...   \n",
       "1  [5.25292671227362e-05, 0.00023966847220435739,...   \n",
       "2  [-0.0036893084179610014, 0.002161552431061864,...   \n",
       "3  [-0.0012761030811816454, 0.001490566530264914,...   \n",
       "4  [0.007611020002514124, 0.00913164857774973, 0....   \n",
       "\n",
       "                                    artist_embedding  \\\n",
       "0  [0.0018118077423423529, 0.0005614424007944763,...   \n",
       "1  [-0.0045182956382632256, 0.004658684134483337,...   \n",
       "2  [0.003511666087433696, 0.007666133344173431, 0...   \n",
       "3  [-0.0010105168912559748, 0.000450886000180617,...   \n",
       "4  [0.0019403230398893356, -0.0005995116662234068...   \n",
       "\n",
       "                                  playlist_embedding release_year_embedding  \n",
       "0  [-0.0012177809840068221, 0.0001425175287295133...   [2019.8850574712644]  \n",
       "1  [8.820458606351167e-05, 0.00040243961848318577...   [2019.9066666666668]  \n",
       "2  [-0.0036893084179610014, 0.002161552431061864,...               [2018.0]  \n",
       "3  [-0.0024445701856166124, 0.002855407539755106,...             [2018.175]  \n",
       "4  [0.007611020002514124, 0.00913164857774973, 0....               [2019.0]  "
      ]
     },
     "execution_count": 32,
     "metadata": {},
     "output_type": "execute_result"
    }
   ],
   "source": [
    "df_embeddings = pd.DataFrame(embeddings)\n",
    "\n",
    "print(f\"Embeddings shape: {df_embeddings.shape}\")\n",
    "df_embeddings.head()"
   ]
  },
  {
   "cell_type": "code",
   "execution_count": 34,
   "metadata": {},
   "outputs": [],
   "source": [
    "fs = project.get_feature_store()"
   ]
  },
  {
   "cell_type": "code",
   "execution_count": 35,
   "metadata": {},
   "outputs": [
    {
     "name": "stdout",
     "output_type": "stream",
     "text": [
      "Feature Group created successfully, explore it at \n",
      "https://c.app.hopsworks.ai:443/p/1208515/fs/1195121/fg/1393458\n"
     ]
    },
    {
     "name": "stderr",
     "output_type": "stream",
     "text": [
      "Uploading Dataframe: 100.00% |██████████| Rows 6/6 | Elapsed Time: 00:01 | Remaining Time: 00:00\n"
     ]
    },
    {
     "name": "stdout",
     "output_type": "stream",
     "text": [
      "Launching job: spotify_user_embeddings_1_offline_fg_materialization\n",
      "Job started successfully, you can follow the progress at \n",
      "https://c.app.hopsworks.ai:443/p/1208515/jobs/named/spotify_user_embeddings_1_offline_fg_materialization/executions\n"
     ]
    },
    {
     "data": {
      "text/plain": [
       "(Job('spotify_user_embeddings_1_offline_fg_materialization', 'SPARK'), None)"
      ]
     },
     "execution_count": 35,
     "metadata": {},
     "output_type": "execute_result"
    }
   ],
   "source": [
    "feature_store = project.get_feature_store()\n",
    "feature_group = feature_store.get_or_create_feature_group(\n",
    "    name=\"spotify_user_embeddings\",\n",
    "    version=1,\n",
    "    primary_key=[\"user_id\"],\n",
    "    description=\"Spotify user embeddings based on playlists\"\n",
    ")\n",
    "feature_group.insert(df_embeddings)"
   ]
  }
 ],
 "metadata": {
  "kernelspec": {
   "display_name": "Python 3",
   "language": "python",
   "name": "python3"
  },
  "language_info": {
   "codemirror_mode": {
    "name": "ipython",
    "version": 3
   },
   "file_extension": ".py",
   "mimetype": "text/x-python",
   "name": "python",
   "nbconvert_exporter": "python",
   "pygments_lexer": "ipython3",
   "version": "3.10.13"
  }
 },
 "nbformat": 4,
 "nbformat_minor": 4
}
