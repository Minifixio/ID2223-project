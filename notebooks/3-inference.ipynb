{
 "cells": [
  {
   "cell_type": "code",
   "execution_count": null,
   "metadata": {},
   "outputs": [],
   "source": [
    "import numpy as np\n",
    "import tensorflow as tf\n",
    "import hopsworks\n",
    "import spotipy\n",
    "from spotipy.oauth2 import SpotifyClientCredentials\n",
    "import pickle\n",
    "from sklearn.preprocessing import normalize\n",
    "from sklearn.metrics.pairwise import cosine_similarity\n",
    "from collections import Counter\n",
    "import time"
   ]
  },
  {
   "cell_type": "code",
   "execution_count": 6,
   "metadata": {},
   "outputs": [],
   "source": [
    "# Load credentials\n",
    "with open('../secrets/hopsworks_api_key.txt', 'r') as file:\n",
    "    HOPSWORKS_API_KEY = file.readline().strip()\n",
    "\n",
    "with open('../secrets/spotify_client_id.txt', 'r') as file:\n",
    "    SPOTIFY_CLIENT_ID = file.readline().strip()\n",
    "\n",
    "with open('../secrets/spotify_client_secret.txt', 'r') as file:\n",
    "    SPOTIFY_CLIENT_SECRET = file.readline().strip()"
   ]
  },
  {
   "cell_type": "code",
   "execution_count": 7,
   "metadata": {},
   "outputs": [
    {
     "name": "stdout",
     "output_type": "stream",
     "text": [
      "2025-01-03 08:22:49,505 WARNING: DeprecationWarning: You're using 'as_dict = True'.get_access_token will return the token string directly in future versions. Please adjust your code accordingly, or use get_cached_token instead.\n",
      "\n",
      "{'access_token': 'BQCeJy9BVHYGhGmN9rPbTWnG9sbCeUDROx9-5zxx7gf76F24tCSFdNFQVnKRqC3WnuiZvp_YQ59I1tLfnPBLS9PR6AKindsqHLph1pxP8yAY5uviMJU', 'token_type': 'Bearer', 'expires_in': 3600, 'expires_at': 1735892213}\n"
     ]
    }
   ],
   "source": [
    "client_credentials_manager = SpotifyClientCredentials(client_id=SPOTIFY_CLIENT_ID, client_secret=SPOTIFY_CLIENT_SECRET)\n",
    "sp = spotipy.Spotify(client_credentials_manager=client_credentials_manager)\n",
    "\n",
    "# Log spotify Bearer Token\n",
    "print(client_credentials_manager.get_access_token())\n"
   ]
  },
  {
   "cell_type": "code",
   "execution_count": 8,
   "metadata": {},
   "outputs": [
    {
     "name": "stdout",
     "output_type": "stream",
     "text": [
      "2025-01-03 08:22:52,366 INFO: Initializing external client\n",
      "2025-01-03 08:22:52,367 INFO: Base URL: https://c.app.hopsworks.ai:443\n",
      "2025-01-03 08:22:53,787 INFO: Python Engine initialized.\n",
      "\n",
      "Logged in to project, explore it here https://c.app.hopsworks.ai:443/p/1208515\n"
     ]
    }
   ],
   "source": [
    "# Connect to the project and feature store\n",
    "project = hopsworks.login(api_key_value=HOPSWORKS_API_KEY)\n",
    "fs = project.get_feature_store()"
   ]
  },
  {
   "cell_type": "code",
   "execution_count": 9,
   "metadata": {},
   "outputs": [
    {
     "name": "stdout",
     "output_type": "stream",
     "text": [
      "Models loaded successfully!(0 dirs, 1 files)... DONE\n"
     ]
    }
   ],
   "source": [
    "# Get the model registry\n",
    "mr = project.get_model_registry()\n",
    "\n",
    "# Retrieve the genre embedding model\n",
    "genre_model_registry = mr.get_model(\"genre_embedding_model\", version=1)\n",
    "genre_model_file_path = genre_model_registry.download()\n",
    "with open(genre_model_file_path + '/genre_embedding_model.pkl', \"rb\") as f:\n",
    "    genre_embedding_model = pickle.load(f)\n",
    "\n",
    "# Retrieve the artist embedding model\n",
    "artist_model_registry = mr.get_model(\"artist_embedding_model\", version=1)\n",
    "artist_model_file_path = artist_model_registry.download()\n",
    "with open(artist_model_file_path + '/artist_embedding_model.pkl', \"rb\") as f:\n",
    "    artist_embedding_model = pickle.load(f)\n",
    "\n",
    "# Retrieve the Keras model from the model registry\n",
    "model_registry = mr.get_model(\"two_tower_recommender\", version=1)\n",
    "model_file_path = model_registry.download()\n",
    "model = tf.keras.models.load_model(model_file_path + '/two_tower_model.keras')\n",
    "\n",
    "print(\"Models loaded successfully!\")"
   ]
  },
  {
   "cell_type": "code",
   "execution_count": null,
   "metadata": {},
   "outputs": [],
   "source": [
    "def generate_user_embedding(user_playlists, genre_embedding_model, artist_embedding_model, top_artist_count, playlists_count):\n",
    "    print(\"Generating user embedding...\")\n",
    "    all_genres = []\n",
    "    all_artists = []\n",
    "    all_release_years = []\n",
    "    playlist_features = []\n",
    "\n",
    "    for playlist in user_playlists[:playlists_count]:  # Limit to first playlists_count playlists\n",
    "        print(f\"Processing playlist: {playlist['name']}\")\n",
    "        playlist_name = playlist.get(\"name\", \"Unknown\")\n",
    "        playlist_id = playlist[\"id\"]\n",
    "\n",
    "        # Fetch tracks in the playlist\n",
    "        tracks = sp.playlist_tracks(playlist_id)[\"items\"]\n",
    "\n",
    "        print(f\"Number of tracks: {len(tracks)}\")\n",
    "\n",
    "        genres = []\n",
    "        popularity = []\n",
    "        release_years = []\n",
    "        explicit_flags = []\n",
    "        artist_names = []\n",
    "        artist_ids = []\n",
    "\n",
    "        # Collect all artist IDs for batch processing\n",
    "        for item in tracks:\n",
    "            track = item[\"track\"]\n",
    "            if not track or track[\"is_local\"]:\n",
    "                continue\n",
    "            artist_ids.append(track[\"artists\"][0][\"id\"])  # Only taking the first artist for simplicity\n",
    "            release_date = track[\"album\"][\"release_date\"]\n",
    "\n",
    "            # Extract year from release date\n",
    "            release_year = release_date.split('-')[0]\n",
    "            release_years.append(int(release_year))\n",
    "\n",
    "            popularity.append(track.get(\"popularity\", 0))\n",
    "            explicit_flags.append(track.get(\"explicit\", False))\n",
    "\n",
    "        # Batch the artist IDs for the Get Several Artists API call\n",
    "        batch_size = 50\n",
    "        artist_info = []\n",
    "        for i in range(0, len(artist_ids), batch_size):\n",
    "            batch = artist_ids[i:i + batch_size]\n",
    "            response = sp.artists(batch)\n",
    "            artist_info.extend(response[\"artists\"])\n",
    "\n",
    "        # Process artist information\n",
    "        for artist in artist_info:\n",
    "            artist_name = artist.get(\"name\", \"Unknown\")\n",
    "            track_genres = artist.get(\"genres\", [])\n",
    "\n",
    "            artist_names.append(artist_name)\n",
    "            genres.extend(track_genres)\n",
    "\n",
    "        # Playlist-level features\n",
    "        playlist_features.append({\n",
    "            \"playlist_name\": playlist_name,\n",
    "            \"num_tracks\": len(tracks),\n",
    "            \"avg_popularity\": np.mean(popularity) if popularity else 0,\n",
    "            \"explicit_ratio\": np.mean(explicit_flags) if explicit_flags else 0\n",
    "        })\n",
    "\n",
    "        all_genres.extend(genres)\n",
    "        all_artists.extend(artist_names)\n",
    "        all_release_years.extend(release_years)\n",
    "\n",
    "    # Top artist embedding\n",
    "    artist_counter = Counter(all_artists)\n",
    "    top_artists = [artist for artist, _ in artist_counter.most_common(top_artist_count)]\n",
    "    artist_embedding = np.mean(\n",
    "        [artist_embedding_model.wv[artist] for artist in top_artists if artist in artist_embedding_model.wv],\n",
    "        axis=0\n",
    "    ) if top_artists else np.zeros(100)\n",
    "\n",
    "    # Genre embedding\n",
    "    genre_vectors = [\n",
    "        genre_embedding_model.wv[genre] for genre in all_genres if genre in genre_embedding_model.wv\n",
    "    ]\n",
    "    genre_embedding = np.mean(genre_vectors, axis=0) if genre_vectors else np.zeros(100)\n",
    "\n",
    "    # Aggregated playlist embedding\n",
    "    playlist_sizes = [p[\"num_tracks\"] for p in playlist_features]\n",
    "    playlist_weights = normalize(np.array(playlist_sizes).reshape(1, -1))[0]\n",
    "    playlist_embedding = np.sum([playlist_weights[i] * genre_embedding for i in range(len(playlist_features))], axis=0)\n",
    "\n",
    "    # Release year embedding\n",
    "    release_year_embedding = np.array([np.mean(all_release_years)])\n",
    "\n",
    "    print(\"User embedding generated successfully!\")\n",
    "    print(\"Genre embedding shape:\", genre_embedding.shape)\n",
    "    print(\"Artist embedding shape:\", artist_embedding.shape)\n",
    "    print(\"Playlist embedding shape:\", playlist_embedding.shape)\n",
    "    print(\"Release year embedding shape:\", release_year_embedding.shape)\n",
    "\n",
    "    # Return individual embeddings\n",
    "    return genre_embedding, artist_embedding, playlist_embedding, release_year_embedding"
   ]
  },
  {
   "cell_type": "code",
   "execution_count": 13,
   "metadata": {},
   "outputs": [],
   "source": [
    "# Inference function\n",
    "def get_best_matching_user(user_id, genre_embedding_model, artist_embedding_model, top_artist_count, playlists_count):\n",
    "    # Fetch user playlists\n",
    "    playlists = sp.user_playlists(user_id)[\"items\"]\n",
    "    if not playlists:\n",
    "        print(f\"No playlists found for user {user_id}\")\n",
    "        return None\n",
    "\n",
    "    # Generate the user's embedding\n",
    "    genre_embedding, artist_embedding, playlist_embedding, release_year_embedding = generate_user_embedding(\n",
    "        playlists, genre_embedding_model, artist_embedding_model, top_artist_count, playlists_count\n",
    "    )\n",
    "\n",
    "    print(\"User embeddings generated successfully!\")\n",
    "\n",
    "    # Concatenate all embeddings into a single vector\n",
    "    user_embedding = np.concatenate([genre_embedding, artist_embedding, playlist_embedding, release_year_embedding])\n",
    "\n",
    "    # Get all user embeddings from the database (assuming these are already stored in the feature store)\n",
    "    user_embeddings_fg = fs.get_feature_group(name=\"spotify_user_embeddings\", version=1)\n",
    "    all_user_embeddings = user_embeddings_fg.read()\n",
    "\n",
    "    # Normalize all embeddings\n",
    "    normalized_user_embeddings = np.array(all_user_embeddings[\"normalized_embedding\"].tolist())\n",
    "    user_embedding_normalized = normalize(user_embedding.reshape(1, -1))\n",
    "\n",
    "    # Compute cosine similarity for all users\n",
    "    similarities = cosine_similarity(user_embedding_normalized, normalized_user_embeddings).flatten()\n",
    "\n",
    "    # Get the index of the most similar user\n",
    "    best_match_index = np.argmax(similarities)\n",
    "    best_match_user_id = all_user_embeddings.iloc[best_match_index][\"user_id\"]\n",
    "\n",
    "    return best_match_user_id, similarities[best_match_index]"
   ]
  },
  {
   "cell_type": "code",
   "execution_count": 27,
   "metadata": {},
   "outputs": [
    {
     "name": "stdout",
     "output_type": "stream",
     "text": [
      "Generating user embedding...\n",
      "Processing playlist: spoiled little brat\n",
      "2025-01-03 08:32:49,098 WARNING: DeprecationWarning: You should use `playlist_items(playlist_id, ...,additional_types=('track',))` instead\n",
      "\n",
      "Number of tracks: 36\n",
      "Processing playlist: ⁿᵒLoVé\n",
      "Number of tracks: 41\n",
      "Processing playlist: FAST LIFE & FAMILLE\n",
      "Number of tracks: 21\n",
      "Processing playlist: force à nous\n",
      "Number of tracks: 10\n",
      "Processing playlist: être moi\n",
      "Number of tracks: 28\n",
      "Top 5 artists: ['Oklou', 'underscores', 'Fred again..', 'Tiakola', 'Lomepal']\n",
      "2025-01-03 08:32:51,044 WARNING: RuntimeWarning: Mean of empty slice.\n",
      "\n",
      "2025-01-03 08:32:51,044 WARNING: RuntimeWarning: invalid value encountered in scalar divide\n",
      "\n",
      "User embedding generated successfully!\n",
      "Genre embedding shape: (100,)\n",
      "Artist embedding shape: ()\n",
      "Playlist embedding shape: (100,)\n",
      "Release year embedding shape: (1,)\n",
      "User embeddings generated successfully!\n"
     ]
    },
    {
     "ename": "ValueError",
     "evalue": "all the input arrays must have same number of dimensions, but the array at index 0 has 1 dimension(s) and the array at index 1 has 0 dimension(s)",
     "output_type": "error",
     "traceback": [
      "\u001b[0;31m---------------------------------------------------------------------------\u001b[0m",
      "\u001b[0;31mValueError\u001b[0m                                Traceback (most recent call last)",
      "Cell \u001b[0;32mIn[27], line 5\u001b[0m\n\u001b[1;32m      2\u001b[0m top_artist_count \u001b[38;5;241m=\u001b[39m \u001b[38;5;241m5\u001b[39m\n\u001b[1;32m      3\u001b[0m playlists_count \u001b[38;5;241m=\u001b[39m \u001b[38;5;241m5\u001b[39m\n\u001b[0;32m----> 5\u001b[0m best_match_user_id, similarity_score \u001b[38;5;241m=\u001b[39m \u001b[43mget_best_matching_user\u001b[49m\u001b[43m(\u001b[49m\u001b[43muser_id\u001b[49m\u001b[43m,\u001b[49m\u001b[43m \u001b[49m\u001b[43mgenre_embedding_model\u001b[49m\u001b[43m,\u001b[49m\u001b[43m \u001b[49m\u001b[43martist_embedding_model\u001b[49m\u001b[43m,\u001b[49m\u001b[43m \u001b[49m\u001b[43mtop_artist_count\u001b[49m\u001b[43m,\u001b[49m\u001b[43m \u001b[49m\u001b[43mplaylists_count\u001b[49m\u001b[43m)\u001b[49m\n\u001b[1;32m      7\u001b[0m \u001b[38;5;28mprint\u001b[39m(\u001b[38;5;124mf\u001b[39m\u001b[38;5;124m\"\u001b[39m\u001b[38;5;124mThe best match for user \u001b[39m\u001b[38;5;132;01m{\u001b[39;00muser_id\u001b[38;5;132;01m}\u001b[39;00m\u001b[38;5;124m is user \u001b[39m\u001b[38;5;132;01m{\u001b[39;00mbest_match_user_id\u001b[38;5;132;01m}\u001b[39;00m\u001b[38;5;124m with a similarity score of \u001b[39m\u001b[38;5;132;01m{\u001b[39;00msimilarity_score\u001b[38;5;132;01m}\u001b[39;00m\u001b[38;5;124m\"\u001b[39m)\n",
      "Cell \u001b[0;32mIn[13], line 17\u001b[0m, in \u001b[0;36mget_best_matching_user\u001b[0;34m(user_id, genre_embedding_model, artist_embedding_model, top_artist_count, playlists_count)\u001b[0m\n\u001b[1;32m     14\u001b[0m \u001b[38;5;28mprint\u001b[39m(\u001b[38;5;124m\"\u001b[39m\u001b[38;5;124mUser embeddings generated successfully!\u001b[39m\u001b[38;5;124m\"\u001b[39m)\n\u001b[1;32m     16\u001b[0m \u001b[38;5;66;03m# Concatenate all embeddings into a single vector\u001b[39;00m\n\u001b[0;32m---> 17\u001b[0m user_embedding \u001b[38;5;241m=\u001b[39m \u001b[43mnp\u001b[49m\u001b[38;5;241;43m.\u001b[39;49m\u001b[43mconcatenate\u001b[49m\u001b[43m(\u001b[49m\u001b[43m[\u001b[49m\u001b[43mgenre_embedding\u001b[49m\u001b[43m,\u001b[49m\u001b[43m \u001b[49m\u001b[43martist_embedding\u001b[49m\u001b[43m,\u001b[49m\u001b[43m \u001b[49m\u001b[43mplaylist_embedding\u001b[49m\u001b[43m,\u001b[49m\u001b[43m \u001b[49m\u001b[43mrelease_year_embedding\u001b[49m\u001b[43m]\u001b[49m\u001b[43m)\u001b[49m\n\u001b[1;32m     19\u001b[0m \u001b[38;5;66;03m# Get all user embeddings from the database (assuming these are already stored in the feature store)\u001b[39;00m\n\u001b[1;32m     20\u001b[0m user_embeddings_fg \u001b[38;5;241m=\u001b[39m fs\u001b[38;5;241m.\u001b[39mget_feature_group(name\u001b[38;5;241m=\u001b[39m\u001b[38;5;124m\"\u001b[39m\u001b[38;5;124mspotify_user_embeddings\u001b[39m\u001b[38;5;124m\"\u001b[39m, version\u001b[38;5;241m=\u001b[39m\u001b[38;5;241m1\u001b[39m)\n",
      "\u001b[0;31mValueError\u001b[0m: all the input arrays must have same number of dimensions, but the array at index 0 has 1 dimension(s) and the array at index 1 has 0 dimension(s)"
     ]
    }
   ],
   "source": [
    "user_id = \"minifixiowow\"\n",
    "top_artist_count = 5\n",
    "playlists_count = 5\n",
    "\n",
    "best_match_user_id, similarity_score = get_best_matching_user(user_id, genre_embedding_model, artist_embedding_model, top_artist_count, playlists_count)\n",
    "\n",
    "print(f\"The best match for user {user_id} is user {best_match_user_id} with a similarity score of {similarity_score}\")"
   ]
  }
 ],
 "metadata": {
  "kernelspec": {
   "display_name": "Python 3",
   "language": "python",
   "name": "python3"
  },
  "language_info": {
   "codemirror_mode": {
    "name": "ipython",
    "version": 3
   },
   "file_extension": ".py",
   "mimetype": "text/x-python",
   "name": "python",
   "nbconvert_exporter": "python",
   "pygments_lexer": "ipython3",
   "version": "3.10.13"
  }
 },
 "nbformat": 4,
 "nbformat_minor": 2
}
